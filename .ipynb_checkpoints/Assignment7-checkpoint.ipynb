{
 "cells": [
  {
   "cell_type": "code",
   "execution_count": 3,
   "id": "3b60991f",
   "metadata": {},
   "outputs": [],
   "source": [
    "import shutil\n",
    "import os\n",
    "import zipfile\n",
    "# import rarfile\n",
    "import patoolib\n",
    "from pyunpack import Archive"
   ]
  },
  {
   "cell_type": "code",
   "execution_count": 2,
   "id": "24a4ad91",
   "metadata": {},
   "outputs": [
    {
     "data": {
      "text/plain": [
       "'C:\\\\Users\\\\HP\\\\Desktop'"
      ]
     },
     "execution_count": 2,
     "metadata": {},
     "output_type": "execute_result"
    }
   ],
   "source": [
    "#os.chdir('..')\n",
    "os.getcwd()"
   ]
  },
  {
   "cell_type": "code",
   "execution_count": 3,
   "id": "ee4d5ac1",
   "metadata": {},
   "outputs": [],
   "source": [
    "with zipfile.ZipFile('Assignment7a.zip','r') as myzip:\n",
    "    myzip.extractall('Assignment7a')"
   ]
  },
  {
   "cell_type": "code",
   "execution_count": 3,
   "id": "4c2ac0c5",
   "metadata": {},
   "outputs": [],
   "source": [
    "os.chdir('Assignment7a\\Assignment 7 part 1')"
   ]
  },
  {
   "cell_type": "code",
   "execution_count": 6,
   "id": "ca9508df",
   "metadata": {},
   "outputs": [
    {
     "data": {
      "text/plain": [
       "'C:\\\\Users\\\\HP\\\\Desktop\\\\Assignment7a\\\\Assignment 7 part 1'"
      ]
     },
     "execution_count": 6,
     "metadata": {},
     "output_type": "execute_result"
    }
   ],
   "source": [
    "path=os.getcwd()\n",
    "path"
   ]
  },
  {
   "cell_type": "code",
   "execution_count": 6,
   "id": "99303028",
   "metadata": {},
   "outputs": [
    {
     "name": "stdout",
     "output_type": "stream",
     "text": [
      "Current Path: C:\\Users\\HP\\Desktop\\Assignment7a\\Assignment 7 part 1\n",
      "Directories: []\n",
      "Files: ['19I-1696.zip', 'I191664.zip', 'i191706.zip', 'i191714.zip', 'i191716_N.zip', 'i191763_N.zip', 'i191867.zip', 'i191886.zip', 'i200567.zip', 'i200583.zip', 'i200613.zip', 'i200626(1).zip', 'i200626.zip', 'i200658.rar', 'i200667.zip', 'i200676_dsn_ass7.zip', 'i200677.zip', 'i200682.rar', 'i200693(1).zip', 'i200693.zip', 'i200695.zip', 'i200697(1).zip', 'i200697(2).zip', 'i200697.zip', 'i200709(1).zip', 'i200709(2).zip', 'i200709.zip', 'i200757.zip', 'i200844(1).zip', 'i200844.zip', 'i200894.zip', 'i200927.zip', 'i201783.zip', 'i201787(1).zip', 'i201787.zip', 'i201853_A7_Part1.zip', 'i202416(1).zip', 'i202416.zip', 'i202446.zip', 'i202454.zip', 'i202478.zip', 'i202651(1).zip', 'i202651.zip', 'i202652.zip', 'i202653.zip', 'i202654.zip', 'i202656.zip', 'i202658.zip']\n",
      "\n"
     ]
    }
   ],
   "source": [
    "for dirpath,dirnames,filenames in os.walk(path):\n",
    "    print('Current Path:',dirpath)\n",
    "    print('Directories:',dirnames)\n",
    "    print('Files:',filenames)\n",
    "    print()"
   ]
  },
  {
   "cell_type": "code",
   "execution_count": 7,
   "id": "143c3f03",
   "metadata": {},
   "outputs": [],
   "source": [
    "for dirpath,dirnames,filenames in os.walk(path):\n",
    "    for file in filenames:\n",
    "        if file[-3:]=='zip':\n",
    "            with zipfile.ZipFile(file,'r') as myzip:\n",
    "                x=myzip.namelist()\n",
    "                if '/' in x[0]:\n",
    "                    if 'New folder' in x[0]:\n",
    "                        myzip.extractall()\n",
    "                        os.rename('New folder',file[:-4])\n",
    "                    elif 'Assignment 7' in x[0]:\n",
    "                        myzip.extractall()\n",
    "                        os.rename('Assignment 7',file[:-4])\n",
    "                    else:\n",
    "                        myzip.extractall()\n",
    "                else:\n",
    "                    myzip.extractall(file[:-4])      \n",
    "        if file[-3:]=='rar':\n",
    "            Archive(file).extractall(path)"
   ]
  },
  {
   "cell_type": "code",
   "execution_count": 8,
   "id": "7f6b0a5e",
   "metadata": {},
   "outputs": [
    {
     "data": {
      "text/plain": [
       "'C:\\\\Users\\\\HP\\\\Desktop\\\\Assignment7a'"
      ]
     },
     "execution_count": 8,
     "metadata": {},
     "output_type": "execute_result"
    }
   ],
   "source": [
    "os.chdir('..')\n",
    "os.getcwd()"
   ]
  },
  {
   "cell_type": "code",
   "execution_count": 10,
   "id": "7164ee0d",
   "metadata": {},
   "outputs": [
    {
     "name": "stdout",
     "output_type": "stream",
     "text": [
      "['19I-1664', '19I-1696', 'i191706', 'i191714', 'i191716_N', 'i191763_N', 'i191867', 'i191886', 'i200567', 'i200583', 'i200613', 'i200626', 'i200658', 'i200667', 'i200676_dsn_ass7', 'i200677', 'i200682', 'i200693(1)', 'i200695', 'i200697', 'i200709(2)', 'i200757', 'i200844', 'i200894', 'i200927', 'i201783', 'i201787', 'i201853_A7_Part1', 'i202416', 'i202446', 'i202454', 'i202478', 'i202651(1)', 'i202652', 'i202653', 'i202654', 'i202656', 'i202658']\n"
     ]
    }
   ],
   "source": [
    "for dirpath,dirnames,filenames in os.walk(path):\n",
    "    directories=dirnames\n",
    "    break\n",
    "\n",
    "for d in directories:\n",
    "    if os.path.isdir(f'Assignment 7 part 1/{d}/{d}'):\n",
    "        os.rename(f'Assignment 7 part 1/{d}/{d}', f'Assignment 7 part 1/{d}/{d}i')\n",
    "        shutil.move(f'Assignment 7 part 1/{d}/{d}i', f'Assignment 7 part 1')\n",
    "        shutil.rmtree(f'Assignment 7 part 1/{d}')\n",
    "        \n",
    "    if os.path.isdir(f'Assignment 7 part 1/{d}/19I-1664'): #special case for the roll number\n",
    "        shutil.move(f'Assignment 7 part 1/{d}/19I-1664', f'Assignment 7 part 1/')\n",
    "        shutil.rmtree(f'Assignment 7 part 1/{d}')\n",
    "        \n",
    "    if d[-3:] == '(2)':\n",
    "        try:\n",
    "            shutil.rmtree(f'Assignment 7 part 1/{d[:-3]}(1)')\n",
    "            shutil.rmtree(f'Assignment 7 part 1/{d[:-3]}')\n",
    "            \n",
    "            os.rename(f'Assignment 7 part 1/{d}/{d[:-3]}', f'Assignment 7 part 1/{d}/{d[:-3]}i')\n",
    "            shutil.move(f'Assignment 7 part 1/{d}/{d[:-3]}i', f'Assignment 7 part 1')\n",
    "            shutil.rmtree(f'Assignment 7 part 1/{d}')\n",
    "        except:\n",
    "            do_nothing=False\n",
    "             \n",
    "    elif d[-3:] == '(1)':\n",
    "        try:\n",
    "            shutil.rmtree(f'Assignment 7 part 1/{d[:-3]}')\n",
    "            os.rename(f'Assignment 7 part 1/{d}/{d[:-3]}', f'Assignment 7 part 1/{d}/{d[:-3]}i')\n",
    "            shutil.move(f'Assignment 7 part 1/{d}/{d[:-3]}i', f'Assignment 7 part 1')\n",
    "            shutil.rmtree(f'Assignment 7 part 1/{d}')\n",
    "        except:\n",
    "            do_nothing=False\n",
    "for dirpath,dirnames,filenames in os.walk(path):\n",
    "    directories=dirnames\n",
    "    break\n",
    "print(directories)"
   ]
  },
  {
   "cell_type": "code",
   "execution_count": 11,
   "id": "963c0312",
   "metadata": {},
   "outputs": [
    {
     "data": {
      "text/plain": [
       "'C:\\\\Users\\\\HP\\\\Desktop\\\\Assignment7a\\\\Assignment 7 part 1'"
      ]
     },
     "execution_count": 11,
     "metadata": {},
     "output_type": "execute_result"
    }
   ],
   "source": [
    "os.chdir('Assignment 7 part 1')\n",
    "os.getcwd()"
   ]
  },
  {
   "cell_type": "markdown",
   "id": "3e956653",
   "metadata": {},
   "source": [
    "# Run this code 2-3 times"
   ]
  },
  {
   "cell_type": "code",
   "execution_count": 16,
   "id": "d566138b",
   "metadata": {},
   "outputs": [
    {
     "name": "stdout",
     "output_type": "stream",
     "text": [
      "['19i1664', '19i1696', 'i191706', 'i191714', 'i191716_N', 'i191763_N', 'i191867', 'i191886', 'i200567', 'i200583', 'i200613', 'i200626', 'i200658', 'i200667', 'i200676_dsn_ass7', 'i200677', 'i200682', 'i200693(1)', 'i200695', 'i200697', 'i200709(2)', 'i200757', 'i200844', 'i200894', 'i200927', 'i201783', 'i201787', 'i201853_A7_Part1', 'i202416', 'i202446', 'i202454', 'i202478', 'i202651(1)', 'i202652', 'i202653', 'i202654', 'i202656', 'i202658']\n"
     ]
    }
   ],
   "source": [
    "for dirpath,dirnames,filenames in os.walk(path):\n",
    "    directories=dirnames\n",
    "    break\n",
    "\n",
    "for d in directories:\n",
    "    if 'I' in d:\n",
    "        x=d\n",
    "        x=x.replace('I','i')\n",
    "        os.rename(d,x)\n",
    "    elif '-' in d:\n",
    "        x=d\n",
    "        y=x.replace('-','')\n",
    "        os.rename(x,y)\n",
    "for dirpath,dirnames,filenames in os.walk(path):\n",
    "    directories=dirnames\n",
    "    break\n",
    "print(directories)"
   ]
  },
  {
   "cell_type": "code",
   "execution_count": 17,
   "id": "0113dd98",
   "metadata": {},
   "outputs": [
    {
     "name": "stdout",
     "output_type": "stream",
     "text": [
      "['19i1664', '19i1696', 'i191706', 'i191714', 'i191716_N', 'i191763_N', 'i191867', 'i191886', 'i200567', 'i200583', 'i200613', 'i200626', 'i200658', 'i200667', 'i200676_dsn_ass7', 'i200677', 'i200682', 'i200693(1)', 'i200695', 'i200697', 'i200709(2)', 'i200757', 'i200844', 'i200894', 'i200927', 'i201783', 'i201787', 'i201853_A7_Part1', 'i202416', 'i202446', 'i202454', 'i202478', 'i202651(1)', 'i202652', 'i202653', 'i202654', 'i202656', 'i202658']\n"
     ]
    }
   ],
   "source": [
    "for dirpath,dirnames,filenames in os.walk(path):\n",
    "    directories=dirnames\n",
    "    break\n",
    "print(directories)"
   ]
  },
  {
   "cell_type": "code",
   "execution_count": 18,
   "id": "92aa9126",
   "metadata": {},
   "outputs": [
    {
     "data": {
      "text/plain": [
       "'C:\\\\Users\\\\HP\\\\Desktop\\\\Assignment7a\\\\Assignment 7 part 1'"
      ]
     },
     "execution_count": 18,
     "metadata": {},
     "output_type": "execute_result"
    }
   ],
   "source": [
    "os.getcwd()"
   ]
  },
  {
   "cell_type": "markdown",
   "id": "37e2879b",
   "metadata": {},
   "source": [
    "# Run this code 2-3 times"
   ]
  },
  {
   "cell_type": "code",
   "execution_count": 22,
   "id": "bec339c0",
   "metadata": {},
   "outputs": [
    {
     "name": "stdout",
     "output_type": "stream",
     "text": [
      "['19i1664', '19i1696', 'i191706', 'i191714', 'i191716', 'i191763', 'i191867', 'i191886', 'i200567', 'i200583', 'i200613', 'i200626', 'i200658', 'i200667', 'i200676', 'i200677', 'i200682', 'i200693', 'i200695', 'i200697', 'i200709', 'i200757', 'i200844', 'i200894', 'i200927', 'i201783', 'i201787', 'i201853', 'i202416', 'i202446', 'i202454', 'i202478', 'i202651', 'i202652', 'i202653', 'i202654', 'i202656', 'i202658']\n"
     ]
    }
   ],
   "source": [
    "for dirpath,dirnames,filenames in os.walk(path):\n",
    "    directories=dirnames\n",
    "    print(directories)\n",
    "    break\n",
    "for d in directories:\n",
    "    if d != d[0:7]:\n",
    "        os.rename(d,d[0:7])"
   ]
  },
  {
   "cell_type": "code",
   "execution_count": 23,
   "id": "8e1993b8",
   "metadata": {},
   "outputs": [
    {
     "name": "stdout",
     "output_type": "stream",
     "text": [
      "['19i1664', '19i1696', 'i191706', 'i191714', 'i191716', 'i191763', 'i191867', 'i191886', 'i200567', 'i200583', 'i200613', 'i200626', 'i200658', 'i200667', 'i200676', 'i200677', 'i200682', 'i200693', 'i200695', 'i200697', 'i200709', 'i200757', 'i200844', 'i200894', 'i200927', 'i201783', 'i201787', 'i201853', 'i202416', 'i202446', 'i202454', 'i202478', 'i202651', 'i202652', 'i202653', 'i202654', 'i202656', 'i202658']\n"
     ]
    }
   ],
   "source": [
    "for dirpath,dirnames,filenames in os.walk(path):\n",
    "    directories=dirnames\n",
    "    break\n",
    "print(directories)"
   ]
  },
  {
   "cell_type": "code",
   "execution_count": 24,
   "id": "e68205b2",
   "metadata": {},
   "outputs": [
    {
     "data": {
      "text/plain": [
       "'C:\\\\Users\\\\HP\\\\Desktop\\\\Assignment7a\\\\Assignment 7 part 1'"
      ]
     },
     "execution_count": 24,
     "metadata": {},
     "output_type": "execute_result"
    }
   ],
   "source": [
    "os.getcwd()"
   ]
  },
  {
   "cell_type": "code",
   "execution_count": 26,
   "id": "5332e21d",
   "metadata": {},
   "outputs": [],
   "source": [
    "count=0\n",
    "for dirpath,dirnames,filenames in os.walk(path):\n",
    "    if count>=1:\n",
    "        cp=dirpath\n",
    "        files=filenames\n",
    "        os.chdir(cp[-7:])\n",
    "        for file in files:\n",
    "            if 'ac' in file[:2] :\n",
    "                x=file\n",
    "                x=x.replace('ac','A.C')\n",
    "                os.rename(file,x)\n",
    "                                                 \n",
    "            if 'tv' in file[:2] :\n",
    "                x=file\n",
    "                x=x.replace('t.v','T.V')\n",
    "                try:\n",
    "                    os.rename(file,x)\n",
    "                except:\n",
    "                    noprob=True\n",
    "                    \n",
    "            if 'tv' in file[:2] :\n",
    "                x=file\n",
    "                x=x.replace('tv','T.V')\n",
    "                try:\n",
    "                    os.rename(file,x)\n",
    "                except:\n",
    "                    noprob=True\n",
    "                \n",
    "            if 'TV' in file[:2] :\n",
    "                x=file\n",
    "                x=x.replace('TV','T.V')\n",
    "                try:\n",
    "                    os.rename(file,x)\n",
    "                except:\n",
    "                    noprob=True\n",
    "                    \n",
    "            if 'AC' in file[:2] :\n",
    "                x=file\n",
    "                x=x.replace('AC','A.C')\n",
    "                try:\n",
    "                    os.rename(file,x)\n",
    "                except:\n",
    "                    noprob=True\n",
    "            if 'a.c' in file[:3] or 't.v' in file[:3]:\n",
    "                x=file\n",
    "                x=x.replace('t.v','T.v')\n",
    "                os.rename(file,x)\n",
    "        \n",
    "            if '_' in file:\n",
    "                x=file\n",
    "                x=x.replace('_',' ')\n",
    "                try:\n",
    "                    os.rename(file,x)\n",
    "                except:\n",
    "                    noprob=True\n",
    "                    \n",
    "            if 'Ruha' in file or 'ruha' in file:\n",
    "                try:\n",
    "                    os.rename(file,file[5:])\n",
    "                except:\n",
    "                    noprob=True\n",
    "        os.chdir('..')\n",
    "    count=count+1"
   ]
  },
  {
   "cell_type": "code",
   "execution_count": 27,
   "id": "01291d72",
   "metadata": {},
   "outputs": [
    {
     "name": "stdout",
     "output_type": "stream",
     "text": [
      "['19I-1696.zip', 'I191664.zip', 'i191706.zip', 'i191714.zip', 'i191716_N.zip', 'i191763_N.zip', 'i191867.zip', 'i191886.zip', 'i200567.zip', 'i200583.zip', 'i200613.zip', 'i200626(1).zip', 'i200626.zip', 'i200658.rar', 'i200667.zip', 'i200676_dsn_ass7.zip', 'i200677.zip', 'i200682.rar', 'i200693(1).zip', 'i200693.zip', 'i200695.zip', 'i200697(1).zip', 'i200697(2).zip', 'i200697.zip', 'i200709(1).zip', 'i200709(2).zip', 'i200709.zip', 'i200757.zip', 'i200844(1).zip', 'i200844.zip', 'i200894.zip', 'i200927.zip', 'i201783.zip', 'i201787(1).zip', 'i201787.zip', 'i201853_A7_Part1.zip', 'i202416(1).zip', 'i202416.zip', 'i202446.zip', 'i202454.zip', 'i202478.zip', 'i202651(1).zip', 'i202651.zip', 'i202652.zip', 'i202653.zip', 'i202654.zip', 'i202656.zip', 'i202658.zip']\n",
      "\n",
      "['A.C ahista karo.mp3', 'A.C band karo.mp3', 'A.C chlao.mp3', 'A.C fast karo.mp3', 'A.C off karo.mp3', 'A.C on karo.mp3', 'A.C slow karo.mp3', 'A.C tez karo.mp3', 'Agla channel lagao.mp3', 'Agla Gaana lagao.mp3', 'Agla Song lagao.mp3', 'Bathroom ka Bulb band karo.mp3', 'Bathroom ka Bulb jalao.mp3', 'Bathroom ka Bulb on karo.mp3', 'Bathroom ki Light band karo.mp3', 'Bathroom ki Light jalao.mp3', 'Bathroom ki Light off karo.mp3', 'Bathroom ki Light on karo.mp3', 'Bedroom ka Bulb band karo.mp3', 'Bedroom ka Bulb jalao.mp3', 'Bedroom ka Bulb off karo.mp3', 'Bedroom ka Bulb on karo.mp3', 'Bedroom ki Light band karo.mp3', 'Bedroom ki Light jalao.mp3', 'Bedroom ki Light on karo.mp3', 'Bethaq ka Bulb band karo.mp3', 'Bethaq ka Bulb jalao.mp3', 'Bethaq ka Bulb off karo.mp3', 'Bethaq ka Bulb on karo.mp3', 'Bethaq ki Light band karo.mp3', 'Bethaq ki Light jalao.mp3', 'Bethaq ki Light off karo.mp3', 'Bethaq ki Light on karo.mp3', 'Gaaney lagao.mp3', 'Garage ka Bulb band karo.mp3', 'Garage ka Bulb jalao.mp3', 'Garage ka Bulb on karo.mp3', 'Garage ki Light band karo.mp3', 'Garage ki Light jalao.mp3', 'Garage ki Light off karo.mp3', 'Garage ki Light on karo.mp3', 'Kitchen ka Bulb band karo.mp3', 'Kitchen ka Bulb jalao.mp3', 'Kitchen ka Bulb on karo.mp3', 'Kitchen ki Light band karo.mp3', 'Kitchen ki Light jalao.mp3', 'Kitchen ki Light off karo.mp3', 'Kitchen ki Light on karo.mp3', 'Lounge ka Bulb band karo.mp3', 'Lounge ka Bulb jalao.mp3', 'Lounge ka Bulb on karo.mp3', 'Lounge ki Light band karo.mp3', 'Lounge ki Light jalao.mp3', 'Lounge ki Light off karo.mp3', 'Lounge ki Light on karo.mp3', 'Next channel lagao.mp3', 'Next Gaana lagao.mp3', 'Next Song lagao.mp3', 'Pichla channel lagao.mp3', 'Pichla Gaana lagao.mp3', 'Pichla Song lagao.mp3', 'Previous channel lagao.mp3', 'Previous Gaana lagao.mp3', 'Previous Song lagao.mp3', 'Songs lagao.mp3', 'T.V band karo.mp3', 'T.V chlao.mp3', 'T.V ka volume ahista karo.mp3', 'T.V ka volume kum karo.mp3', 'T.V ka volume slow karo.mp3', 'T.V ka volume tez karo.mp3', 'T.V ka volume ziada karo.mp3', 'T.V ki awaz ahista karo.mp3', 'T.V ki awaz kum karo.mp3', 'T.V ki awaz slow karo.mp3', 'T.V ki awaz tez karo.mp3', 'T.V ki awaz ziada karo.mp3', 'T.V mute karo.mp3', 'T.V off karo.mp3', 'T.V on karo.mp3', 'T.V par ARY Digital lagao.mp3', 'T.V par ARY news lagao.mp3', 'T.V par cartoon network lagao.mp3', 'T.V par discovery lagao.mp3', 'T.V par HBO lagao.mp3', 'T.V par HUM TV lagao.mp3', 'T.V par jeo news lagao.mp3', 'T.V par Masla TV lagao.mp3', 'T.V par Q-TV lagao.mp3', 'T.V par samaa news lagao.mp3', 'T.V unmute karo.mp3', 'Washroom ka Bulb band karo.mp3', 'Washroom ka Bulb jalao.mp3', 'Washroom ka Bulb off karo.mp3', 'Washroom ka Bulb on karo.mp3', 'Washroom ki Light band karo.mp3', 'Washroom ki Light jalao.mp3', 'Washroom ki Light on karo.mp3']\n",
      "\n",
      "['A.C ahista karo.mp3', 'A.C band karo.mp3', 'A.C chlao.mp3', 'A.C fast karo.mp3', 'A.C off karo.mp3', 'A.C on karo.mp3', 'A.C slow karo.mp3', 'A.C tez karo.mp3', 'Agla channel lagao.mp3', 'Agla Gaana lagao.mp3', 'Agla Song lagao.mp3', 'Bathroom ka Bulb band karo.mp3', 'Bathroom ka Bulb jalao.mp3', 'Bathroom ka Bulb on karo.mp3', 'Bathroom ki Light band karo.mp3', 'Bathroom ki Light jalao.mp3', 'Bathroom ki Light off karo.mp3', 'Bathroom ki Light on karo.mp3', 'Bedroom ka Bulb band karo.mp3', 'Bedroom ka Bulb jalao.mp3', 'Bedroom ka Bulb off karo.mp3', 'Bedroom ka Bulb on karo.mp3', 'Bedroom ki Light band karo.mp3', 'Bedroom ki Light jalao.mp3', 'Bedroom ki Light on karo.mp3', 'Bethaq ka Bulb band karo.mp3', 'Bethaq ka Bulb jalao.mp3', 'Bethaq ka Bulb off karo.mp3', 'Bethaq ka Bulb on karo.mp3', 'Bethaq ki Light band karo.mp3', 'Bethaq ki Light jalao.mp3', 'Bethaq ki Light off karo.mp3', 'Bethaq ki Light on karo.mp3', 'Gaaney lagao.mp3', 'Garage ka Bulb band karo.mp3', 'Garage ka Bulb jalao.mp3', 'Garage ka Bulb on karo.mp3', 'Garage ki Light band karo.mp3', 'Garage ki Light jalao.mp3', 'Garage ki Light off karo.mp3', 'Garage ki Light on karo.mp3', 'Kitchen ka Bulb band karo.mp3', 'Kitchen ka Bulb jalao.mp3', 'Kitchen ka Bulb on karo.mp3', 'Kitchen ki Light band karo.mp3', 'Kitchen ki Light jalao.mp3', 'Kitchen ki Light off karo.mp3', 'Kitchen ki Light on karo.mp3', 'Lounge ka Bulb band karo.mp3', 'Lounge ka Bulb jalao.mp3', 'Lounge ka Bulb on karo.mp3', 'Lounge ki Light band karo.mp3', 'Lounge ki Light jalao.mp3', 'Lounge ki Light off karo.mp3', 'Lounge ki Light on karo.mp3', 'Next channel lagao.mp3', 'Next Gaana lagao.mp3', 'Next Song lagao.mp3', 'Pichla channel lagao.mp3', 'Pichla Gaana lagao.mp3', 'Pichla Song lagao.mp3', 'Previous channel lagao.mp3', 'Previous Gaana lagao.mp3', 'Previous Song lagao.mp3', 'Songs lagao.mp3', 'T.V band karo.mp3', 'T.V chlao.mp3', 'T.V ka volume ahista karo.mp3', 'T.V ka volume kum karo.mp3', 'T.V ka volume slow karo.mp3', 'T.V ka volume tez karo.mp3', 'T.V ka volume ziada karo.mp3', 'T.V ki awaz ahista karo.mp3', 'T.V ki awaz kum karo.mp3', 'T.V ki awaz slow karo.mp3', 'T.V ki awaz tez karo.mp3', 'T.V ki awaz ziada karo.mp3', 'T.V mute karo.mp3', 'T.V off karo.mp3', 'T.V on karo.mp3', 'T.V par ARY Digital lagao.mp3', 'T.V par ARY news lagao.mp3', 'T.V par cartoon network lagao.mp3', 'T.V par discovery lagao.mp3', 'T.V par HBO lagao.mp3', 'T.V par HUM TV lagao.mp3', 'T.V par jeo news lagao.mp3', 'T.V par Masla TV lagao.mp3', 'T.V par Q-TV lagao.mp3', 'T.V par samaa news lagao.mp3', 'T.V unmute karo.mp3', 'Washroom ka Bulb band karo.mp3', 'Washroom ka Bulb jalao.mp3', 'Washroom ka Bulb off karo.mp3', 'Washroom ka Bulb on karo.mp3', 'Washroom ki Light band karo.mp3', 'Washroom ki Light jalao.mp3', 'Washroom ki Light on karo.mp3']\n",
      "\n",
      "['A.C ahista karo.mp3', 'A.C band karo.mp3', 'A.C chalao.mp3', 'A.C fast karo.mp3', 'A.C off karo.mp3', 'A.C on karo.mp3', 'A.C slow karo.mp3', 'A.C tez karo.mp3', 'Agla channel lagao.mp3', 'Agla Gaana lagao.mp3', 'Agla Song lagao.mp3', 'Bathroom ka Bulb band karo.mp3', 'Bathroom ka Bulb jalao.mp3', 'Bathroom ka Bulb off Karo.mp3', 'Bathroom ka Bulb on karo.mp3', 'Bathroom ki Light band karo.mp3', 'Bathroom ki Light jalao.mp3', 'Bathroom ki Light off karo.mp3', 'Bathroom ki Light on karo.mp3', 'Bedroom ka Bulb band karo.mp3', 'Bedroom ka Bulb jalao.mp3', 'Bedroom ka Bulb off karo.mp3', 'Bedroom ka Bulb on karo.mp3', 'Bedroom ki Light band karo.mp3', 'Bedroom ki Light jalao.mp3', 'Bedroom ki Light off Karo.mp3', 'Bedroom ki Light on karo.mp3', 'Bethaq ka Bulb band karo.mp3', 'Bethaq ka Bulb jalao.mp3', 'Bethaq ka Bulb off karo.mp3', 'Bethaq ka Bulb on karo.mp3', 'Bethaq ki Light band karo.mp3', 'bethaq ki Light jalao.mp3', 'Bethaq ki Light off Karo.mp3', 'Bethaq ki Light on karo.mp3', 'Gaaney lagao.mp3', 'Garage ka Bulb band karo.mp3', 'Garage ka Bulb jalao.mp3', 'Garage ka Bulb off karo.mp3', 'Garage ka Bulb on karo.mp3', 'Garage ki Light band karo.mp3', 'Garage ki Light jalao.mp3', 'Garage ki Light off karo.mp3', 'Garage ki Light on karo.mp3', 'Kitchen ka Bulb band karo.mp3', 'kitchen ka Bulb jalao.mp3', 'Kitchen ka Bulb off karo.mp3', 'Kitchen ka Bulb on karo.mp3', 'Kitchen ki Light band karo.mp3', 'Kitchen ki Light jalao.mp3', 'kitchen ki Light off Karo.mp3', 'Kitchen ki Light on Karo.mp3', 'Lounge ka Bulb band karo.mp3', 'Lounge ka Bulb jalao.mp3', 'Lounge ka Bulb off karo.mp3', 'Lounge ka Bulb on karo.mp3', 'Lounge ki Light band karo.mp3', 'Lounge ki Light jalao.mp3', 'Lounge ki Light off karo.mp3', 'Lounge ki Light on karo.mp3', 'Next channel lagao.mp3', 'Next Gaana lagao.mp3', 'Next Song lagao.mp3', 'Pichla channel lagao.mp3', 'Pichla Gaana lagao.mp3', 'Pichla Song lagao.mp3', 'Previous channel lagao.mp3', 'Previous Gaana lagao.mp3', 'Previous Song lagao.mp3', 'Songs lagao.mp3', 'T.V band karo.mp3', 'T.V chlao.mp3', 'T.V ka volume ahista karo.mp3', 'T.V ka volume kum karo.mp3', 'T.V ka volume slow karo.mp3', 'T.V ka volume tez karo.mp3', 'T.V ka volume ziada karo.mp3', 'T.V ki awaz ahista karo.mp3', 'T.V ki awaz kum karo.mp3', 'T.V ki awaz slow karo.mp3', 'T.V ki awaz tez karo.mp3', 'T.V ki awaz ziada karo.mp3', 'T.V mute karo.mp3', 'T.V off karo.mp3', 'T.V on karo.mp3', 'T.V par ARY Digital lagao.mp3', 'T.V par ARY news lagao.mp3', 'T.V par cartoon network lagao.mp3', 'T.V par discovery lagao.mp3', 'T.V par HBO lagao.mp3', 'T.V par HUM T.V lagao.mp3', 'T.V par jeo news lagao.mp3', 'T.V par Masala T.V lagao.mp3', 'T.V par Q-T.V lagao.mp3', 'T.V par samaa news lagao.mp3', 'T.V unmute karo.mp3', 'Washroom ka Bulb band karo.mp3', 'Washroom ka Bulb jalao.mp3', 'Washroom ka Bulb off karo.mp3', 'Washroom ka Bulb on karo.mp3', 'Washroom ki Light band karo.mp3', 'Washroom ki Light jalao.mp3', 'Washroom ki light off karo.mp3', 'Washroom ki Light on karo.mp3']\n",
      "\n",
      "['A.C ahista karo.mp3', 'A.C band karo.mp3', 'A.C chlao.mp3', 'A.C fast karo.mp3', 'A.C off karo.mp3', 'A.C on karo.mp3', 'A.C slow karo.mp3', 'A.C tez karo.mp3', 'Agla channel lagao.mp3', 'Agla Gaana lagao.mp3', 'Agla Song lagao.mp3', 'Bathroom ka Bulb band karo.mp3', 'Bathroom ka Bulb jalao.mp3', 'Bathroom ka Bulb off karo.mp3', 'Bathroom ka Bulb on karo.mp3', 'Bathroom ki Light band karo.mp3', 'Bathroom ki Light jalao.mp3', 'Bathroom ki Light off karo.mp3', 'Bathroom ki Light on karo.mp3', 'Bedroom ka Bulb band karo.mp3', 'Bedroom ka Bulb jalao.mp3', 'Bedroom ka Bulb off karo.mp3', 'Bedroom ka Bulb on karo.mp3', 'Bedroom ki Light band karo.mp3', 'Bedroom ki Light jalao.mp3', 'Bedroom ki Light off karo.mp3', 'Bedroom ki Light on karo.mp3', 'Bethaq ka Bulb band karo.mp3', 'Bethaq ka Bulb jalao.mp3', 'Bethaq ka Bulb off karo.mp3', 'Bethaq ka Bulb on karo.mp3', 'Bethaq ki Light band karo.mp3', 'Bethaq ki Light jalao.mp3', 'Bethaq ki Light off karo.mp3', 'Bethaq ki Light on karo.mp3', 'Gaaney lagao.mp3', 'Garage ka Bulb band karo.mp3', 'Garage ka Bulb jalao.mp3', 'Garage ka Bulb off karo.mp3', 'Garage ka Bulb on karo.mp3', 'Garage ki Light band karo.mp3', 'Garage ki Light jalao.mp3', 'Garage ki Light off karo.mp3', 'Garage ki Light on karo.mp3', 'Kitchen ka Bulb band karo.mp3', 'Kitchen ka Bulb jalao.mp3', 'Kitchen ka Bulb off karo.mp3', 'Kitchen ka Bulb on karo.mp3', 'Kitchen ki Light band karo.mp3', 'Kitchen ki Light jalao.mp3', 'Kitchen ki Light off karo.mp3', 'Kitchen ki Light on karo.mp3', 'Lounge ka Bulb band karo.mp3', 'Lounge ka Bulb jalao.mp3', 'Lounge ka Bulb off karo.mp3', 'Lounge ka Bulb on karo.mp3', 'Lounge ki Light band karo.mp3', 'Lounge ki Light jalao.mp3', 'Lounge ki Light off karo.mp3', 'Lounge ki Light on karo.mp3', 'Next channel lagao.mp3', 'Next Gaana lagao.mp3', 'Next Song lagao.mp3', 'Pichla channel lagao.mp3', 'Pichla Gaana lagao.mp3', 'Pichla Song lagao.mp3', 'Previous channel lagao.mp3', 'Previous Gaana lagao.mp3', 'Previous Song lagao.mp3', 'Songs lagao.mp3', 'T.V band karo.mp3', 'T.V chlao.mp3', 'T.V ka volume ahista karo.mp3', 'T.V ka volume kum karo.mp3', 'T.V ka volume slow karo.mp3', 'T.V ka volume tez karo.mp3', 'T.V ka volume ziada karo.mp3', 'T.V ki awaz ahista karo.mp3', 'T.V ki awaz kum karo.mp3', 'T.V ki awaz slow karo.mp3', 'T.V ki awaz tez karo.mp3', 'T.V ki awaz ziada karo.mp3', 'T.V mute karo.mp3', 'T.V off karo.mp3', 'T.V on karo.mp3', 'T.V par ARY Digital lagao.mp3', 'T.V par ARY news lagao.mp3', 'T.V par cartoon network lagao.mp3', 'T.V par discovery lagao.mp3', 'T.V par HBO lagao.mp3', 'T.V par HUM TV lagao.mp3', 'T.V par jeo news lagao.mp3', 'T.V par Masla TV lagao.mp3', 'T.V par Q-TV lagao.mp3', 'T.V par samaa news lagao.mp3', 'T.V unmute karo.mp3', 'Washroom ka Bulb band karo.mp3', 'Washroom ka Bulb jalao.mp3', 'Washroom ka Bulb off karo.mp3', 'Washroom ka Bulb on karo.mp3', 'Washroom ki Light band karo.mp3', 'Washroom ki Light jalao.mp3', 'Washroom ki Light off karo.mp3', 'Washroom ki Light on karo.mp3']\n",
      "\n",
      "['A.C ahista karo.mp3', 'A.C band karo.mp3', 'A.C chalao.mp3', 'A.C fast karo.mp3', 'A.C off karo.mp3', 'A.C on karo.mp3', 'A.C slow karo.mp3', 'A.C tez karo.mp3', 'Agla channel lagao.mp3', 'Agla song lagao.mp3', 'Alga gaana lagao.mp3', 'Bathroom ka bulb band karo.mp3', 'Bathroom ka bulb jalao.mp3', 'Bathroom ka bulb off karo.mp3', 'Bathroom ka bulb on karo.mp3', 'Bathroom ki light band karo.mp3', 'Bathroom ki light jalao.mp3', 'Bathroom ki light off karo.mp3', 'Bathroom ki light on karo.mp3', 'Bedroom ka bulb band karo.mp3', 'Bedroom ka bulb jalao.mp3', 'Bedroom ka bulb off karo.mp3', 'Bedroom ka bulb on karo.mp3', 'Bedroom ki light band karo.mp3', 'Bedroom ki light jalao.mp3', 'Bedroom ki light off karo.mp3', 'Bedroom ki light on karo.mp3', 'Bethaq ka bulb band karo.mp3', 'Bethaq ka bulb jalao.mp3', 'Bethaq ka bulb off karo.mp3', 'Bethaq ka bulb on karo.mp3', 'Bethaq ki light band karo.mp3', 'Bethaq ki light jalao.mp3', 'Bethaq ki light on karo.mp3', 'Gaaney lagao.mp3', 'Garage ka bulb band karo.mp3', 'Garage ka bulb jalao.mp3', 'Garage ka bulb off karo.mp3', 'Garage ka bulb on karo.mp3', 'Garage ki light band karo.mp3', 'Garage ki light jalao.mp3', 'Garage ki light off karo.mp3', 'Garage ki light on karo.mp3', 'Kitchen ka bulb band karo.mp3', 'Kitchen ka bulb jalao.mp3', 'Kitchen ka bulb off karo.mp3', 'Kitchen ka bulb on karo.mp3', 'Kitchen ki light band karo.mp3', 'Kitchen ki light jalao.mp3', 'Kitchen ki light off karo.mp3', 'Kitchen ki light on karo.mp3', 'Lounge ka bulb band karo.mp3', 'Lounge ka bulb jalao.mp3', 'Lounge ka bulb off karo.mp3', 'Lounge ka bulb on karo.mp3', 'Lounge ki light band karo.mp3', 'Lounge ki light jalao.mp3', 'Lounge ki light off karo.mp3', 'lounge ki light on karo.mp3', 'Next channel lagao.mp3', 'Next gaana lagao.mp3', 'Next song lagao.mp3', 'Pichla channel lagao.mp3', 'Pichla gaana lagao.mp3', 'Pichla song lagao.mp3', 'Previous channel lagao.mp3', 'Previous gaana lagao.mp3', 'Previous song lagao.mp3', 'Songs lagao.mp3', 'T.V band karo.mp3', 'T.V chalao.mp3', 'T.V ki awaaz ahista karo.mp3', 'T.V ki awaaz kum karo.mp3', 'T.V ki awaaz slow karo.mp3', 'T.V ki awaaz tez karo.mp3', 'T.V ki awaaz ziada karo.mp3', 'T.V mute karo.mp3', 'T.V off karo.mp3', 'T.V on karo.mp3', 'T.V par ARY digital lagao.mp3', 'T.V par ARY news lagao.mp3', 'T.V par cartoon network lagao.mp3', 'T.V par discovery lagao.mp3', 'T.V par HBO lagao.mp3', 'T.V par HUM T.V lagao.mp3', 'T.V par Masala T.V lagao.mp3', 'T.V par Masla T.V lagao.mp3', 'T.V par Q-T.V lagao.mp3', 'T.V par sama news lagao.mp3', 'T.V pat jeo news lagao.mp3', 'T.V unmute karo.mp3', 'Wahroom ka bulb off karo.mp3', 'Washroom ka bulb band karo.mp3', 'Washroom ka bulb jalao.mp3', 'Washroom ka bulb on karo.mp3', 'Washroom ki light band karo.mp3', 'Washroom ki light jalao.mp3', 'Washroom ki light off karo.mp3', 'Washroom ki light on karo.mp3']\n",
      "\n",
      "['A.C ahista karo.mp3', 'A.C band karo.mp3', 'A.C chalao.mp3', 'A.C fast karo.mp3', 'A.C off karo.mp3', 'A.C on karo.mp3', 'A.C slow karo.mp3', 'A.C tez karo.mp3', 'agla channal lagao.mp3', 'agla gana lagao.mp3', 'agla song lagao.mp3', 'bathroom ka bulb band karo.mp3', 'bathroom ka bulb jalao.mp3', 'bathroom ka bulb off karo.mp3', 'bathroom ka bulb on karo.mp3', 'bathroom ki light band karo.mp3', 'bathroom ki light jalao.mp3', 'bathroom ki light off karo.mp3', 'bathroom ki light on karo.mp3', 'bedroom ka bulb band karo.mp3', 'bedroom ka bulb in karo.mp3', 'bedroom ka bulb jalao.mp3', 'bedroom ka bulb off karo.mp3', 'bedroom ki light band karo.mp3', 'bedroom ki light jalao.mp3', 'bedroom ki light off karo.mp3', 'bedroom ki light on karo.mp3', 'bethaq ka bulb band karo.mp3', 'bethaq ka bulb jalao.mp3', 'bethaq ka bulb off karo.mp3', 'bethaq ka bulb on karo.mp3', 'bethaq ki light band karo.mp3', 'bethaq ki light jalao.mp3', 'bethaq ki light off karo.mp3', 'bethaq ki light on karo.mp3', 'gany lagao.mp3', 'garage ka bulb band karo.mp3', 'garage ka bulb jalao.mp3', 'garage ka bulb off karo.mp3', 'garage ka bulb on karo.mp3', 'garage ki light band karo.mp3', 'garage ki light jalao.mp3', 'garage ki light off karo.mp3', 'garage ki light on karo.mp3', 'kitchen ka bulb band karo.mp3', 'kitchen ka bulb jalao.mp3', 'kitchen ka bulb off karo.mp3', 'kitchen ka bulb on karo.mp3', 'kitchen ki light band karo.mp3', 'kitchen ki light jalao.mp3', 'kitchen ki light off karo.mp3', 'kitchen ki light on karo.mp3', 'lounge ka bulb band karo.mp3', 'lounge ka bulb jalao.mp3', 'lounge ka bulb off karo.mp3', 'lounge ka bulb on karo.mp3', 'lounge ki light band karo.mp3', 'lounge ki light jalao.mp3', 'lounge ki light off karo.mp3', 'lounge ki light on karo.mp3', 'next channal lagao.mp3', 'next gana lagao.mp3', 'next song lagao.mp3', 'pichla channal lagao.mp3', 'pichla gana lagao.mp3', 'pichla song lagao.mp3', 'previous channal lagao.mp3', 'previous gana lagao.mp3', 'previous song lagao.mp3', 'songs lagao.mp3', 'T.V band karo.mp3', 'T.V chalao.mp3', 'T.V ka volume ahista karo.mp3', 'T.V ka volume kum karo.mp3', 'T.V ka volume slow karo.mp3', 'T.V ka volume tez karo.mp3', 'T.V ka volume zyada karo.mp3', 'T.V ki awaz ahista karo.mp3', 'T.V ki awaz kam karo.mp3', 'T.V ki awaz slow karo.mp3', 'T.V ki awaz tez karo.mp3', 'T.V ki awaz zyada karo.mp3', 'T.V mute karo.mp3', 'T.V off karo.mp3', 'T.V on karo.mp3', 'T.V par ary digital lagao.mp3', 'T.V par ary news lagao.mp3', 'T.V par cartoon network lagao.mp3', 'T.V par Discovery lagao.mp3', 'T.V par geo news lagao.mp3', 'T.V par hbo lagao.mp3', 'T.V par hum T.V lagao.mp3', 'T.V par masla T.V lagao.mp3', 'T.V par Q-T.V lagao.mp3', 'T.V par sama news lagao.mp3', 'T.V unmute karo.mp3', 'washroom ka bulb band karo.mp3', 'washroom ka bulb jalao.mp3', 'washroom ka bulb off karo.mp3', 'washroom ka bulb on karo.mp3', 'washroom ki light band karo.mp3', 'washroom ki light jalao.mp3', 'washroom ki light off karo.mp3', 'washroom ki light on karo.mp3']\n",
      "\n",
      "['A.C. ahista karo.mp3', 'A.C. band karo.mp3', 'A.C. chalao.mp3', 'A.C. Fast karo.mp3', 'A.C. off karo.mp3', 'A.C. on karo.mp3', 'A.C. slow karo.mp3', 'A.C. teez karo.mp3', 'agla channel lagao.mp3', 'agla gana lagao.mp3', 'agla song lagao.mp3', 'bathroom ka Bulb band karo.mp3', 'Bathroom ka Bulb jalao.mp3', 'bathroom ka Bulb off karo.mp3', 'bathroom ka Bulb on karo.mp3', 'bathroom ki Light band karo.mp3', 'Bathroom ki Light jalao.mp3', 'bathroom ki Light off karo.mp3', 'bathroom ki Light on karo.mp3', 'Bedroom ka Bulb band karo.mp3', 'Bedroom ka Bulb jalao.mp3', 'Bedroom ka Bulb off karo.mp3', 'Bedroom ka Bulb on karo.mp3', 'Bedroom ki Light band karo.mp3', 'bedroom ki light jalao.mp3', 'Bedroom ki Light off karo.mp3', 'Bedroom ki Light on karo (1).mp3', 'Bedroom ki Light on karo.mp3', 'bethak ka Bulb band karo (1).mp3', 'bethak ka Bulb band karo.mp3', 'Bethak ka Bulb jalao (1).mp3', 'Bethak ka Bulb jalao.mp3', 'bethak ka Bulb off karo (1).mp3', 'bethak ka Bulb off karo.mp3', 'bethak ka Bulb on karo.mp3', 'bethak ki Light band karo.mp3', 'bethak ki Light jalao.mp3', 'bethak ki Light off karo.mp3', 'bethak ki Light on karo.mp3', 'ganay lagao.mp3', 'garage ka Bulb band karo.mp3', 'garage ka Bulb jalao.mp3', 'garage ka Bulb off karo.mp3', 'garage ka Bulb on karo.mp3', 'garage ki Light band karo.mp3', 'garage ki Light jalao.mp3', 'garage ki Light off karo.mp3', 'garage ki Light on karo.mp3', 'kitchen ka Bulb band karo.mp3', 'kitchen ka Bulb jalao.mp3', 'kitchen ka Bulb off karo.mp3', 'kitchen ka Bulb on karo.mp3', 'kitchen ki Light band karo.mp3', 'kitchen ki Light jalao.mp3', 'kitchen ki Light off karo.mp3', 'kitchen ki Light on karo.mp3', 'lounge ka Bulb band karo.mp3', 'lounge ka Bulb jalao.mp3', 'lounge ka Bulb off karo.mp3', 'lounge ka Bulb on karo.mp3', 'lounge ki Light band karo.mp3', 'lounge ki Light jalao.mp3', 'lounge ki Light off karo.mp3', 'lounge ki Light on karo.mp3', 'next channel lagao.mp3', 'next gana lagao.mp3', 'next song lagao.mp3', 'pichla channel lagao.mp3', 'pichla gana lagao.mp3', 'pichla song lagao.mp3', 'previous channel lagao.mp3', 'previous gana lagao.mp3', 'previous song lagao.mp3', 'songs lagao.mp3', 'T.V band karo.mp3', 'T.V chlao.mp3', 'T.V ka volume ahista karo.mp3', 'T.V ka volume kam karo.mp3', 'T.V ka volume slow karo.mp3', 'T.V ka volume tez karo.mp3', 'T.V ki awaz ziada karo.mp3', 'T.V mute karo.mp3', 'T.V off karo.mp3', 'T.V on karo.mp3', 'T.V par ARY Digital lagao.mp3', 'T.V par cartoon network lagao.mp3', 'T.V par Hum TV lagao.mp3', 'T.V par jeo news lagao.mp3', 'T.V par Masala TV lagao.mp3', 'T.V par Q-TV lagao.mp3', 'T.V par samaa news lagao.mp3', 'T.V pat discovery lagao.mp3', 'T.V unmute karo.mp3', 'T.V. par HBO lagao.mp3', 'washroom ka Bulb band karo.mp3', 'Washroom ka Bulb jalao.mp3', 'washroom ka Bulb off karo.mp3', 'washroom ka Bulb on karo.mp3', 'washroom ki Light band karo.mp3', 'Washroom ki Light jalao.mp3', 'washroom ki Light off karo.mp3', 'washroom ki Light on karo.mp3']\n",
      "\n",
      "['A.C ahista karo.mp3', 'A.C band karo.mp3', 'A.C chlao.mp3', 'A.C fast karo.mp3', 'A.C off karo.mp3', 'A.C on karo.mp3', 'A.C slow karo.mp3', 'A.C tez karo.mp3', 'Agla channel lagao.mp3', 'Agla Gaana lagao.mp3', 'Agla Song lagao.mp3', 'Bathroom ka Bulb band karo.mp3', 'Bathroom ka Bulb jalao.mp3', 'Bathroom ka Bulb off karo.mp3', 'Bathroom ka Bulb on karo.mp3', 'Bathroom ki Light band karo.mp3', 'Bathroom ki Light jalao.mp3', 'Bathroom ki Light off karo.mp3', 'Bathroom ki Light on karo.mp3', 'Bedroom ka Bulb band karo.mp3', 'Bedroom ka Bulb jalao.mp3', 'Bedroom ka Bulb off karo.mp3', 'Bedroom ka Bulb on karo.mp3', 'Bedroom ki Light band karo.mp3', 'Bedroom ki Light jalao.mp3', 'Bedroom ki Light off karo.mp3', 'Bedroom ki Light on karo.mp3', 'Bethaq ka Bulb band karo.mp3', 'Bethaq ka Bulb jalao.mp3', 'Bethaq ka Bulb off karo.mp3', 'Bethaq ka Bulb on karo.mp3', 'Bethaq ki Light band karo.mp3', 'Bethaq ki Light jalao.mp3', 'Bethaq ki Light off karo.mp3', 'Bethaq ki Light on karo.mp3', 'Gaaney lagao.mp3', 'Garage ka Bulb band karo.mp3', 'Garage ka Bulb jalao.mp3', 'Garage ka Bulb off karo.mp3', 'Garage ka Bulb on karo.mp3', 'Garage ki Light band karo.mp3', 'Garage ki Light jalao.mp3', 'Garage ki Light off karo.mp3', 'Garage ki Light on karo.mp3', 'Kitchen ka Bulb band karo.mp3', 'Kitchen ka Bulb jalao.mp3', 'Kitchen ka Bulb off karo.mp3', 'Kitchen ka Bulb on karo.mp3', 'Kitchen ki Light band karo.mp3', 'Kitchen ki Light jalao.mp3', 'Kitchen ki Light off karo.mp3', 'Kitchen ki Light on karo.mp3', 'Lounge ka Bulb band karo.mp3', 'Lounge ka Bulb jalao.mp3', 'Lounge ka Bulb off karo.mp3', 'Lounge ka Bulb on karo.mp3', 'Lounge ki Light band karo.mp3', 'Lounge ki Light jalao.mp3', 'Lounge ki Light off karo.mp3', 'Lounge ki Light on karo.mp3', 'Next channel lagao.mp3', 'Next Gaana lagao.mp3', 'Next Song lagao.mp3', 'Pichla channel lagao.mp3', 'Pichla Gaana lagao.mp3', 'Pichla Song lagao.mp3', 'Previous channel lagao.mp3', 'Previous Gaana lagao.mp3', 'Previous Song lagao.mp3', 'Songs lagao.mp3', 'T.V band karo.mp3', 'T.V chlao.mp3', 'T.V ka volume ahista karo.mp3', 'T.V ka volume kum karo.mp3', 'T.V ka volume slow karo.mp3', 'T.V ka volume tez karo.mp3', 'T.V ka volume ziada karo.mp3', 'T.V ki awaz ahista karo.mp3', 'T.V ki awaz kum karo.mp3', 'T.V ki awaz slow karo.mp3', 'T.V ki awaz tez karo.mp3', 'T.V ki awaz ziada karo.mp3', 'T.V mute karo.mp3', 'T.V off karo.mp3', 'T.V on karo.mp3', 'T.V par ARY Digital lagao.mp3', 'T.V par ARY news lagao.mp3', 'T.V par cartoon network lagao.mp3', 'T.V par discovery lagao.mp3', 'T.V par HBO lagao.mp3', 'T.V par HUM TV lagao.mp3', 'T.V par jeo news lagao.mp3', 'T.V par Masla TV lagao.mp3', 'T.V par Q-TV lagao.mp3', 'T.V par samaa news lagao.mp3', 'T.V unmute karo.mp3', 'Washroom ka Bulb band karo.mp3', 'Washroom ka Bulb jalao.mp3', 'Washroom ka Bulb off karo.mp3', 'Washroom ka Bulb on karo.mp3', 'Washroom ki Light band karo.mp3', 'Washroom ki Light jalao.mp3', 'Washroom ki Light off karo.mp3', 'Washroom ki Light on karo.mp3']\n",
      "\n",
      "['A.C ahista karo.mp3', 'A.C band karo.mp3', 'A.C chlao.mp3', 'A.C fast karo.mp3', 'Ac off karo.mp3', 'Ac on karo.mp3', 'Ac slow karo.mp3', 'Ac taiz karo.mp3', 'agla channel lagao.mp3', 'agla gana lagao.mp3', 'Agla song lagao.mp3', 'Bathroom ka bulb band karo.mp3', 'Bathroom ka bulb jalao.mp3', 'bathroom ka bulb off karo.mp3', 'Bathroom ka bulb on karo.mp3', 'Bathroom ka light jalao.mp3', 'bathroom ki light off karo.mp3', 'bathroom ki light on karo.mp3', 'Bedroom ka bulb band karo.mp3', 'Bedroom ka bulb jalao.mp3', 'Bedroom ka bulb off karo.mp3', 'Bedroom ka bulb on karo.mp3', 'Bedroom ka light jalao.mp3', 'Bedroom ki light band karo.mp3', 'Bedroom ki light off karo.mp3', 'Bedroom ki light on karo.mp3', 'bethak ka bulb band karo.mp3', 'bethak ka bulb jalao.mp3', 'bethak ka bulb off karo.mp3', 'Bethak ka bulb on karo.mp3', 'Bethak ka light jalao.mp3', 'Bethak ki light band karo.mp3', 'Bethak ki light off karo.mp3', 'Bethak ki light on karo.mp3', 'Ganay lagao.mp3', 'Garage ka bulb jalao.mp3', 'Garage ka bulb off karo.mp3', 'Garage ka bulb on karo.mp3', 'Garage ka light jalao.mp3', 'garage ki light band karo.mp3', 'Garage ki light off karo.mp3', 'Garage ki light on karo.mp3', 'Garageka bulb band karo.mp3', 'kitchen ka bulb band karo.mp3', 'kitchen ka bulb jalao.mp3', 'kitchen ka bulb off karo.mp3', 'kitchen ka bulb on karo.mp3', 'kitchen ka light jalao.mp3', 'kitchen ki light band karo.mp3', 'kitchen ki light off karo.mp3', 'kitchen ki light on karo.mp3', 'Lounge ka bulb band karo.mp3', 'Lounge ka bulb jalao.mp3', 'Lounge ka bulb off karo.mp3', 'Lounge ka bulb on karo.mp3', 'Lounge ki light band karo.mp3', 'Lounge ki light jalao.mp3', 'lounge ki light off karo.mp3', 'Lounge ki light on karo.mp3', 'next channel lagao.mp3', 'next gana lagao.mp3', 'next song lagao.mp3', 'pechla song lagao.mp3', 'pichla channel lagao.mp3', 'pichla gana lagao.mp3', 'previous channel lagao.mp3', 'previous gana lagao.mp3', 'previous song lagao.mp3', 'songs lagao.mp3', 'T.V band karo.mp3', 'T.V chalao.mp3', 'T.V ka volume ahista karo.mp3', 'T.V ka volume kam karo.mp3', 'T.V ka volume slow karo.mp3', 'T.V ka volume Tez karo.mp3', 'T.V ka volume Ziyadah karo.mp3', 'T.V ki awaaz ahista karo.mp3', 'T.V ki awaaz kam karo.mp3', 'T.V ki awaaz ziada karo.mp3', 'T.V ki awas slow karo.mp3', 'T.V ki awaz Tez karo.mp3', 'T.V mute karo.mp3', 'T.V off karo.mp3', 'T.V on karo.mp3', 'T.V par HUM T.V lagao.mp3', 'T.V par Masala T.V lagao.mp3', 'T.V par Q-T.V lagao.mp3', 'T.V per ARY digital lagao.mp3', 'T.V per ary news lagao.mp3', 'T.V per cartoon network lagao.mp3', 'T.V per discovery lagao.mp3', 'T.V per geo news lagao.mp3', 'T.V per HBO lagao.mp3', 'T.V per Samaa News lagao.mp3', 'T.V unmute karo.mp3', 'washroom ka bulb band karo.mp3', 'Washroom ka bulb jalao.mp3', 'washroom ka bulb off karo.mp3', 'Washroom ka bulb on karo.mp3', 'Washroom ka light jalao.mp3', 'washroom ki light band karo.mp3', 'washroom ki light off karo.mp3', 'washroom ki light on karo.mp3']\n",
      "\n",
      "['A.C ahista karo.mp3', 'A.C band karo.mp3', 'A.C fast karo.mp3', 'A.C off karo.mp3', 'A.C on karo.mp3', 'A.C slow karo.mp3', 'A.C tez karo.mp3', 'Agla channel lagao.mp3', 'Agla Gaana lagao.mp3', 'Agla Song lagao.mp3', 'Bathroom ka Bulb band karo.mp3', 'Bathroom ka Bulb jalao.mp3', 'Bathroom ka bulb off karo.mp3', 'Bathroom ka Bulb on karo.mp3', 'Bathroom ki Light jalao.mp3', 'Bathroom ki Light off karo.mp3', 'Bathroom ki Light on karo.mp3', 'Bedroom ka Bulb band karo.mp3', 'Bedroom ka Bulb jalao.mp3', 'Bedroom ka bulb off karo.mp3', 'Bedroom ka Bulb on karo.mp3', 'Bedroom ki Light band karo.mp3', 'Bedroom ki Light jalao.mp3', 'Bedroom ki Light off karo.mp3', 'Bedroom ki Light on karo.mp3', 'Bethaq ka Bulb band karo.mp3', 'Bethaq ka Bulb jalao.mp3', 'Bethaq ka bulb off karo.mp3', 'Bethaq ka Bulb on karo.mp3', 'Bethaq ki Light band karo.mp3', 'Bethaq ki Light jalao.mp3', 'Bethaq ki Light off karo.mp3', 'Bethaq ki Light on karo.mp3', 'Gaaney lagao.mp3', 'Garage ka Bulb band karo.mp3', 'Garage ka Bulb jalao.mp3', 'Garage ka bulb off karo.mp3', 'Garage ka Bulb on karo.mp3', 'Garage ka Light band karo.mp3', 'Garage ki Light jalao.mp3', 'Garage ki Light off karo.mp3', 'Garage ki Light on karo.mp3', 'Kitchen ka Bulb band karo.mp3', 'Kitchen ka Bulb jalao.mp3', 'Kitchen ka bulb off karo.mp3', 'Kitchen ka Bulb on karo.mp3', 'Kitchen ki Light band karo.mp3', 'Kitchen ki Light jalao.mp3', 'Kitchen ki Light off karo.mp3', 'Kitchen ki Light on karo.mp3', 'Lounge ka Bulb band karo.mp3', 'Lounge ka Bulb jalao.mp3', 'Lounge ka bulb off karo.mp3', 'Lounge ka Bulb on karo.mp3', 'Lounge ki Light band karo.mp3', 'Lounge ki Light jalao.mp3', 'Lounge ki Light off karo.mp3', 'Lounge ki Light on karo.mp3', 'Next channel lagao.mp3', 'Next Gaana lagao.mp3', 'Next Song lagao.mp3', 'Pichla channel lagao.mp3', 'Pichla Gaana lagao.mp3', 'Pichla Song lagao.mp3', 'Previous channel lagao.mp3', 'Previous Gaana lagao.mp3', 'Previous Song lagao.mp3', 'Songs lagao.mp3', 'T.V band karo.mp3', 'T.V chlao.mp3', 'T.V ka volume ahista karo.mp3', 'T.V ka volume kum karo.mp3', 'T.V ka volume slow karo.mp3', 'T.V ka volume tez karo.mp3', 'T.V ka volume ziada karo.mp3', 'T.V ki awaz ahista karo.mp3', 'T.V ki awaz kum karo.mp3', 'T.V ki awaz slow karo.mp3', 'T.V ki awaz tez karo.mp3', 'T.V ki awaz ziada karo.mp3', 'T.V mute karo.mp3', 'T.V off karo.mp3', 'T.V on karo.mp3', 'T.V par ARY Digital lagao.mp3', 'T.V par ARY news lagao.mp3', 'T.V par cartoon network lagao.mp3', 'T.V par discovery lagao.mp3', 'T.V par HBO lagao.mp3', 'T.V par HUM TV lagao.mp3', 'T.V par jeo news lagao.mp3', 'T.V par Masla TV lagao.mp3', 'T.V par Q-TV lagao.mp3', 'T.V par samaa news lagao.mp3', 'T.V unmute karo.mp3', 'Washroom ka Bulb band karo.mp3', 'Washroom ka Bulb jalao.mp3', 'Washroom ka bulb off karo.mp3', 'Washroom ka Bulb on karo.mp3', 'Washroom ki Light jalao.mp3', 'Washroom ki Light off karo.mp3', 'Washroom ki Light on karo.mp3']\n",
      "\n",
      "['A.C ahista Karo.m4a', 'A.C band karo.m4a', 'A.C Chlao.m4a', 'A.C Fast Karo.m4a', 'A.C Off karo.m4a', 'A.C on Karo.m4a', 'A.C slow karo.m4a', 'A.C tez Karo.m4a', 'Agla Channel Lagao.m4a', 'Agla Gaana Lagao.m4a', 'Agla Song Lagao.m4a', 'Bathroom Ka Bulb Band Karo.m4a', 'Bathroom ka Bulb Jalao.m4a', 'Bathroom Ka Bulb Off karo.m4a', 'Bathroom Ka Bulb On Karo.m4a', 'Bathroom Ki Light band Karo.m4a', 'Bathroom Ki Light Jalao.m4a', 'Bathroom Ki Light off Karo.m4a', 'Bathroom Ki Light on Karo.m4a', 'Bedroom Ka Bulb band karo.m4a', 'Bedroom Ka Bulb Jalao.m4a', 'Bedroom ka Bulb Off karo.m4a', 'Bedroom Ka Bulb on Karo.m4a', 'Bedroom Ki Light Band karo.m4a', 'Bedroom Ki Light Jalao.m4a', 'Bedroom Ki Light Off Karo.m4a', 'Bedroom Ki Light On Karo.m4a', 'Bethaq Ka Bulb Band Karo.m4a', 'Bethaq Ka Bulb Jalao.m4a', 'Bethaq Ka Bulb Off Karo.m4a', 'Bethaq Ka Bulb On Karo.m4a', 'Bethaq Ki Light Band Karo.m4a', 'Bethaq Ki Light Jalao.m4a', 'Bethaq Ki Light Off Karo.m4a', 'Bethaq Ki Light On Karo.m4a', 'Gaaney lagao.m4a', 'garage Ka Bulb Band Karo.m4a', 'Garage Ka Bulb Jalao.m4a', 'Garage Ka Bulb Off Karo.m4a', 'Garage ka Bulb On Karo.m4a', 'Garage Ki Light Band Karo.m4a', 'Garage Ki Light Jalao.m4a', 'Garage Ki Light Off Karo.m4a', 'Garage Ki Light On Karo.m4a', 'Kitchen Ka Bulb Band Karo.m4a', 'Kitchen ka Bulb Jalao.m4a', 'Kitchen Ka Bulb off Karo.m4a', 'Kitchen ka Bulb On Karo.m4a', 'kitchen Ki Light band karo.m4a', 'Kitchen Ki Light Jalao.m4a', 'Kitchen Ki Light Off karo.m4a', 'Kitchen Ki Light On Karo.m4a', 'Lounge Ka Bulb Band Karo.m4a', 'lounge ka Bulb Jalao.m4a', 'Lounge Ka Bulb Off karo.m4a', 'Lounge Ka Bulb On Karo.m4a', 'Lounge Ki Light band karo.m4a', 'Lounge Ki Light Jalao.m4a', 'Lounge Ki Light Off karo.m4a', 'Lounge Ki Light On Karo.m4a', 'Next Channel Lagao.m4a', 'Next Gaana Lagao.m4a', 'Next Song lagao.m4a', 'Pichla Channel Lagao.m4a', 'Pichla Gaana Lagao.m4a', 'Pichla Song Lagao.m4a', 'Previous Channel Lagao.m4a', 'Previous gaana Lagao.m4a', 'Previous Song Lagao.m4a', 'Songs Lagao.m4a', 'T.V band karo.m4a', 'T.V Chlao.m4a', 'T.V ka volume ahista karo.m4a', 'T.V ka volume kum karo.m4a', 'T.V ka volume slow karo.m4a', 'T.V ka volume ziada karo.m4a', 'T.V ka Voulme tez karo.m4a', 'T.V ki awaz ahista karo.m4a', 'T.V ki awaz kum karo.m4a', 'T.V ki awaz slow karo.m4a', 'T.v ki awaz tez karo.m4a', 'T.V ki awaz ziada Karo.m4a', 'T.V mute karo.m4a', 'T.V off karo.m4a', 'T.V on Karo.m4a', 'T.V par ARY DIGITAL Lagao.m4a', 'T.V par ARY news lagao.m4a', 'T.V par cartoon network Lagaho.m4a', 'T.V par discovery Lagao.m4a', 'T.V par HBO lagao.m4a', 'T.V par HUMTV Lagao.m4a', 'T.V par jeo news lagao.m4a', 'T.V par Masla TV Lagao.m4a', 'T.V par Q-TV lagao.m4a', 'T.V par samaa news lagao.m4a', 'T.V unmute karo.m4a', 'Washroom Ka Bulb Band Karo.m4a', 'Washroom ka bulb Jalao.m4a', 'Washroom Ka Bulb Off karo.m4a', 'Washroom Ka Bulb On Karo.m4a', 'Washroom Ki Light band Karo.m4a', 'Washroom Ki Light Jalao.m4a', 'Washroom Ki Light Off karo.m4a', 'Washroom Ki Light On Karo.m4a']\n",
      "\n",
      "['A.C ahista karo.m4a', 'A.C ahista karo.mp3', 'A.C band karo.m4a', 'A.C band karo.mp3', 'A.C chlao.m4a', 'A.C chlao.mp3', 'A.C fast karo.m4a', 'A.C fast karo.mp3', 'A.C off karo.m4a', 'A.C off karo.mp3', 'A.C on karo.m4a', 'A.C on karo.mp3', 'A.C slow karo.m4a', 'A.C slow karo.mp3', 'A.C tez karo.m4a', 'A.C tez karo.mp3', 'Agla channel lagao.m4a', 'Agla channel lagao.mp3', 'Agla Gaana lagao.m4a', 'Agla Gaana lagao.mp3', 'Agla Song lagao.m4a', 'Agla Song lagao.mp3', 'Bathroom ka Bulb band karo.m4a', 'Bathroom ka Bulb band karo.mp3', 'Bathroom ka Bulb jalao.m4a', 'Bathroom ka Bulb jalao.mp3', 'Bathroom ka Bulb off karo.m4a', 'Bathroom ka Bulb off karo.mp3', 'Bathroom ka Bulb on karo.m4a', 'Bathroom ka Bulb on karo.mp3', 'Bathroom ki Light band karo.m4a', 'Bathroom ki Light band karo.mp3', 'Bathroom ki Light jalao.m4a', 'Bathroom ki Light jalao.mp3', 'Bathroom ki Light off karo.m4a', 'Bathroom ki Light off karo.mp3', 'Bathroom ki Light on karo.m4a', 'Bathroom ki Light on karo.mp3', 'Bedroom ka Bulb band karo.m4a', 'Bedroom ka Bulb band karo.mp3', 'Bedroom ka Bulb jalao.m4a', 'Bedroom ka Bulb jalao.mp3', 'Bedroom ka Bulb off karo.m4a', 'Bedroom ka Bulb off karo.mp3', 'Bedroom ka Bulb on karo.m4a', 'Bedroom ka Bulb on karo.mp3', 'Bedroom ki Light band karo.m4a', 'Bedroom ki Light band karo.mp3', 'Bedroom ki Light jalao.m4a', 'Bedroom ki Light jalao.mp3', 'Bedroom ki Light off karo.m4a', 'Bedroom ki Light off karo.mp3', 'Bedroom ki Light on karo.m4a', 'Bedroom ki Light on karo.mp3', 'Bethaq ka Bulb band karo.m4a', 'Bethaq ka Bulb band karo.mp3', 'Bethaq ka Bulb jalao.m4a', 'Bethaq ka Bulb jalao.mp3', 'Bethaq ka Bulb off karo.m4a', 'Bethaq ka Bulb off karo.mp3', 'Bethaq ka Bulb on karo.m4a', 'Bethaq ka Bulb on karo.mp3', 'Bethaq ki Light band karo.m4a', 'Bethaq ki Light band karo.mp3', 'Bethaq ki Light jalao.m4a', 'Bethaq ki Light jalao.mp3', 'Bethaq ki Light off karo.m4a', 'Bethaq ki Light off karo.mp3', 'Bethaq ki Light on karo.m4a', 'Bethaq ki Light on karo.mp3', 'Gaaney lagao.m4a', 'Gaaney lagao.mp3', 'Garage ka Bulb band karo.m4a', 'Garage ka Bulb band karo.mp3', 'Garage ka Bulb jalao.m4a', 'Garage ka Bulb jalao.mp3', 'Garage ka Bulb off karo.m4a', 'Garage ka Bulb off karo.mp3', 'Garage ka Bulb on karo.m4a', 'Garage ka Bulb on karo.mp3', 'Garage ki Light band karo.m4a', 'Garage ki Light band karo.mp3', 'Garage ki Light jalao.m4a', 'Garage ki Light jalao.mp3', 'Garage ki Light off karo.m4a', 'Garage ki Light off karo.mp3', 'Garage ki Light on karo.m4a', 'Garage ki Light on karo.mp3', 'Kitchen ka Bulb band karo.m4a', 'Kitchen ka Bulb band karo.mp3', 'Kitchen ka Bulb jalao.m4a', 'Kitchen ka Bulb jalao.mp3', 'Kitchen ka Bulb off karo.m4a', 'Kitchen ka Bulb off karo.mp3', 'Kitchen ka Bulb on karo.m4a', 'Kitchen ka Bulb on karo.mp3', 'Kitchen ki Light band karo.m4a', 'Kitchen ki Light band karo.mp3', 'Kitchen ki Light jalao.m4a', 'Kitchen ki Light jalao.mp3', 'Kitchen ki Light off karo.m4a', 'Kitchen ki Light off karo.mp3', 'Kitchen ki Light on karo.m4a', 'Kitchen ki Light on karo.mp3', 'Lounge ka Bulb band karo.m4a', 'Lounge ka Bulb band karo.mp3', 'Lounge ka Bulb jalao.m4a', 'Lounge ka Bulb jalao.mp3', 'Lounge ka Bulb off karo.m4a', 'Lounge ka Bulb off karo.mp3', 'Lounge ka Bulb on karo.m4a', 'Lounge ka Bulb on karo.mp3', 'Lounge ki Light band karo.m4a', 'Lounge ki Light band karo.mp3', 'Lounge ki Light jalao.m4a', 'Lounge ki Light jalao.mp3', 'Lounge ki Light off karo.m4a', 'Lounge ki Light off karo.mp3', 'Lounge ki Light on karo.m4a', 'Lounge ki Light on karo.mp3', 'Next channel lagao.m4a', 'Next channel lagao.mp3', 'Next Gaana lagao.m4a', 'Next Gaana lagao.mp3', 'Next Song lagao.m4a', 'Next Song lagao.mp3', 'Pichla channel lagao.m4a', 'Pichla channel lagao.mp3', 'Pichla Gaana lagao.m4a', 'Pichla Gaana lagao.mp3', 'Pichla Song lagao.m4a', 'Pichla Song lagao.mp3', 'Previous channel lagao.m4a', 'Previous channel lagao.mp3', 'Previous Gaana lagao.m4a', 'Previous Gaana lagao.mp3', 'Previous Song lagao.m4a', 'Previous Song lagao.mp3', 'Songs lagao.m4a', 'Songs lagao.mp3', 'T.V band karo.m4a', 'T.V band karo.mp3', 'T.V chlao.m4a', 'T.V chlao.mp3', 'T.V ka volume ahista karo.m4a', 'T.V ka volume ahista karo.mp3', 'T.V ka volume kum karo.m4a', 'T.V ka volume kum karo.mp3', 'T.V ka volume slow karo.m4a', 'T.V ka volume slow karo.mp3', 'T.V ka volume tez karo.m4a', 'T.V ka volume tez karo.mp3', 'T.V ka volume ziada karo.m4a', 'T.V ka volume ziada karo.mp3', 'T.V ki awaz ahista karo.m4a', 'T.V ki awaz ahista karo.mp3', 'T.V ki awaz kum karo.m4a', 'T.V ki awaz kum karo.mp3', 'T.V ki awaz slow karo.m4a', 'T.V ki awaz slow karo.mp3', 'T.V ki awaz tez karo.m4a', 'T.V ki awaz tez karo.mp3', 'T.V ki awaz ziada karo.m4a', 'T.V ki awaz ziada karo.mp3', 'T.V mute karo.m4a', 'T.V mute karo.mp3', 'T.V off karo.m4a', 'T.V off karo.mp3', 'T.V on karo.m4a', 'T.V on karo.mp3', 'T.V par ARY Digital lagao.m4a', 'T.V par ARY Digital lagao.mp3', 'T.V par ARY news lagao.m4a', 'T.V par ARY news lagao.mp3', 'T.V par cartoon network lagao.m4a', 'T.V par cartoon network lagao.mp3', 'T.V par discovery lagao.m4a', 'T.V par discovery lagao.mp3', 'T.V par HBO lagao.m4a', 'T.V par HBO lagao.mp3', 'T.V par HUM TV lagao.m4a', 'T.V par HUM TV lagao.mp3', 'T.V par jeo news lagao.m4a', 'T.V par jeo news lagao.mp3', 'T.V par Masla TV lagao.m4a', 'T.V par Masla TV lagao.mp3', 'T.V par Q-TV lagao.m4a', 'T.V par Q-TV lagao.mp3', 'T.V par samaa news lagao.m4a', 'T.V par samaa news lagao.mp3', 'T.V unmute karo.m4a', 'T.V unmute karo.mp3', 'Washroom ka Bulb band karo.m4a', 'Washroom ka Bulb band karo.mp3', 'Washroom ka Bulb jalao.m4a', 'Washroom ka Bulb jalao.mp3', 'Washroom ka Bulb off karo.m4a', 'Washroom ka Bulb off karo.mp3', 'Washroom ka Bulb on karo.m4a', 'Washroom ka Bulb on karo.mp3', 'Washroom ki Light band karo.m4a', 'Washroom ki Light band karo.mp3', 'Washroom ki Light jalao.m4a', 'Washroom ki Light jalao.mp3', 'Washroom ki Light off karo.m4a', 'Washroom ki Light off karo.mp3', 'Washroom ki Light on karo.m4a', 'Washroom ki Light on karo.mp3']\n",
      "\n",
      "['A.C ahista karo.mp3', 'A.C band karo.mp3', 'A.C chalao.mp3', 'A.C fast karo.mp3', 'A.C off karo.mp3', 'A.C on karo.mp3', 'A.C slow karo.mp3', 'A.C tez karo.mp3', 'Agla channel lagao.mp3', 'Agla Gaana lagao.mp3', 'Agla Song lagao.mp3', 'Bathroom ka bulb band karo.mp3', 'Bathroom ka bulb jalao.mp3', 'Bathroom ka bulb off karo.mp3', 'Bathroom ka bulb on karo.mp3', 'Bathroom ki light band karo.mp3', 'Bathroom ki light jalao.mp3', 'Bathroom ki light off karo.mp3', 'Bathroom ki light on karo.mp3', 'Bedroom ka bulb band karo.mp3', 'Bedroom ka bulb jalao.mp3', 'Bedroom ka bulb off karo.mp3', 'Bedroom ka bulb on karo.mp3', 'Bedroom ki light band karo.mp3', 'Bedroom ki light jalao.mp3', 'Bedroom ki light off karo.mp3', 'Bedroom ki light on karo.mp3', 'Bethaq ka bulb band karo.mp3', 'Bethaq ka bulb jalao.mp3', 'Bethaq ka bulb off karo.mp3', 'Bethaq ki light band karo.mp3', 'Bethaq ki light jalao.mp3', 'Bethaq ki light off karo.mp3', 'Bethaq ki light on karo.mp3', 'Bethq ka bulb on karo.mp3', 'Gaaney lagao.mp3', 'Garage ka bulb band karo.mp3', 'garage ka bulb jalao.mp3', 'Garage ka bulb off karo.mp3', 'garage ka bulb on karo.mp3', 'Garage ki light band karo.mp3', 'Garage ki light jalao.mp3', 'Garage ki light off karo.mp3', 'Garage ki light on karo.mp3', 'Kitchen ka bulb band karo.mp3', 'kitchen ka bulb jalao.mp3', 'Kitchen ka bulb off karo.mp3', 'Kitchen ka bulb on karo.mp3', 'Kitchen ki light band karo.mp3', 'kitchen ki light jalao.mp3', 'Kitchen ki light off karo.mp3', 'Kitchen ki light on karo.mp3', 'lounge ka bulb band karo.mp3', 'Lounge ka bulb jalao.mp3', 'Lounge ka bulb off karo.mp3', 'Lounge ka bulb on karo.mp3', 'Lounge ki light band karo.mp3', 'Lounge ki light jalao.mp3', 'Lounge ki light off karo.mp3', 'Lounge ki light on karo.mp3', 'Next channel lagao.mp3', 'Next Gaana lagao.mp3', 'Next Song lagao.mp3', 'Pichla channel lagao.mp3', 'Pichla Gaana lagao.mp3', 'Pichla Song lagao.mp3', 'Previous channel lagao.mp3', 'Previous Gaana lagao.mp3', 'Previous Song lagao.mp3', 'Songs lagao.mp3', 'T.V band karo.mp3', 'T.V chalao.mp3', 'T.V ka volume ahista karo.mp3', 'T.V ka volume kum karo.mp3', 'T.V ka volume slow karo.mp3', 'T.V ka volume tez karo.mp3', 'T.V ka volume ziada karo.mp3', 'T.V ki awaz ahista karo.mp3', 'T.V ki awaz kum karo.mp3', 'T.V ki awaz slow karo.mp3', 'T.V ki awaz tez karo.mp3', 'T.V ki awaz ziada karo.mp3', 'T.V mute karo.mp3', 'T.V off karo.mp3', 'T.V on karo.mp3', 'T.V par ARY Digital lagao.mp3', 'T.V par ARY news lagao.mp3', 'T.V par cartoon network news lagao.mp3', 'T.V par discovery lagao.mp3', 'T.V par HBO news lagao.mp3', 'T.V par HUM TV lagao.mp3', 'T.V par jeo news lagao.mp3', 'T.V par Masala TV lagao.mp3', 'T.V par Q-TV lagao.mp3', 'T.V par samaa news lagao.mp3', 'T.V unmute karo.mp3', 'Washroom ka bulb band karo.mp3', 'Washroom ka bulb jalao.mp3', 'Washroom ka bulb off karo.mp3', 'Washroom ka bulb on karo.mp3', 'Washroom ki light band karo.mp3', 'Washroom ki light jalao.mp3', 'Washroom ki light off karo.mp3', 'Washroom ki light on karo.mp3']\n",
      "\n",
      "['A.C ahista kro.mp3', 'A.C bnd kro.mp3', 'A.C chalao.mp3', 'A.C fast kro.mp3', 'A.C off kro.mp3', 'A.C on kro.mp3', 'A.C slow kro.mp3', 'A.C tez kro.mp3', 'agla channel lgao.mp3', 'agla gaana lgao.mp3', 'agla song lgao.mp3', 'bathroom ka bulb bnd kro.mp3', 'bathroom ka bulb jalao.mp3', 'bathroom ka bulb off kro .mp3', 'bathroom ka bulb on kro .mp3', 'bathroom ki light bnd kro.mp3', 'bathroom ki light jalao.mp3', 'bathroom ki light off kro .mp3', 'bathroom ki light on kro.mp3', 'bedroom ka bulb bnd kro .mp3', 'bedroom ka bulb jalao.mp3', 'bedroom ka bulb off kro .mp3', 'bedroom ka bulb on kro.mp3', 'bedroom ki light bnd kro.mp3', 'bedroom ki light jalao.mp3', 'bedroom ki light off kro .mp3', 'bedroom ki light on kro.mp3', 'bethak ka bulb bnd kro.mp3', 'bethak ka bulb jalao.mp3', 'bethak ka bulb off kro.mp3', 'bethak ka bulb on kro .mp3', 'bethak ki light bnd krk.mp3', 'bethak ki light jalao.mp3', 'bethak ki light off kro.mp3', 'bethak ki light on kro .mp3', 'gaanay lgao.mp3', 'garage ka bulb bnd kro .mp3', 'garage ka bulb jalao.mp3', 'garage ka bulb off kro .mp3', 'garage ka bulb on kro.mp3', 'garage ki light bnd kro.mp3', 'garage ki light jalao.mp3', 'garage ki light off kro.mp3', 'garage ki light on kro .mp3', 'kitchen ka bulb bnd kro.mp3', 'kitchen ka bulb jalao.mp3', 'kitchen ka bulb off kro .mp3', 'kitchen ka bulb on kro .mp3', 'kitchen ki light bnd kro .mp3', 'kitchen ki light jalao.mp3', 'kitchen ki light off kro.mp3', 'kitchen ki light on kro.mp3', 'lounge ka bulb bnd kro.mp3', 'lounge ka bulb jalao.mp3', 'lounge ka bulb off kro .mp3', 'lounge ka bulb on kro.mp3', 'lounge ki light bnd kro.mp3', 'lounge ki light jalao.mp3', 'lounge ki light off kro.mp3', 'lounge ki light on kro.mp3', 'next channel lgao.mp3', 'next gana lgao.mp3', 'next song lgao.mp3', 'pichla channel lgao.mp3', 'pichla gaana lgao.mp3', 'pichla song lgao.mp3', 'previous channel lgao.mp3', 'previous gaana lgao.mp3', 'previous song lgao.mp3', 'songs lagao.mp3', 'T.V bnd kro.mp3', 'T.V chalao.mp3', 'T.V ka volume ahista kro.mp3', 'T.V ka volume km kro.mp3', 'T.V ka volume slow kro.mp3', 'T.V ka volume tez kro.mp3', 'T.V ka volume ziada kro.mp3', 'T.V ki awaaz ahista kro.mp3', 'T.V ki awaaz km kro.mp3', 'T.V ki awaaz slow kro.mp3', 'T.V ki awaaz tez kro.mp3', 'T.V ki awaz ziada kro.mp3', 'T.V mute kro.mp3', 'T.V off kro.mp3', 'T.V on kro.mp3', 'T.V pr ary digital lgao.mp3', 'T.V pr ary news lagao.mp3', 'T.V pr cartoon network lagao.mp3', 'T.V pr discovery lgao.mp3', 'T.V pr HBO lgao.mp3', 'T.V pr hum T.V lgao.mp3', 'T.V pr jeo news lagao.mp3', 'T.V pr masala T.V lgao.mp3', 'T.V pr q T.V lgao.mp3', 'T.V pr samaa news lagao.mp3', 'T.V unmute kro.mp3', 'washroom ka bulb bnd kro .mp3', 'washroom ka bulb jalao.mp3', 'washroom ka bulb off kro .mp3', 'washroom ka bulb on kro .mp3', 'washroom ki light bnd kro.mp3', 'washroom ki light jalao.mp3', 'washroom ki light off kro .mp3', 'washroom ki light on kro .mp3']\n",
      "\n",
      "['ac ahista karo.m4a', 'ac band karo.m4a', 'ac chalao.m4a', 'ac fast karo.m4a', 'ac off karo.m4a', 'ac on karo.m4a', 'ac slow karo.m4a', 'ac tez karo.m4a', 'agla gana lagao.m4a', 'agla song lagao.m4a', 'bathroom ka bulb band karo.m4a', 'bathroom ka bulb jalao.m4a', 'bathroom ka bulb off karo.m4a', 'bathroom ki light band karo.m4a', 'bathroom ki light jalao.m4a', 'bathroom ki light off karo.m4a', 'bathroom ki light on karo.m4a', 'bedroom ka bulb band karo.m4a', 'bedroom ka bulb jalao.m4a', 'bedroom ka bulb off karo.m4a', 'bedroom ka bulb on karo.m4a', 'bedroom ki light band karo.m4a', 'bedroom ki light jalao.m4a', 'bedroom ki light off karo.m4a', 'bedroom ki light on karo.m4a', 'bethak ka bulb band karo.m4a', 'bethak ka bulb jalao.m4a', 'bethak ka bulb off karo.m4a', 'bethak ka bulb on karo.m4a', 'bethak ki light band karo.m4a', 'bethak ki light jalao.m4a', 'bethak ki light off karo.m4a', 'bethak ki light on karo.m4a', 'gaanay lagao.m4a', 'garage ka bulb band karo.m4a', 'garage ka bulb jalao.m4a', 'garage ka bulb off karo.m4a', 'garage ka bulb on karo.m4a', 'garage ki light band karo.m4a', 'garage ki light jalao(1).m4a', 'garage ki light jalao.m4a', 'garage ki light on karo.m4a', 'garageki light off karo.m4a', 'kitchen ka bulb band karo.m4a', 'kitchen ka bulb jalao.m4a', 'kitchen ka bulb off karo.m4a', 'kitchen ka bulb on karo.m4a', 'kitchen ki light band karo.m4a', 'kitchen ki light jalao.m4a', 'kitchen ki light off karo.m4a', 'kitchen ki light on karo.m4a', 'lounge ka bulb band karo.m4a', 'lounge ka bulb jalao.m4a', 'lounge ka bulb off karo.m4a', 'lounge ka bulb on karo.m4a', 'lounge ki light band karo.m4a', 'lounge ki light jalao.m4a', 'lounge ki light off karo.m4a', 'lounge ki light on karo.m4a', 'next gana lagao.m4a', 'next song lagao.m4a', 'pichla gana lagao.m4a', 'pichla song lagao.m4a', 'previous gana lagao.m4a', 'previous song lagao.m4a', 'songs lagao.m4a', 'tv band karo.m4a', 'tv chalao.m4a', 'tv ka volume ahista karo.m4a', 'tv ka volume kum karo.m4a', 'tv ka volume slow karo.m4a', 'tv ka volume tez karo.m4a', 'tv ka volume ziada karo.m4a', 'tv ki awaz ahista karo.m4a', 'tv ki awaz kum karo.m4a', 'tv ki awaz slow karo.m4a', 'tv ki awaz tez karo.m4a', 'tv ki awaz ziada karo.m4a', 'tv mute karo.m4a', 'tv off karo.m4a', 'tv on karo.m4a', 'tv par agla channel lagao.m4a', 'tv par ARYDigital lagao.m4a', 'tv par ARYnews lagao.m4a', 'tv par cartoonnetwork lagao.m4a', 'tv par discovery lagao.m4a', 'tv par geonews lagao.m4a', 'tv par Hbo lagao.m4a', 'tv par HUMTV lagao.m4a', 'tv par masla lagao.m4a', 'tv par nextchannel lagao.m4a', 'tv par pichlachannel lagao.m4a', 'tv par previouschannel lagao.m4a', 'tv par qtv lagao.m4a', 'tv par Samaa lagao.m4a', 'tv unmute karo.m4a', 'washroom ka bulb band karo.m4a', 'washroom ka bulb jalao.m4a', 'washroom ka bulb on karo.m4a', 'washroom ki light band karo.m4a', 'washroom ki light jalao.m4a', 'washroom ki light off karo.m4a', 'washroom ki light on karo.m4a']\n",
      "\n",
      "['A.C aahista Karo .aac', 'A.C band Karo.aac', 'A.C chalao.aac', 'A.C fast karo.aac', 'A.C off karo.aac', 'A.C on karo.aac', 'A.C slow karo.aac', 'A.C tez karo.aac', 'Agla channel lgao.aac', 'Agla gana lgao.aac', 'Agla song lgao.aac', 'Bathroom Ka bulb band Karo.aac', 'Bathroom Ka bulb off karo.aac', 'Bathroom Ka bulb on karo.aac', 'Bathroom ki light band Karo.aac', 'Bathroom ki light jalao.aac', 'Bathroom ki light off karo.aac', 'Bathroom ki light on karo.aac', 'bedroom Ka bulb band Karo .aac', 'Bedroom Ka bulb off karo.aac', 'Bedroom Ka bulb on karo.aac', 'Bedroom ki light band Karo.aac', 'Bedroom ki light off karo.aac', 'Bedroom ki light on karo.aac', 'Bethaq Ka bulb band Karo.aac', 'Bethaq Ka bulb off karo.aac', 'Bethaq Ka bulb on karo.aac', 'Bethaq ki light jalao.aac', 'Bethaq ki light off karo.aac', 'Bethaq ki light on karo.aac', 'Gaaney lgao.aac', 'Garage Ka bulb band Karo.aac', 'Garage Ka bulb off karo.aac', 'Garage Ka bulb on karo.aac', 'Garage ki light band Karo.aac', 'Garage ki light jalao.aac', 'Garage ki light off karo.aac', 'Garage ki light on karo.aac', 'kitchen Ka bulb band Karo.aac', 'kitchen Ka bulb off karo.aac', 'kitchen Ka bulb on karo.aac', 'kitchen ki light band Karo.aac', 'Kitchen ki light jalao.aac', 'kitchen ki light off karo.aac', 'kitchen ki light on karo .aac', 'Lounge Ka bulb band karo.aac', 'Lounge Ka bulb off karo.aac', 'Lounge Ka bulb on karo.aac', 'Lounge ki light band Karo.aac', 'Lounge ki light jalao.aac', 'Lounge ki light off karo.aac', 'Lounge ki light on karo .aac', 'Next channel lgao.aac', 'Next gana lgao.aac', 'Next song lgao.aac', 'Pichla channel lgao .aac', 'Pichla gana lgao.aac', 'Pichla song lgao.aac', 'Previous channel lgao.aac', 'Previous gana lgao.aac', 'Previous song lgao.aac', 'Songs lgao.aac', 'T V ki awaz ahista karo.aac', 'T.V band karo.aac', 'T.V chalao.aac', 'T.V Ka volume ahista karo .aac', 'T.V Ka volume kam karo.aac', 'T.V Ka volume slow karo.aac', 'T.V Ka volume tez karo.aac', 'T.V Ka volume zada Karo .aac', 'T.V ki awaz kam Karo .aac', 'T.V ki awaz slow karo.aac', 'T.V ki awaz zada karo.aac', 'T.V ki awz tez karo.aac', 'T.V mute karo.aac', 'T.V off karo.aac', 'T.V on karo.aac', 'T.V par Ary digital lgao.aac', 'T.V par cartoon network lgao.aac', 'T.V par discovery lgao.aac', 'T.V par HBO lgao.aac', 'T.V par hum TV lgao.aac', 'T.V par masala TV lgao.aac', 'T.V par qtv lgao.aac', 'T.V per Ary news lgao.aac', 'T.V per jeo news lgao.aac', 'T.V per samaa news lgao.aac', 'T.V unmute karo.aac', 'Washroom Ka bulb band Karo.aac', 'washroom Ka bulb off karo.aac', 'washroom Ka bulb on karo.aac', 'Washroom ki light band Karo.aac', 'Washroom ki light off karo.aac', 'Washroom ki light on karo.aac']\n",
      "\n",
      "['20211123 205539.m4a', 'A.Cbndkro.m4a', 'A.Cchalaoo.m4a', 'A.Cfastkro.m4a', 'A.Cslowkaro.m4a', 'Acahistakaroo.m4a', 'Acoffkaroo.m4a', 'Aconkaroo.m4a', 'Actezkro.m4a', 'agla song lagao.m4a', 'aglachannellagao.mpeg', 'aglaganalagao.m4a', 'aglaganalagao.mpeg', 'ba throomkabulbbandkaro.m4a', 'bathromkilightjalao.m4a', 'bathroomkabulbjalao.m4a', 'bathroomkabulboffkaro.m4a', 'bathroomkabulbonkaro.m4a', 'bathroomkilightbandkaro.m4a', 'bathroomkilightoffkaro.m4a', 'bathroomkilightonkaro.m4a', 'bedromkabulbbandkaro.m4a', 'bedromkabulboffkaro.m4a', 'bedromkabulbonkaro.m4a', 'bedromkilightbandkaro.m4a', 'bedromkilightjalao.m4a', 'bedroomkabulbjalao.m4a', 'bedroomkilightoffkaro.m4a', 'bedroomkilightonkaro.m4a', 'betakkabuklbbandkaero.m4a', 'betakkabulbjalao.m4a', 'betakkabulboffkaro.m4a', 'betakkabulbonkaro.m4a', 'betakkilightbndkro.m4a', 'betakkilightjalao.m4a', 'betakkilightoffkaro.m4a', 'betakkilightonkaro.m4a', 'ganaaylagao.mpeg', 'ganeylagao.m4a', 'garagekabulbbandkaro.m4a', 'garagekabulbjalao.m4a', 'garagekabulboffkaro.m4a', 'garagekabulbonkro.m4a', 'garagekilighbndkero.m4a', 'garagekilightoffkaro.m4a', 'garagekilightonkaro.m4a', 'gragekilightjalao.m4a', 'kitcehenkabulboffkaro.m4a', 'kitcehnkilightbndkro.m4a', 'kitchenkabulbbandkaro.m4a', 'kitchenkabulbjalao.m4a', 'kitchenkabulbonkaro.m4a', 'kitchenkilightjalao.m4a', 'kitchenkilightoffkaro.m4a', 'kitchenkilightonkaro.m4a', 'loungekabulbjalao.m4a', 'loungekabulboffkaro.m4a', 'loungekabulbonkaro.m4a', 'loungekiliggtbndkro.m4a', 'loungekilightjalao.m4a', 'loungekilightoffkaro.m4a', 'loungekilightonkaro.m4a', 'lunge kabuklbbandkaro.m4a', 'nextchannellagao.mpeg', 'nextganaalagao.m4a', 'nextsonglagao.m4a', 'pichlachannellagao.mpeg', 'pichlaganalagao.m4a', 'pichlaganalagao.mpeg', 'pichlasonglagao.m4a', 'previouschannellagao.mpeg', 'previousganalagao.m4a', 'previoussonglagao.m4a', 'songlagao.mpeg', 'T.Vchalaoo.m4a', 'T.Vkavolume slowkaro.mpeg', 'T.Vkavolumeahistakaro.mpeg', 'T.Vkavolumekamkaro.mpeg', 'T.Vkavolumemutekaro.mpeg', 'T.Vkavolumetezkaro.mpeg', 'T.Vkavolumeziadakaro.mpeg', 'T.Vkiawazahistakaro.mpeg', 'T.Vkiawazkamkaro.mpeg', 'T.Vkiawaztezkaro.mpeg', 'T.Vkiawazziadakaro.mpeg', 'T.Vofffkaro.m4a', 'T.Vonnnkaro.m4a', 'T.Vperjeonewslagao.m4a', 'T.Vpersamanewslagao.mpeg', 'T.VprArynewslagao.mpeg', 'T.Vprawazslowkaro.mpeg', 'T.Vprcartoonnetworklagao.mpeg', 'T.Vprdiscoverylagao.mpeg', 'T.Vprhbolagao.mpeg', 'T.VprhumT.Vlagao.mpeg', 'T.VprmaslaT.Vlagao.mpeg', 'T.VprQ-T.Vlagao.mpeg', 'T.VprRYdigitallagao.mpeg', 'T.Vprsamanewslagao.mpeg', 'T.Vunmutekaro.mpeg', 'washromkabulbbandkari.m4a', 'washromkilightbandkaro.m4a', 'washromkilightjalao.m4a', 'washromkilightonkaro.m4a', 'washroomkabulbjalao.m4a', 'washroomkabulboffkaro.m4a', 'washroomkabulbonkaro.m4a', 'washroomkilightoffkarov.m4a']\n",
      "\n",
      "[' agla Gaana lagao.mp3', 'A.C  tez karo.mp3', 'A.C ahista karo.mp3', 'A.C band karo.mp3', 'A.C chlao.mp3', 'A.C fast karo.mp3', 'A.C off karo.mp3', 'A.C on Karo.mp3', 'A.C slow karo.mp3', 'agla channel lagao .mp3', 'agla song lagao.mp3', 'bathroom ka Bulb band karo.mp3', 'bathroom Ka Bulb jalao.mp3', 'bathroom ka Bulb off karo.mp3', 'bathroom ka Bulb on Karo.mp3', 'bathroom ki light band karo.mp3', 'bathroom ki light jalao.mp3', 'bathroom ki light off karo.mp3', 'bathroom ki light on Karo.mp3', 'Bedroom ka Bulb band karo.mp3', 'Bedroom ka Bulb jalao.mp3', 'Bedroom ka Bulb off karo.mp3', 'Bedroom ka Bulb on Karo.mp3', 'Bedroom ki light band karo.mp3', 'Bedroom ki light jalao.mp3', 'Bedroom ki light off karo.mp3', 'Bedroom ki light on Karo.mp3', 'bethaq ka Bulb band karo.mp3', 'bethaq ka Bulb jalao.mp3', 'bethaq ka Bulb off karo.mp3', 'bethaq ka Bulb on Karo.mp3', 'bethaq ki light band karo.mp3', 'bethaq ki light jalao.mp3', 'bethaq ki light off karo.mp3', 'bethaq ki light on Karo.mp3', 'Ganney Lagao.mp3', 'Garage ka Bulb band karo.mp3', 'Garage ka Bulb jalao.mp3', 'Garage ka Bulb off karo.mp3', 'Garage ka Bulb on Karo.mp3', 'Garage ki light band karo.mp3', 'Garage ki light jalao.mp3', 'Garage ki light off karo.mp3', 'Garage ki light on Karo.mp3', 'kitchen ka Bulb band karo.mp3', 'kitchen Ka Bulb jalao.mp3', 'kitchen ka Bulb off karo.mp3', 'kitchen ka Bulb on Karo.mp3', 'kitchen ki light band karo.mp3', 'kitchen ki light jalao.mp3', 'kitchen ki light off karo.mp3', 'kitchen ki light on Karo.mp3', 'lounge ka Bulb band karo.mp3', 'lounge ka Bulb jalao.mp3', 'lounge ka Bulb off karo.mp3', 'lounge ka Bulb on Karo.mp3', 'lounge ki light band karo.mp3', 'lounge ki light off Karo.mp3', 'lounge ki light on Karo.mp3', 'lounge li light jalao.mp3', 'next channel lagao .mp3', 'next gaana lagao.mp3', 'next song lagao.mp3', 'pichla channel lagao.mp3', 'pichla Gaana lagao.mp3', 'pichla song lagao.mp3', 'previous channel lagao.mp3', 'previous Gaana lagao.mp3', 'previous song lagao.mp3', 'R.V ka. volume ziada Karo.mp3', 'songs lagao.mp3', 'T V par Discovery lagao.mp3', 'T.V band karo.mp3', 'T.V chlao.mp3', 'T.V ka volume ahista karo .mp3', 'T.V ka volume kum karo.mp3', 'T.V ka. volume slow karo.mp3', 'T.V ka. volume teez karo .mp3', 'T.V ki awaz ahista karo .mp3', 'T.V ki awaz ki ziada Karo.mp3', 'T.V ki awaz kum karo.mp3', 'T.V ki awaz slow karo .mp3', 'T.V mute karo.mp3', 'T.V off karo.mp3', 'T.V on karo.mp3', 'T.V par ARY Digital lagao.mp3', 'T.V par HBO lagao.mp3', 'T.V par HUM TV lagao.mp3', 'T.V par jeo news lagao.mp3', 'T.V par masala T.V lagao.mp3', 'T.V par Q-TV lagao.mp3', 'T.V par samaa news lagao.mp3', 'T.V pr ARY news lagao.mp3', 'T.V pr cartoon network lagao.mp3', 'T.V unmute karo.mp3', 'Washroom ka Bulb band karo.mp3', 'Washroom ka Bulb jalao.mp3', 'Washroom ka Bulb off karo.mp3', 'Washroom ka Bulb on Karo.mp3', 'Washroom ki light band karo.mp3', 'Washroom ki light jalao.mp3', 'Washroom ki light off karo.mp3', 'Washroom ki light on Karo.mp3']\n",
      "\n",
      "['A.C ahista karo.mp3', 'A.C band karo.mp3', 'A.C chlao.mp3', 'A.C fast karo.mp3', 'A.C off karo.mp3', 'A.C on karo.mp3', 'A.C slow karo.mp3', 'A.C tez karo.mp3', 'Agla channel lagao.mp3', 'Agla Ganna lagao.mp3', 'Agla Song lagao.mp3', 'Bathroom ka Bulb band karo.mp3', 'Bathroom ka Bulb jalao.mp3', 'Bathroom ka Bulb off karo.mp3', 'Bathroom ka Bulb on karo.mp3', 'Bathroom ki light band karo.mp3', 'Bathroom ki light jalao.mp3', 'Bathroom ki Light off karo.mp3', 'Bathroom ki light on karo.mp3', 'Bedroom ka Bulb band karo.mp3', 'Bedroom ka Bulb jalao.mp3', 'Bedroom ka Bulb off karo.mp3', 'Bedroom ka Bulb on karo.mp3', 'Bedroom ki Light band karo.mp3', 'Bedroom ki Light jalao.mp3', 'Bedroom ki Light off karo.mp3', 'Bedroom ki Light on karo.mp3', 'Bethaq ka Bulb band karo.mp3', 'Bethaq ka Bulb jalao.mp3', 'Bethaq ka Bulb off karo.mp3', 'Bethaq ka Bulb ok karo.mp3', 'Bethaq ki Light band karo.mp3', 'Bethaq ki Light jalao.mp3', 'Bethaq ki Light off karo.mp3', 'Bethaq ki Light on karo.mp3', 'Gaaney lagao.mp3', 'Garage ka Bulb band karo.mp3', 'Garage ka Bulb jalao.mp3', 'Garage ka Bulb off karo.mp3', 'Garage ka Bulb on karo.mp3', 'Garage ki Light band karo.mp3', 'Garage ki Light jalao.mp3', 'Garage ki Light off karo.mp3', 'Garage ki Light on karo.mp3', 'Kitchen ka Bulb band karo.mp3', 'Kitchen ka Bulb jalao.mp3', 'Kitchen ka Bulb off karo.mp3', 'Kitchen ka Bulb on karo.mp3', 'Kitchen ki Light band karo.mp3', 'Kitchen ki Light jalao.mp3', 'Kitchen ki Light off karo.mp3', 'Kitchen ki Light on Karo.mp3', 'Lounge ka Bulb band karo.mp3', 'Lounge ka Bulb jalao.mp3', 'Lounge ka Bulb off karo.mp3', 'Lounge ka Bulb on karo.mp3', 'Lounge ki Light band karo.mp3', 'Lounge ki Light jalao.mp3', 'Lounge ki Light off karo.mp3', 'Lounge ki Light on karo.mp3', 'Next channel lagao.mp3', 'Next Gaana lagao.mp3', 'Next Song lagao.mp3', 'Phichla channel lagao.mp3', 'Pichla Ganna lagao.mp3', 'Pichla Song lagao.mp3', 'Previous channel lagao.mp3', 'Previous Gaana lagao.mp3', 'Previous Song lagao.mp3', 'Songs lagao.mp3', 'T.V band karo.mp3', 'T.V chlao.mp3', 'T.V ka volume ahista karo.mp3', 'T.V ka volume kum karo.mp3', 'T.V ka volume slow karo.mp3', 'T.V ka volume tez karo.mp3', 'T.V ka volume ziada karo.mp3', 'T.V ki awaaz ahista karo.mp3', 'T.V ki awaaz kum karo.mp3', 'T.V ki awaaz slow karo.mp3', 'T.V ki Awaaz Tez karo.mp3', 'T.V ki awaaz ziada karo.mp3', 'T.V mute karo.mp3', 'T.V off karo.mp3', 'T.V on karo.mp3', 'T.V par ARY Digital lagao.mp3', 'T.V par ARY news lagao.mp3', 'T.V par cartoon network lagao.mp3', 'T.V par discovery lagao.mp3', 'T.V par HBO lagao.mp3', 'T.V par HUM TV lagao.mp3', 'T.V par Masla TV lagao.mp3', 'T.V par Q-TV lagao.mp3', 'T.V per jao news lagao.mp3', 'T.V per samaa news lagao.mp3', 'T.V unmute karo.mp3', 'Washroom ka Bulb band karo.mp3', 'Washroom ka Bulb jalao.mp3', 'Washroom ka Bulb off karo.mp3', 'Washroom ka Bulb on karo.mp3', 'Washroom ki Light band karo.mp3', 'Washroom ki Light jalao.mp3', 'Washroom ki Light off karo.mp3', 'Washroom ki light on karo.mp3']\n",
      "\n",
      "['A C band karo.mp3', 'A C slow karo.mp3', 'A.C ahista karo.mp3', 'A.C band karo.mp3', 'A.C chalao.mp3', 'A.C fast karo.mp3', 'A.C off karo.mp3', 'A.C on karo.mp3', 'A.C slow karo.mp3', 'A.C tez karo.mp3', 'AC band karo.mp3', 'AC chalao.mp3', 'AC off karo.mp3', 'AC on karo.mp3', 'agla channel lagao.mp3', 'agla gaana lagao.mp3', 'agla song lagao.mp3', 'bathroom ka bulb band karo.mp3', 'bathroom ka bulb jalao.mp3', 'bathroom ka bulb off karo.mp3', 'bathroom ka bulb on karo.mp3', 'bathroom ki light band karo.mp3', 'bathroom ki light jalao.mp3', 'bathroom ki light off karo.mp3', 'bathroom ki light on karo.mp3', 'bedroom ka bulb band karo.mp3', 'bedroom ka bulb jalao.mp3', 'bedroom ka bulb off karo.mp3', 'bedroom ka bulb on karo.mp3', 'bedroom ki light band karo.mp3', 'bedroom ki light jalao.mp3', 'bedroom ki light off karo.mp3', 'bedroom ki light on karo.mp3', 'bethaq ka bulb band karo.mp3', 'bethaq ka bulb jalao.mp3', 'bethaq ka bulb off karo.mp3', 'bethaq ka bulb on karo.mp3', 'bethaq ki light band karo.mp3', 'bethaq ki light jalao.mp3', 'bethaq ki light off karo.mp3', 'bethaq ki light on karo.mp3', 'bulb band karo.mp3', 'bulb jalao.mp3', 'bulb off karo.mp3', 'bulb on karo.mp3', 'fan ahista karo.mp3', 'fan band karo.mp3', 'fan chalao.mp3', 'fan fast karo.mp3', 'fan off karo.mp3', 'fan on karo.mp3', 'fan slow karo.mp3', 'fan Tez karo.mp3', 'gaaney lagao.mp3', 'garage ka bulb band karo.mp3', 'garage ka bulb jalao.mp3', 'garage ka bulb off karo.mp3', 'garage ka bulb on karo.mp3', 'garage ki light band karo.mp3', 'garage ki light jalao.mp3', 'garage ki light off karo.mp3', 'garage ki light on karo.mp3', 'kitchen ka bulb band karo.mp3', 'kitchen ka bulb jalao.mp3', 'kitchen ka bulb off karo.mp3', 'kitchen ka bulb on karo.mp3', 'kitchen ki light band karo.mp3', 'kitchen ki light jalao.mp3', 'kitchen ki light off karo.mp3', 'kitchen ki light on karo.mp3', 'light band karo.mp3', 'light jalao.mp3', 'light off karo.mp3', 'light on karo.mp3', 'lounge ka bulb band karo.mp3', 'lounge ka bulb jalao.mp3', 'lounge ka bulb off karo.mp3', 'lounge ka bulb on karo.mp3', 'lounge ki light band karo.mp3', 'lounge ki light jalao.mp3', 'lounge ki light off karo.mp3', 'lounge ki light on karo.mp3', 'next channel lagao.mp3', 'next gaana lagao.mp3', 'next song lagao.mp3', 'pankha ahista karo.mp3', 'pankha band karo.mp3', 'pankha chalao.mp3', 'pankha fast karo.mp3', 'pankha off karo.mp3', 'pankha on karo.mp3', 'pankha slow karo.mp3', 'pankha Tez karo.mp3', 'pichla channel lagao.mp3', 'pichla gana lagao.mp3', 'pichla song lagao.mp3', 'previous channel lagao.mp3', 'previous gaana lagao.mp3', 'previous song lagao.mp3', 'songs lagao.mp3', 'T V par Q-TV lagao.mp3', 'T.V band karo.mp3', 'T.V chalao.mp3', 'T.V ka volume ahista karo.mp3', 'T.V ka volume kum karo.mp3', 'T.V ka volume slow karo.mp3', 'T.V ka volume tez karo.mp3', 'T.V ka volume ziada karo.mp3', 'T.V ki awaz ahista karo.mp3', 'T.V ki awaz Kam karo.mp3', 'T.V ki awaz slow karo.mp3', 'T.V ki awaz tez karo.mp3', 'T.V ki awaz ziada karo.mp3', 'T.V lar ARY news lagao.mp3', 'T.V mute karo.mp3', 'T.V off karo.mp3', 'T.V on karo.mp3', 'T.V par ARY digital lagao.mp3', 'T.V par cartoon network lagao.mp3', 'T.V par discovery lagao.mp3', 'T.V par HBO lagao.mp3', 'T.V par HUM TV lagao.mp3', 'T.V par jeo news lagao.mp3', 'T.V par masala TV lagao.mp3', 'T.V par samaa news lagao.mp3', 'T.V unmute karo.mp3', 'TV band karo.mp3', 'TV chalao.mp3', 'TV off karo.mp3', 'TV on karo.mp3', 'washroom ka bulb band karo.mp3', 'washroom ka bulb jalao.mp3', 'washroom ka bulb off karo.mp3', 'washroom ka bulb on karo.mp3', 'washroom ki light band karo.mp3', 'washroom ki light jalao.mp3', 'washroom ki light off karo.mp3', 'washroom ki light on karo.mp3']\n",
      "\n",
      "[' A.C chlao.mp3', ' A.C fast karo.mp3', ' Lounge ka Bulb on karo.mp3', ' Lounge ki Light band karo.mp3', ' Lounge ki Light off karo.mp3', ' Lounge ki Light on karo.mp3', ' Next channel lagao.mp3', ' Next Gaana lagao.mp3', ' Next Song lagao.mp3', ' Pichla channel lagao.mp3', ' Pichla Gaana lagao.mp3', ' Pichla Song lagao.mp3', ' Previous channel lagao.mp3', ' Previous Gaana lagao.mp3', ' Previous Song lagao.mp3', ' Songs lagao.mp3', ' T.V band karo.mp3', ' T.V chlao.mp3', ' T.V ka volume ahista karo.mp3', ' T.V ka volume Kum karo.mp3', ' T.V ka volume slow karo.mp3', ' T.V ka volume tez karo.mp3', ' T.V ka volume ziada karo.mp3', ' T.V ki awaz ahista karo.mp3', ' T.V ki awaz kum karo.mp3', ' T.V ki awaz slow karo.mp3', ' T.V ki awaz tez karo.mp3', ' T.V ki awaz ziada karo.mp3', ' T.V mute karo.mp3', ' T.V off karo.mp3', ' T.V on karo.mp3', ' T.V par ARY Digital lagao.mp3', ' T.V par ARY news lagao.mp3', ' T.V par cartoon network lagao.mp3', ' T.V par discovery lagao.mp3', ' T.V par HBO lagao.mp3', ' T.V par HUM TV lagao.mp3', ' T.V par jeo news lagao.mp3', ' T.V par Masla TV lagao.mp3', ' T.V par Q-TV lagao.mp3', ' T.V par samaa news lagao.mp3', ' T.V unmute karo.mp3', ' Washroom ka Bulb band karo.mp3', ' Washroom ka Bulb jalao.mp3', ' Washroom ka Bulb off karo.mp3', ' Washroom ka Bulb on karo.mp3', ' Washroom ki Light band karo.mp3', ' Washroom ki Light off karo.mp3', ' Washroom ki Light on karo.mp3', 'A.C ahista karo.mp3', 'A.C band karo.mp3', 'A.C off karo.mp3', 'A.C on Karo.mp3', 'A.C slow karo.mp3', 'A.C tez karo.mp3', 'Agla channel lagao.mp3', 'Agla Gaana lagao.mp3', 'Agla Song lagao.mp3', 'Bathroom ka Bulb band karo.mp3', 'Bathroom ka Bulb jalao.mp3', 'Bathroom ka Bulb off karo.mp3', 'Bathroom ka Bulb on karo.mp3', 'Bathroom ki Light band karo.mp3', 'Bathroom ki Light off karo.mp3', 'Bathroom ki Light on karo.mp3', 'Bedroom ka Bulb band karo.mp3', 'Bedroom ka Bulb jalao.mp3', 'Bedroom ka Bulb off karo.mp3', 'Bedroom ka Bulb on karo.mp3', 'Bedroom ki Light band karo.mp3', 'Bedroom ki Light off karo.mp3', 'Bedroom ki Light on karo.mp3', 'Bethaq ka Bulb band karo.mp3', 'Bethaq ka Bulb jalao.mp3', 'Bethaq ka Bulb off karo.mp3', 'Bethaq ka Bulb on karo.mp3', 'Bethaq ki Light band karo.mp3', 'Bethaq ki Light off karo.mp3', 'Bethaq ki Light on karo.mp3', 'Gaaney lagao.mp3', 'Garage ka Bulb band karo.mp3', 'Garage ka Bulb jalao.mp3', 'Garage ka Bulb off karo.mp3', 'Garage ka Bulb on karo.mp3', 'Garage ki Light band karo.mp3', 'Garage ki Light off karo.mp3', 'Garage ki Light on karo.mp3', 'Kitchen ka Bulb band karo.mp3', 'Kitchen ka Bulb jalao.mp3', 'Kitchen ka Bulb off karo.mp3', 'Kitchen ka Bulb on karo.mp3', 'Kitchen ki Light band karo.mp3', 'Kitchen ki Light off karo.mp3', 'Kitchen ki Light on karo.mp3', 'Lounge ka Bulb band karo.mp3', 'Lounge ka Bulb jalao.mp3', 'Lounge ka Bulb off karo.mp3']\n",
      "\n",
      "['A.C ahista karo.mp3', 'A.C band karo.mp3', 'A.C chalao.mp3', 'A.C fast karo.mp3', 'A.C off karo.mp3', 'A.C on karo.mp3', 'A.C slow karo.mp3', 'A.C teiz karo.mp3', 'Agla channel lagao.mp3', 'agla gana lagao.mp3', 'agla song lagao.mp3', 'Bathroom ka Bulb band karo.mp3', 'Bathroom ka Bulb jalao.mp3', 'Bathroom ka Bulb off karo.mp3', 'Bathroom ka Bulb on karo.mp3', 'Bathroom ki Light band karo.mp3', 'Bathroom ki Light jalao.mp3', 'Bathroom ki Light off karo.mp3', 'Bathroom ki Light on karo.mp3', 'Bedroom ka Bulb band karo.mp3', 'Bedroom ka Bulb jalao.mp3', 'Bedroom ka Bulb off karo.mp3', 'Bedroom ka Bulb on karo.mp3', 'Bedroom ki Light band karo.mp3', 'Bedroom ki Light jalao.mp3', 'Bedroom ki Light off karo.mp3', 'Bedroom ki Light on karo.mp3', 'Bethaq ka Bulb band karo.mp3', 'Bethaq ka Bulb jalao.mp3', 'Bethaq ka Bulb off karo.mp3', 'Bethaq ka Bulb on karo.mp3', 'Bethaq ki Light band karo.mp3', 'Bethaq ki Light jalao.mp3', 'Bethaq ki Light off karo.mp3', 'Bethaq ki Light on karo.mp3', 'ganay lagao.mp3', 'Garage ka Bulb band karo.mp3', 'Garage ka Bulb jalao.mp3', 'Garage ka Bulb off karo.mp3', 'Garage ka Bulb on karo.mp3', 'Garage ki Light band karo.mp3', 'Garage ki Light jalao.mp3', 'Garage ki Light off karo.mp3', 'Garage ki Light on karo.mp3', 'Kitchen ka Bulb band karo.mp3', 'Kitchen ka Bulb jalao.mp3', 'Kitchen ka Bulb off karo.mp3', 'Kitchen ka Bulb on karo.mp3', 'Kitchen ki Light band karo.mp3', 'Kitchen ki Light jalao.mp3', 'Kitchen ki Light off karo.mp3', 'Kitchen ki Light on karo.mp3', 'Lounge ka Bulb band karo.mp3', 'Lounge ka Bulb jalao.mp3', 'Lounge ka Bulb off karo.mp3', 'Lounge ka Bulb on karo.mp3', 'Lounge ki Light band karo.mp3', 'Lounge ki Light jalao.mp3', 'Lounge ki Light off karo.mp3', 'Lounge ki Light on karo.mp3', 'Next channel lagao.mp3', 'next gana lagao.mp3', 'next song lagao.mp3', 'pichla channel lagao.mp3', 'pichla gana lagao.mp3', 'pichla song lagao.mp3', 'Previous channel lagao.mp3', 'previous gana lagao.mp3', 'previous song lagao.mp3', 'songs lagao.mp3', 'T.V band karo.mp3', 'T.V chalao.mp3', 'T.V ka volume ahista karo.mp3', 'T.V ka volume kam karo.mp3', 'T.V ka volume slow karo.mp3', 'T.V ka volume tez karo.mp3', 'T.V ka volume zaida karo.mp3', 'T.V ki awaz ahista karo.mp3', 'T.V ki awaz kam karo.mp3', 'T.V ki awaz slow karo.mp3', 'T.V ki awaz tez karo.mp3', 'T.V ki awaz zaida karo.mp3', 'T.V mute karo.mp3', 'T.V off karo.mp3', 'T.V on karo.mp3', 'T.V par ARY DIGITAL lagao.mp3', 'T.V par ARY news lagao.mp3', 'T.V par cartoon network lagao.mp3', 'T.V par discovery lagao.mp3', 'T.V par HBO lagao.mp3', 'T.V par HUM TV lagao.mp3', 'T.V par jeo news lagao.mp3', 'T.V par MASLA TV lagao.mp3', 'T.V par Q-TV lagao.mp3', 'T.V par samaa news lagao.mp3', 'T.V unmute karo.mp3', 'Washroom ka Bulb band karo.mp3', 'Washroom ka Bulb jalao.mp3', 'Washroom ka Bulb off karo.mp3', 'Washroom ka Bulb on karo.mp3', 'Washroom ki Light band karo.mp3', 'Washroom ki Light jalao.mp3', 'Washroom ki Light off karo.mp3', 'Washroom ki Light on karo.mp3']\n",
      "\n",
      "['A.C ahista karo.mp3', 'A.C ahista karo.wav', 'A.C band karo.mp3', 'A.C band karo.wav', 'A.C chlao.mp3', 'A.C chlao.wav', 'A.C fast karo.mp3', 'A.C fast karo.wav', 'A.C off karo.mp3', 'A.C off karo.wav', 'A.C on karo.mp3', 'A.C on karo.wav', 'A.C slow karo.mp3', 'A.C slow karo.wav', 'A.C tez karo.mp3', 'A.C tez karo.wav', 'Agla channel lagao.mp3', 'Agla channel lagao.wav', 'Agla Gaana lagao.mp3', 'Agla Gaana lagao.wav', 'Agla Song lagao.mp3', 'Agla Song lagao.wav', 'Bathroom ka Bulb band karo.mp3', 'Bathroom ka Bulb band karo.wav', 'Bathroom Ka Bulb jalao.mp3', 'Bathroom Ka Bulb jalao.wav', 'Bathroom ka Bulb off karo.mp3', 'Bathroom ka Bulb off karo.wav', 'Bathroom ka Bulb on karo.mp3', 'Bathroom ka Bulb on karo.wav', 'Bathroom ki Light band karo.mp3', 'Bathroom ki Light band karo.wav', 'Bathroom Ki Light jalao.mp3', 'Bathroom Ki Light jalao.wav', 'Bathroom ki Light off karo.mp3', 'Bathroom ki Light off karo.wav', 'Bathroom ki Light on karo.mp3', 'Bathroom ki Light on karo.wav', 'Bedroom ka Bulb band karo.mp3', 'Bedroom ka Bulb band karo.wav', 'Bedroom Ka Bulb jalao.mp3', 'Bedroom Ka Bulb jalao.wav', 'Bedroom ka Bulb off karo.mp3', 'Bedroom ka Bulb off karo.wav', 'Bedroom ka Bulb on karo.mp3', 'Bedroom ka Bulb on karo.wav', 'Bedroom ki Light band karo.mp3', 'Bedroom ki Light band karo.wav', 'Bedroom Ki Light jalao.mp3', 'Bedroom Ki Light jalao.wav', 'Bedroom ki Light off karo.mp3', 'Bedroom ki Light off karo.wav', 'Bedroom ki Light on karo.mp3', 'Bedroom ki Light on karo.wav', 'Bethaq ka Bulb band karo.mp3', 'Bethaq ka Bulb band karo.wav', 'Bethaq Ka Bulb jalao.mp3', 'Bethaq Ka Bulb jalao.wav', 'Bethaq ka Bulb off karo.mp3', 'Bethaq ka Bulb off karo.wav', 'Bethaq ka Bulb on karo.mp3', 'Bethaq ka Bulb on karo.wav', 'Bethaq ki Light band karo.mp3', 'Bethaq ki Light band karo.wav', 'Bethaq Ki Light jalao.mp3', 'Bethaq Ki Light jalao.wav', 'Bethaq ki Light off karo.mp3', 'Bethaq ki Light off karo.wav', 'Bethaq ki Light on karo.mp3', 'Bethaq ki Light on karo.wav', 'Gaaney lagao.mp3', 'Gaaney lagao.wav', 'Garage ka Bulb band karo.mp3', 'Garage ka Bulb band karo.wav', 'Garage Ka Bulb jalao.mp3', 'Garage Ka Bulb jalao.wav', 'Garage ka Bulb off karo.mp3', 'Garage ka Bulb off karo.wav', 'Garage ka Bulb on karo.mp3', 'Garage ka Bulb on karo.wav', 'Garage ki Light band karo.mp3', 'Garage ki Light band karo.wav', 'Garage Ki Light jalao.mp3', 'Garage Ki Light jalao.wav', 'Garage ki Light off karo.mp3', 'Garage ki Light off karo.wav', 'Garage ki Light on karo.mp3', 'Garage ki Light on karo.wav', 'Kitchen ka Bulb band karo.mp3', 'Kitchen ka Bulb band karo.wav', 'Kitchen Ka Bulb jalao.mp3', 'Kitchen Ka Bulb jalao.wav', 'Kitchen ka Bulb off karo.mp3', 'Kitchen ka Bulb off karo.wav', 'Kitchen ka Bulb on karo.mp3', 'Kitchen ka Bulb on karo.wav', 'Kitchen ki Light band karo.wav', 'Kitchen Ki Light jalao.mp3', 'Kitchen Ki Light jalao.wav', 'Kitchen ki light off karo.mp3', 'Kitchen ki light off karo.wav', 'Kitchen ki Light on karo.mp3', 'Kitchen ki Light on karo.wav', 'Lounge ka Bulb band karo.mp3', 'Lounge ka Bulb band karo.wav', 'Lounge Ka Bulb jalao.mp3', 'Lounge Ka Bulb jalao.wav', 'Lounge ka Bulb off karo.mp3', 'Lounge ka Bulb off karo.wav', 'Lounge ka Bulb on karo.mp3', 'Lounge ka Bulb on karo.wav', 'Lounge ki Light band karo.mp3', 'Lounge ki Light band karo.wav', 'Lounge Ki Light jalao.mp3', 'Lounge Ki Light jalao.wav', 'Lounge ki Light off karo.mp3', 'Lounge ki Light off karo.wav', 'Lounge ki Light on karo.mp3', 'Lounge ki Light on karo.wav', 'Next channel lagao.mp3', 'Next channel lagao.wav', 'Next Gaana lagao.mp3', 'Next Gaana lagao.wav', 'Next Song lagao.mp3', 'Next Song lagao.wav', 'Pichla channel lagao.mp3', 'Pichla channel lagao.wav', 'Pichla Gaana lagao.mp3', 'Pichla Gaana lagao.wav', 'Pichla Song lagao.mp3', 'Pichla Song lagao.wav', 'Previous channel lagao.mp3', 'Previous channel lagao.wav', 'Previous Gaana lagao.mp3', 'Previous Gaana lagao.wav', 'Previous Song lagao.mp3', 'Previous Song lagao.wav', 'Songs lagao.mp3', 'Songs lagao.wav', 'T.V band karo.mp3', 'T.V band karo.wav', 'T.V chlao.mp3', 'T.V chlao.wav', 'T.V ka volume ahista karo.mp3', 'T.V ka volume ahista karo.wav', 'T.V ka volume kum karo.mp3', 'T.V ka volume kum karo.wav', 'T.V ka volume slow karo.mp3', 'T.V ka volume slow karo.wav', 'T.V ka volume tez karo.mp3', 'T.V ka volume tez karo.wav', 'T.V ka volume ziada karo.mp3', 'T.V ka volume ziada karo.wav', 'T.V ki awaz ahista karo.mp3', 'T.V ki awaz ahista karo.wav', 'T.V ki awaz kum karo.mp3', 'T.V ki awaz kum karo.wav', 'T.V ki awaz slow karo.mp3', 'T.V ki awaz slow karo.wav', 'T.V ki awaz tez karo.mp3', 'T.V ki awaz tez karo.wav', 'T.V ki awaz ziada karo.mp3', 'T.V ki awaz ziada karo.wav', 'T.V mute karo.mp3', 'T.V mute karo.wav', 'T.V off karo.mp3', 'T.V off karo.wav', 'T.V on karo.mp3', 'T.V on karo.wav', 'T.V par ARY DIGITAL lagao.mp3', 'T.V par ARY DIGITAL lagao.wav', 'T.V par ARY news lagao.mp3', 'T.V par ARY news lagao.wav', 'T.V par cartoon network lagao.mp3', 'T.V par cartoon network lagao.wav', 'T.V par discovery lagao.mp3', 'T.V par discovery lagao.wav', 'T.V par HBO lagao.mp3', 'T.V par HBO lagao.wav', 'T.V par HUM TV lagao.mp3', 'T.V par HUM TV lagao.wav', 'T.V par jeo news lagao.mp3', 'T.V par jeo news lagao.wav', 'T.V par Masla TV lagao.mp3', 'T.V par Masla TV lagao.wav', 'T.V par Q-TV lagao.mp3', 'T.V par Q-TV lagao.wav', 'T.V par samaa news lagao.mp3', 'T.V par samaa news lagao.wav', 'T.V unmute karo.mp3', 'T.V unmute karo.wav', 'Voice 001.mp3', 'Voice 001.wav', 'Washroom ka Bulb band karo.mp3', 'Washroom ka Bulb band karo.wav', 'Washroom Ka Bulb jalao.mp3', 'Washroom Ka Bulb jalao.wav', 'Washroom ka Bulb off karo.mp3', 'Washroom ka Bulb off karo.wav', 'Washroom ka Bulb on karo.mp3', 'Washroom ka Bulb on karo.wav', 'Washroom ki Light band karo.mp3', 'Washroom ki Light band karo.wav', 'Washroom Ki Light jalao.mp3', 'Washroom Ki Light jalao.wav', 'Washroom ki Light off karo.mp3', 'Washroom ki Light off karo.wav', 'Washroom ki Light on karo.mp3', 'Washroom ki Light on karo.wav']\n",
      "\n",
      "['A.C ahista karo.mp3', 'A.C band karo.mp3', 'A.C chlao.mp3', 'A.C fast karo.mp3', 'A.C off karo.mp3', 'A.C on karo.mp3', 'A.C slow karo.mp3', 'A.C tez karo.mp3', 'Agla channel lagao.mp3', 'Agla Gaana lagao.mp3', 'Agla Song lagao.mp3', 'Bathroom ka Bulb band karo.mp3', 'Bathroom ka Bulb jalao.mp3', 'Bathroom ka Bulb off karo.mp3', 'Bathroom ka Bulb on karo.mp3', 'Bathroom ki Light band karo.mp3', 'Bathroom ki Light jalao.mp3', 'Bathroom ki Light off karo.mp3', 'Bathroom ki Light on karo.mp3', 'Bedroom ka Bulb band karo.mp3', 'Bedroom ka Bulb jalao.mp3', 'Bedroom ka Bulb off karo.mp3', 'Bedroom ka Bulb on karo.mp3', 'Bedroom ki Light band karo.mp3', 'Bedroom ki Light jalao.mp3', 'Bedroom ki Light off karo.mp3', 'Bedroom ki Light on karo.mp3', 'Bethaq ka Bulb band karo.mp3', 'Bethaq ka Bulb jalao.mp3', 'Bethaq ka Bulb off karo.mp3', 'Bethaq ka Bulb on karo.mp3', 'Bethaq ki Light band karo.mp3', 'Bethaq ki Light jalao.mp3', 'Bethaq ki Light off karo.mp3', 'Bethaq ki Light on karo.mp3', 'Gaaney lagao.mp3', 'Garage ka Bulb band karo.mp3', 'Garage ka Bulb jalao.mp3', 'Garage ka Bulb off karo.mp3', 'Garage ka Bulb on karo.mp3', 'Garage ki Light band karo.mp3', 'Garage ki Light jalao.mp3', 'Garage ki Light off karo.mp3', 'Garage ki Light on karo.mp3', 'Kitchen ka Bulb band karo.mp3', 'Kitchen ka Bulb jalao.mp3', 'Kitchen ka Bulb off karo.mp3', 'Kitchen ka Bulb on karo.mp3', 'Kitchen ki Light band karo.mp3', 'Kitchen ki Light jalao.mp3', 'Kitchen ki Light off karo.mp3', 'Kitchen ki Light on karo.mp3', 'Lounge ka Bulb band karo.mp3', 'Lounge ka Bulb jalao.mp3', 'Lounge ka Bulb off karo.mp3', 'Lounge ka Bulb on karo.mp3', 'Lounge ki Light band karo.mp3', 'Lounge ki Light jalao.mp3', 'Lounge ki Light off karo.mp3', 'Lounge ki Light on karo.mp3', 'Next channel lagao.mp3', 'Next Gaana lagao.mp3', 'Next Song lagao.mp3', 'Pichla channel lagao.mp3', 'Pichla Gaana lagao.mp3', 'Pichla Song lagao.mp3', 'Previous channel lagao.mp3', 'Previous Gaana lagao.mp3', 'Previous Song lagao.mp3', 'Songs lagao.mp3', 'T.V band karo.mp3', 'T.V chlao.mp3', 'T.V ka volume ahista karo.mp3', 'T.V ka volume kum karo.mp3', 'T.V ka volume slow karo.mp3', 'T.V ka volume tez karo.mp3', 'T.V ka volume ziada karo.mp3', 'T.V ki awaz ahista karo.mp3', 'T.V ki awaz kum karo.mp3', 'T.V ki awaz slow karo.mp3', 'T.V ki awaz tez karo.mp3', 'T.V ki awaz ziada karo.mp3', 'T.V mute karo.mp3', 'T.V off karo.mp3', 'T.V on karo.mp3', 'T.V par ARY Digital lagao.mp3', 'T.V par ARY news lagao.mp3', 'T.V par cartoon network lagao.mp3', 'T.V par discovery lagao.mp3', 'T.V par HBO lagao.mp3', 'T.V par HUM TV lagao.mp3', 'T.V par jeo news lagao.mp3', 'T.V par Masla TV lagao.mp3', 'T.V par Q-TV lagao.mp3', 'T.V par samaa news lagao.mp3', 'T.V unmute karo.mp3', 'Washroom ka Bulb band karo.mp3', 'Washroom ka Bulb jalao.mp3', 'Washroom ka Bulb off karo.mp3', 'Washroom ka Bulb on karo.mp3', 'Washroom ki Light band karo.mp3', 'Washroom ki Light jalao.mp3', 'Washroom ki Light off karo.mp3', 'Washroom ki Light on karo.mp3']\n",
      "\n",
      "['A.C ahista karo.mp3', 'A.C band karo.mp3', 'A.C chlao.mp3', 'A.C fast karo.mp3', 'A.C off karo.mp3', 'A.C on karo.mp3', 'A.C slow karo.mp3', 'A.C tez karo.mp3', 'Agla channel lagao.mp3', 'Agla Gaana lagao.mp3', 'Agla Song lagao.mp3', 'Bathroom ka Bulb band karo.mp3', 'Bathroom ka Bulb jalao.mp3', 'Bathroom ka Bulb off karo.mp3', 'Bathroom ka Bulb on karo.mp3', 'Bathroom ki Light band karo.mp3', 'Bathroom ki Light jalao.mp3', 'Bathroom ki Light off karo.mp3', 'Bathroom ki Light on karo.mp3', 'Bedroom ka Bulb band karo.mp3', 'Bedroom ka Bulb jalao.mp3', 'Bedroom ka Bulb off karo.mp3', 'Bedroom ka Bulb on karo.mp3', 'Bedroom ki Light band karo.mp3', 'Bedroom ki Light jalao.mp3', 'Bedroom ki Light off karo.mp3', 'Bedroom ki Light on karo.mp3', 'Bethaq ka Bulb band karo.mp3', 'Bethaq ka Bulb jalao.mp3', 'Bethaq ka Bulb off karo.mp3', 'Bethaq ka Bulb on karo.mp3', 'Bethaq ki Light band karo.mp3', 'Bethaq ki Light jalao.mp3', 'Bethaq ki Light off karo.mp3', 'Bethaq ki Light on karo.mp3', 'Gaaney lagao.mp3', 'Garage ka Bulb band karo.mp3', 'Garage ka Bulb jalao.mp3', 'Garage ka Bulb off karo.mp3', 'Garage ka Bulb on karo.mp3', 'Garage ki Light band karo.mp3', 'Garage ki Light jalao.mp3', 'Garage ki Light off karo.mp3', 'Garage ki Light on karo.mp3', 'Kitchen ka Bulb band karo.mp3', 'Kitchen ka Bulb jalao.mp3', 'Kitchen ka Bulb off karo.mp3', 'Kitchen ka Bulb on karo.mp3', 'Kitchen ki Light band karo.mp3', 'Kitchen ki Light jalao.mp3', 'Kitchen ki Light off karo.mp3', 'Kitchen ki Light on karo.mp3', 'Lounge ka Bulb band karo.mp3', 'Lounge ka Bulb jalao.mp3', 'Lounge ka Bulb off karo.mp3', 'Lounge ka Bulb on karo.mp3', 'Lounge ki Light band karo.mp3', 'Lounge ki Light jalao.mp3', 'Lounge ki Light off karo.mp3', 'Lounge ki Light on karo.mp3', 'Next channel lagao.mp3', 'Next Gaana lagao.mp3', 'Next Song lagao.mp3', 'Pichla channel lagao.mp3', 'Pichla Gaana lagao.mp3', 'Pichla Song lagao.mp3', 'Previous channel lagao.mp3', 'Previous Gaana lagao.mp3', 'Previous Song lagao.mp3', 'Songs lagao.mp3', 'T.V band karo.mp3', 'T.V chlao.mp3', 'T.V ka volume ahista karo.mp3', 'T.V ka volume kum karo.mp3', 'T.V ka volume slow karo.mp3', 'T.V ka volume tez karo.mp3', 'T.V ka volume ziada karo.mp3', 'T.V ki awaz ahista karo.mp3', 'T.V ki awaz kum karo.mp3', 'T.V ki awaz slow karo.mp3', 'T.V ki awaz tez karo.mp3', 'T.V ki awaz ziada karo.mp3', 'T.V mute karo.mp3', 'T.V off karo.mp3', 'T.V on karo.mp3', 'T.V par ARY Digital lagao.mp3', 'T.V par ARY news lagao.mp3', 'T.V par cartoon network lagao.mp3', 'T.V par discovery lagao.mp3', 'T.V par HBO lagao.mp3', 'T.V par HUM TV lagao.mp3', 'T.V par jeo news lagao.mp3', 'T.V par Masla TV lagao.mp3', 'T.V par Q-TV lagao.mp3', 'T.V par samaa news lagao.mp3', 'T.V unmute karo.mp3', 'Washroom ka Bulb band karo.mp3', 'Washroom ka Bulb jalao.mp3', 'Washroom ka Bulb off karo.mp3', 'Washroom ka Bulb on karo.mp3', 'Washroom ki Light band karo.mp3', 'Washroom ki Light jalao.mp3', 'Washroom ki Light off karo.mp3', 'Washroom ki Light on karo.mp3']\n",
      "\n",
      "['A.C ahista karo.mp3', 'A.C band karo.mp3', 'A.C chalao.mp3', 'A.C fast karo.mp3', 'A.C off karo.mp3', 'A.C slow karo.mp3', 'A.C tez karo.mp3', 'agla channel lagao.mp3', 'Agla gaana lagao.mp3', 'Agla song lagao.mp3', 'Bathroom ka bulb band karo.mp3', 'Bathroom ka bulb jalao.mp3', 'Bathroom ka bulb off karo.mp3', 'Bathroom ka bulb on karo.mp3', 'Bathroom ki light band karo.mp3', 'Bathroom ki light jalao.mp3', 'Bathroom ki light off karo.mp3', 'Bathroom ki light on karo.mp3', 'Bedroom ka bulb band karo.mp3', 'Bedroom ka bulb jalao.mp3', 'Bedroom ka bulb off karo.mp3', 'Bedroom ka bulb on karo.mp3', 'Bedroom ki light band karo.mp3', 'Bedroom ki light jalao.mp3', 'Bedroom ki light off karo.mp3', 'Bedroom ki light on karo.mp3', 'Bethak ka bulb jalao.mp3', 'Bethak ka bulb on karo.mp3', 'Bethak ki light jalao.mp3', 'Bethaq ka bulb band karo.mp3', 'Bethaq ka bulb off karo.mp3', 'Bethaq ki light band karo.mp3', 'Bethaq ki light off karo.mp3', 'Bethaq ki light on karo.mp3', 'Gannay lagao.mp3', 'Garage ka bulb band karo.mp3', 'Garage ka bulb jalao.mp3', 'Garage ka bulb off karo.mp3', 'Garage ka bulb on karo.mp3', 'Garage ki light band karo.mp3', 'Garage ki light jalao.mp3', 'Garage ki light off karo.mp3', 'Garage ki light on karo.mp3', 'Kitchen ka bulb band karo.mp3', 'Kitchen ka bulb jalao.mp3', 'Kitchen ka bulb off karo.mp3', 'Kitchen ka bulb on karo.mp3', 'Kitchen ki light band karo.mp3', 'Kitchen ki light jalao.mp3', 'Kitchen ki light off karo.mp3', 'Kitchen ki light on karo.mp3', 'Lounge ka bulb band karo.mp3', 'Lounge ka bulb jalao.mp3', 'Lounge ka bulb off karo.mp3', 'Lounge ka bulb on karo.mp3', 'Lounge ki light band karo.mp3', 'Lounge ki light jalao.mp3', 'Lounge ki light off karo.mp3', 'Lounge ki light on karo.mp3', 'Next channel lagao.mp3', 'Next gaana lagao.mp3', 'Next song lagao.mp3', 'pichla channel lagao.mp3', 'Pichla gaana lagao.mp3', 'Pichla song lagao.mp3', 'previous channel lagao.mp3', 'Previous gaana lagao.mp3', 'Previous song lagao.mp3', 'Songs lagao.mp3', 'T.V band karo.mp3', 'T.V chalao.mp3', 'T.V ka volume ahista karo.mp3', 'T.V ka volume kum karo.mp3', 'T.V ka volume slow karo.mp3', 'T.V ka volume tez karo.mp3', 'T.V ka volume ziada karo.mp3', 'T.v ki awaz kum karo.mp3', 'T.V ki awaz slow karo.mp3', 'T.V ki awaz tez karo.mp3', 'T.V ki awaz ziada karo.mp3', 'T.V mute karo.mp3', 'T.V off karo.mp3', 'T.V on karo.mp3', 'T.V par ARY digital lagao.mp3', 'T.V par ARY news lagao.mp3', 'T.V par cartoon network lagao.mp3', 'T.V par discovery lagao.mp3', 'T.V par HBO lagao.mp3', 'T.V par HUM tv lagao.mp3', 'T.V par jeo news lagao.mp3', 'T.V par masala TV lagao.mp3', 'T.V par Q-TV lagao.mp3', 'T.V par samaa news lagao.mp3', 'T.V unmute karo.mp3', 'Washroom ka bulb band karo.mp3', 'Washroom ka bulb jalao.mp3', 'Washroom ka bulb off karo.mp3', 'Washroom ka bulb on karo.mp3', 'Washroom ki light band karo.mp3', 'Washroom ki light jalao.mp3', 'Washroom ki light off karo.mp3', 'Washroom ki light on karo.mp3']\n",
      "\n",
      "['A.C ahista karo.m4a', 'A.C band karo.m4a', 'A.C chlao.m4a', 'A.C fast karo.m4a', 'A.C off karo.m4a', 'A.C on karo.m4a', 'A.C slow karo.m4a', 'A.C tez karo.m4a', 'Agla channel lagao .m4a', 'Agla channel lagao.m4a', 'Agla Gaana lagao .m4a', 'Agla Gaana lagao.m4a', 'Agla Song lagao .m4a', 'Agla Song lagao.m4a', 'Bathroom ka Bulb band karo.m4a', 'Bathroom ka Bulb jalao.m4a', 'Bathroom ka Bulb off karo.m4a', 'Bathroom ka Bulb on karo.m4a', 'Bathroom ki Light band karo.m4a', 'Bathroom ki Light jalao.m4a', 'Bathroom ki Light off karo.m4a', 'Bathroom ki Light on karo.m4a', 'Bedroom ka Bulb band karo.m4a', 'Bedroom ka Bulb jalao.m4a', 'Bedroom ka Bulb off karo.m4a', 'Bedroom ka Bulb on karo.m4a', 'Bedroom ki Light band karo.m4a', 'Bedroom ki Light jalao.m4a', 'Bedroom ki Light off karo.m4a', 'Bedroom ki Light on karo.m4a', 'Bethaq ka Bulb band karo.m4a', 'Bethaq ka Bulb jalao.m4a', 'bethaq ka Bulb off karo.m4a', 'Bethaq ka Bulb on karo.m4a', 'Bethaq ki Light band karo.m4a', 'Bethaq ki Light jalao.m4a', 'Bethaq ki Light off karo.m4a', 'Bethaq ki Light on karo.m4a', 'gaaney lagao.m4a', 'Garage ka Bulb band karo.m4a', 'Garage ka Bulb jalao.m4a', 'garage ka Bulb off karo.m4a', 'Garage ka Bulb on karo.m4a', 'Garage ki Light band karo.m4a', 'Garage ki Light jalao.m4a', 'Garage ki Light off karo.m4a', 'Garage ki Light on karo.m4a', 'kitchen ka Bulb band karo.m4a', 'Kitchen ka Bulb jalao.m4a', 'Kitchen ka Bulb off karo.m4a', 'Kitchen ka Bulb on karo.m4a', 'Kitchen ki Light band karo.m4a', 'kitchen ki Light jalao.m4a', 'Kitchen ki Light off karo.m4a', 'Kitchen ki Light on karo.m4a', 'Lounge ka Bulb band karo.m4a', 'Lounge ka Bulb jalao.m4a', 'Lounge ka Bulb off karo.m4a', 'Lounge ka Bulb on karo.m4a', 'Lounge ki Light band karo.m4a', 'Lounge ki Light jalao.m4a', 'Lounge ki Light off karo.m4a', 'Lounge ki Light on karo.m4a', 'Next Channel lagao .m4a', 'Next Channel lagao.m4a', 'next gaana lagao .m4a', 'next gaana lagao.m4a', 'Next Song Lagao .m4a', 'Next Song Lagao.m4a', 'Pichla channel lagao.m4a', 'pichla gaana lagao .m4a', 'pichla gaana lagao.m4a', 'pichla song lagao.m4a', 'Previous channel lagao.m4a', 'Previous Gaana lagao.m4a', 'Previous Song Lagao .m4a', 'Previous Song Lagao.m4a', 'Ruha A.C ahista karo.m4a', 'Ruha A.C band karo.m4a', 'Ruha A.C chlao.m4a', 'Ruha A.C fast karo.m4a', 'Ruha A.C off karo.m4a', 'Ruha A.C on karo.m4a', 'Ruha A.C slow karo.m4a', 'Ruha A.C tez karo.m4a', 'Ruha Bathroom ka Bulb band karo.m4a', 'Ruha Bathroom ka Bulb jalao.m4a', 'Ruha Bathroom ka Bulb off karo.m4a', 'Ruha Bathroom ka Bulb on karo.m4a', 'Ruha Bathroom ki Light band karo.m4a', 'Ruha Bathroom ki Light jalao.m4a', 'Ruha Bathroom ki Light off karo.m4a', 'Ruha Bathroom ki Light on karo.m4a', 'Ruha Bedroom ka Bulb band karo.m4a', 'Ruha Bedroom ka Bulb jalao.m4a', 'Ruha Bedroom ka Bulb off karo.m4a', 'Ruha Bedroom ka Bulb on karo.m4a', 'Ruha Bedroom ki Light band karo.m4a', 'Ruha Bedroom ki Light jalao.m4a', 'Ruha Bedroom ki Light off karo.m4a', 'Ruha Bedroom ki Light on karo.m4a', 'Ruha Bethaq ka Bulb band karo.m4a', 'Ruha Bethaq ka Bulb jalao.m4a', 'Ruha bethaq ka Bulb off karo.m4a', 'Ruha Bethaq ka Bulb on karo.m4a', 'Ruha Bethaq ki Light band karo.m4a', 'Ruha Bethaq ki Light jalao.m4a', 'Ruha Bethaq ki Light off karo.m4a', 'Ruha Bethaq ki Light on karo.m4a', 'ruha gaaney lagao.m4a', 'Ruha Garage ka Bulb band karo.m4a', 'Ruha Garage ka Bulb jalao.m4a', 'Ruha garage ka Bulb off karo.m4a', 'Ruha Garage ka Bulb on karo.m4a', 'Ruha Garage ki Light band karo.m4a', 'Ruha Garage ki Light jalao.m4a', 'Ruha Garage ki Light off karo.m4a', 'Ruha Garage ki Light on karo.m4a', 'Ruha kitchen ka Bulb band karo.m4a', 'Ruha Kitchen ka Bulb jalao.m4a', 'Ruha Kitchen ka Bulb off karo.m4a', 'Ruha Kitchen ka Bulb on karo.m4a', 'Ruha Kitchen ki Light band karo.m4a', 'Ruha kitchen ki Light jalao.m4a', 'Ruha Kitchen ki Light off karo.m4a', 'Ruha Kitchen ki Light on karo.m4a', 'Ruha Lounge ka Bulb band karo.m4a', 'Ruha Lounge ka Bulb jalao.m4a', 'Ruha Lounge ka Bulb off karo.m4a', 'Ruha Lounge ka Bulb on karo.m4a', 'Ruha Lounge ki Light band karo.m4a', 'Ruha Lounge ki Light jalao.m4a', 'Ruha Lounge ki Light off karo.m4a', 'Ruha Lounge ki Light on karo.m4a', 'Ruha Pichla channel lagao.m4a', 'Ruha pichla song lagao.m4a', 'ruha Previous channel lagao.m4a', 'Ruha Previous Gaana lagao.m4a', 'ruha songs lagao.m4a', 'Ruha T.V band karo.m4a', 'Ruha T.V chlao.m4a', 'Ruha T.V ka volume slow karo.m4a', 'Ruha T.V ky awaz ziada karo.m4a', 'Ruha T.V off karo.m4a', 'Ruha T.V on karo.m4a', 'Ruha T.V par Ary Digital lagao.m4a', 'Ruha T.V par Ary news lagao.m4a', 'Ruha T.V par cartoon network lagao.m4a', 'Ruha T.V par discovery lagao.m4a', 'Ruha T.V par HBO lagao.m4a', 'Ruha T.V par HUM TV lagao.m4a', 'Ruha T.V par jeo news lagao.m4a', 'Ruha T.V par Masla TV lagao.m4a', 'Ruha T.V par Q-TV lagao.m4a', 'Ruha T.V par samaa news lagao.m4a', 'ruha t.v unmute karo.m4a', 'Ruha Washroom ka Bulb band karo.m4a', 'Ruha Washroom ka Bulb jalao.m4a', 'Ruha Washroom ka Bulb off karo.m4a', 'Ruha Washroom ka Bulb on karo.m4a', 'Ruha Washroom ki Light band karo.m4a', 'Ruha Washroom ki Light jalao.m4a', 'Ruha Washroom ki Light off karo.m4a', 'Ruha Washroom ki Light on karo.m4a', 'songs lagao.m4a', 'T.V band karo.m4a', 'T.V chlao.m4a', 'T.V ka volume ahista karo .m4a', 'T.V ka volume ahista karo.m4a', 'T.v ka volume kam karo  .m4a', 'T.v ka volume kam karo.m4a', 'T.V ka volume slow karo.m4a', 'T.v ka volume tez karo .m4a', 'T.v ka volume tez karo.m4a', 'T.V ka volume ziada karo  .m4a', 'T.V ka volume ziada karo.m4a', 'T.V ki awaz kam karo .m4a', 'T.V ki awaz kam karo.m4a', 'T.v ky awaz ahista karo .m4a', 'T.v ky awaz ahista karo.m4a', 'T.V ky awaz slow karo .m4a', 'T.V ky awaz slow karo.m4a', 'T.V ky awaz tez karo .m4a', 'T.V ky awaz tez karo.m4a', 'T.V ky awaz ziada karo.m4a', 'T.v mute karo   .m4a', 'T.v mute karo.m4a', 'T.V off karo.m4a', 'T.V on karo.m4a', 'T.V par Ary Digital lagao.m4a', 'T.V par Ary news lagao.m4a', 'T.V par cartoon network lagao.m4a', 'T.V par discovery lagao.m4a', 'T.V par HBO lagao.m4a', 'T.V par HUM TV lagao.m4a', 'T.V par jeo news lagao.m4a', 'T.V par Masla TV lagao.m4a', 'T.V par Q-TV lagao.m4a', 'T.V par samaa news lagao.m4a', 'T.v unmute karo.m4a', 'Washroom ka Bulb band karo.m4a', 'Washroom ka Bulb jalao.m4a', 'Washroom ka Bulb off karo.m4a', 'Washroom ka Bulb on karo.m4a', 'Washroom ki Light band karo.m4a', 'Washroom ki Light jalao.m4a', 'Washroom ki Light off karo.m4a', 'Washroom ki Light on karo.m4a']\n",
      "\n",
      "['A.C ahista karo.m4a', 'A.C band karo.m4a', 'A.C chalao.m4a', 'A.C Fast kro.m4a', 'A.C off karo.m4a', 'A.C on Karoo.m4a', 'A.C slow karo.m4a', 'A.C taez karo.m4a', 'agla channel lagao.m4a', 'agla gana lagao .m4a', 'agla song lagao.m4a', 'bathroom ka bulb band Karo .m4a', 'bathroom ka bulb jalao.m4a', 'bathroom ka bulb off Karo .m4a', 'bathroom ka bulb on Karo.m4a', 'bathroom ki light band Karo .m4a', 'bathroom ki light band karo.m4a', 'bathroom ki light jalao.m4a', 'bathroom ki light off Karo .m4a', 'bathroom ki light on Karo.m4a', 'bedroom ka bulb band Karo .m4a', 'Bedroom ka bulb jalao.m4a', 'bedroom ka bulb off Karo .m4a', 'bedroom ka bulb on Karo .m4a', 'bedroom ki light band Karo .m4a', 'bedroom ki light jalao.m4a', 'bedroom ki light off Karo .m4a', 'bedroom ki light on Karo.m4a', 'bethak ka bulb jalao.m4a', 'bethek ka bulb off Karo .m4a', 'bethek ki light band Karo  1.m4a', 'bethek ki light jalao.m4a', 'bethek ki light off karo .m4a', 'bythak ka bulb on Karo.m4a', 'bythak ki light jalao.m4a', 'bythaq ka bulb band Karo .m4a', 'bythaq ki light band Karo .m4a', 'bythaq ki light on Karo.m4a', 'gany lagao .m4a', 'garage  ki light on Karo.m4a', 'garage ka bulb off Karo .m4a', 'garage ki light band Karo .m4a', 'Garage ki light off karo.m4a', 'Garrage ka bulb band Karo .m4a', 'Garrage ka bulb jalao.m4a', 'garrage ka bulb on Karo.m4a', 'garrage ki light band Karo .m4a', 'garrage ki light jalao.m4a', 'kitchen ka bulb band Karo .m4a', 'kitchen ka bulb bnd kro .m4a', 'kitchen ka bulb jalao.m4a', 'kitchen ka bulb off Karo .m4a', 'kitchen ka bulb on Karo .m4a', 'kitchen ki light band Karo .m4a', 'kitchen ki light jalao.m4a', 'kitchen ki light off karo.m4a', 'kitchen ki light on Karo.m4a', 'launch ki light off karo.m4a', \"lounge ka bulb band karo'.m4a\", 'lounge ka bulb jalao.m4a', 'lounge ka bulb off Karo .m4a', 'lounge ka bulb on Karo .m4a', 'lounge ki light band Karo .m4a', 'lounge ki light jalao.m4a', 'lounge ki light on Karo.m4a', 'next channel lagao.m4a', 'next gana lagao.m4a', 'next song lagao .m4a', 'pichla channel lagao.m4a', 'pichla gana lagao.m4a', 'previous channel lagao.m4a', 'previous gana lagao .m4a', 'previous gana lagao.m4a', 'previous song lagao .m4a', 'songs lagao .m4a', 'T.V band kro.m4a', 'T.V chalaoo.m4a', 'T.V ka volume ahista karo.m4a', 'T.V ka volume kam karo.m4a', 'T.V ka volume slow karo.m4a', 'T.V ka volume taez Karo .m4a', 'T.V ka volume zaida karo.m4a', 'T.V ki awaz ahista karo.m4a', 'T.V ki awaz kam karo.m4a', 'T.V ki awaz slow karo.m4a', 'T.V ki awaz taez karo.m4a', 'T.V ki awaz zaida karo.m4a', 'T.V mute karo.m4a', 'T.V OFF karo.m4a', 'T.V ON karo.m4a', 'T.V per discovery lagao.m4a', 'T.V pr ARY digital lagao .m4a', 'T.V pr cartoon network lagao.m4a', 'T.V pr geo News lagao .m4a', 'T.V pr HBO lagao.m4a', 'T.V pr hum T.V lagao .m4a', 'T.V pr masla T.V lagao.m4a', 'washroom ka bulb band Karo .m4a', 'washroom ka bulb jalao .m4a', 'washroom ka bulb off Karo .m4a', 'washroom ka bulb on Karo .m4a', 'washroom ki light band Karo .m4a', 'washroom ki light jalao.m4a', 'washroom ki light off Karo .m4a', 'washroom ki light on Karo.m4a']\n",
      "\n",
      "['A.C ahista karo.m4a', 'A.C ahista karo.mp3', 'A.C band karo.m4a', 'A.C band karo.mp3', 'A.C chlao.m4a', 'A.C chlao.mp3', 'A.C fast karo.m4a', 'A.C fast karo.mp3', 'A.C on karo.m4a', 'A.C on karo.mp3', 'A.C slow karo.m4a', 'A.C slow karo.mp3', 'A.C tez karo.m4a', 'A.C tez karo.mp3', 'Agla channel lagao.m4a', 'Agla channel lagao.mp3', 'Agla Gaana lagao.m4a', 'Agla Gaana lagao.mp3', 'Agla Song lagao.m4a', 'Agla Song lagao.mp3', 'Bathroom ka Bulb band karo.m4a', 'Bathroom ka Bulb band karo.mp3', 'Bathroom ka Bulb jalao.m4a', 'Bathroom ka Bulb jalao.mp3', 'Bathroom ka Bulb off karo.m4a', 'Bathroom ka Bulb off karo.mp3', 'Bathroom ka Bulb on karo.m4a', 'Bathroom ka Bulb on karo.mp3', 'Bathroom ki Light band karo.m4a', 'Bathroom ki Light band karo.mp3', 'Bathroom ki Light jalao.m4a', 'Bathroom ki Light jalao.mp3', 'Bathroom ki Light off karo.m4a', 'Bathroom ki Light off karo.mp3', 'Bathroom ki Light on karo.m4a', 'Bathroom ki Light on karo.mp3', 'Bedroom ka Bulb band karo.m4a', 'Bedroom ka Bulb band karo.mp3', 'Bedroom ka Bulb jalao.m4a', 'Bedroom ka Bulb jalao.mp3', 'Bedroom ka Bulb off karo.m4a', 'Bedroom ka Bulb off karo.mp3', 'Bedroom ka Bulb on karo.m4a', 'Bedroom ka Bulb on karo.mp3', 'Bedroom ki Light band karo.m4a', 'Bedroom ki Light band karo.mp3', 'Bedroom ki Light jalao.m4a', 'Bedroom ki Light jalao.mp3', 'Bedroom ki Light off karo.m4a', 'Bedroom ki Light off karo.mp3', 'Bedroom ki Light on karo.m4a', 'Bedroom ki Light on karo.mp3', 'Bethaq ka Bulb band karo.m4a', 'Bethaq ka Bulb band karo.mp3', 'Bethaq ka Bulb jalao.m4a', 'Bethaq ka Bulb jalao.mp3', 'Bethaq ka Bulb off karo.m4a', 'Bethaq ka Bulb off karo.mp3', 'Bethaq ka Bulb on karo.m4a', 'Bethaq ka Bulb on karo.mp3', 'Bethaq ki Light band karo.m4a', 'Bethaq ki Light band karo.mp3', 'Bethaq ki Light jalao.m4a', 'Bethaq ki Light jalao.mp3', 'Bethaq ki Light off karo.m4a', 'Bethaq ki Light off karo.mp3', 'Bethaq ki Light on karo.m4a', 'Bethaq ki Light on karo.mp3', 'Gaaney lagao.m4a', 'Gaaney lagao.mp3', 'Garage ka Bulb band karo.m4a', 'Garage ka Bulb band karo.mp3', 'Garage ka Bulb jalao.m4a', 'Garage ka Bulb jalao.mp3', 'Garage ka Bulb off karo.m4a', 'Garage ka Bulb off karo.mp3', 'Garage ka Bulb on karo.m4a', 'Garage ka Bulb on karo.mp3', 'Garage ki Light band karo.m4a', 'Garage ki Light band karo.mp3', 'Garage ki Light jalao.m4a', 'Garage ki Light jalao.mp3', 'Garage ki Light off karo.m4a', 'Garage ki Light off karo.mp3', 'Garage ki Light on karo.m4a', 'Garage ki Light on karo.mp3', 'Kitchen ka Bulb band karo.m4a', 'Kitchen ka Bulb band karo.mp3', 'Kitchen ka Bulb jalao.m4a', 'Kitchen ka Bulb jalao.mp3', 'Kitchen ka Bulb off karo.m4a', 'Kitchen ka Bulb off karo.mp3', 'Kitchen ka Bulb on karo.m4a', 'Kitchen ka Bulb on karo.mp3', 'Kitchen ki Light band karo.m4a', 'Kitchen ki Light band karo.mp3', 'Kitchen ki Light jalao.m4a', 'Kitchen ki Light jalao.mp3', 'Kitchen ki Light off karo.m4a', 'Kitchen ki Light off karo.mp3', 'Kitchen ki Light on karo.m4a', 'Kitchen ki Light on karo.mp3', 'Lounge ka Bulb band karo.m4a', 'Lounge ka Bulb band karo.mp3', 'Lounge ka Bulb jalao.m4a', 'Lounge ka Bulb jalao.mp3', 'Lounge ka Bulb off karo.m4a', 'Lounge ka Bulb off karo.mp3', 'Lounge ka Bulb on karo.m4a', 'Lounge ka Bulb on karo.mp3', 'Lounge ki Light band karo.m4a', 'Lounge ki Light band karo.mp3', 'Lounge ki Light jalao.m4a', 'Lounge ki Light jalao.mp3', 'Lounge ki Light off karo.m4a', 'Lounge ki Light off karo.mp3', 'Lounge ki Light on karo.m4a', 'Lounge ki Light on karo.mp3', 'Next channel lagao.m4a', 'Next channel lagao.mp3', 'Next Gaana lagao.m4a', 'Next Gaana lagao.mp3', 'Next Song lagao.m4a', 'Next Song lagao.mp3', 'Pichla channel lagao.m4a', 'Pichla channel lagao.mp3', 'Pichla Gaana lagao.m4a', 'Pichla Gaana lagao.mp3', 'Pichla Song lagao.m4a', 'Pichla Song lagao.mp3', 'Previous channel lagao.m4a', 'Previous channel lagao.mp3', 'Previous Gaana lagao.m4a', 'Previous Gaana lagao.mp3', 'Previous Song lagao.m4a', 'Previous Song lagao.mp3', 'Songs lagao.m4a', 'Songs lagao.mp3', 'T.V band karo.m4a', 'T.V band karo.mp3', 'T.V chlao.m4a', 'T.V chlao.mp3', 'T.V ka volume ahista karo.m4a', 'T.V ka volume ahista karo.mp3', 'T.V ka volume kum karo.m4a', 'T.V ka volume kum karo.mp3', 'T.V ka volume slow karo.m4a', 'T.V ka volume slow karo.mp3', 'T.V ka volume tez karo.m4a', 'T.V ka volume tez karo.mp3', 'T.V ka volume ziada karo.m4a', 'T.V ka volume ziada karo.mp3', 'T.V ki awaz ahista karo.m4a', 'T.V ki awaz ahista karo.mp3', 'T.V ki awaz kum karo.m4a', 'T.V ki awaz kum karo.mp3', 'T.V ki awaz slow karo.m4a', 'T.V ki awaz slow karo.mp3', 'T.V ki awaz tez karo.m4a', 'T.V ki awaz tez karo.mp3', 'T.V ki awaz ziada karo.m4a', 'T.V ki awaz ziada karo.mp3', 'T.V mute karo.m4a', 'T.V mute karo.mp3', 'T.V off karo.m4a', 'T.V off karo.mp3', 'T.V on karo.m4a', 'T.V on karo.mp3', 'T.V par ARY Digital lagao.m4a', 'T.V par ARY Digital lagao.mp3', 'T.V par ARY news lagao.m4a', 'T.V par ARY news lagao.mp3', 'T.V par cartoon network lagao.m4a', 'T.V par cartoon network lagao.mp3', 'T.V par discovery lagao.m4a', 'T.V par discovery lagao.mp3', 'T.V par HBO lagao.m4a', 'T.V par HBO lagao.mp3', 'T.V par HUM TV lagao.m4a', 'T.V par HUM TV lagao.mp3', 'T.V par jeo news lagao.m4a', 'T.V par jeo news lagao.mp3', 'T.V par Masla TV lagao.m4a', 'T.V par Masla TV lagao.mp3', 'T.V par Q-TV lagao.m4a', 'T.V par Q-TV lagao.mp3', 'T.V par samaa news lagao.m4a', 'T.V par samaa news lagao.mp3', 'T.V unmute karo.m4a', 'T.V unmute karo.mp3', 'Washroom ka Bulb band karo.m4a', 'Washroom ka Bulb band karo.mp3', 'Washroom ka Bulb jalao.m4a', 'Washroom ka Bulb jalao.mp3', 'Washroom ka Bulb off karo.m4a', 'Washroom ka Bulb off karo.mp3', 'Washroom ka Bulb on karo.m4a', 'Washroom ka Bulb on karo.mp3', 'Washroom ki Light band karo.m4a', 'Washroom ki Light band karo.mp3', 'Washroom ki Light jalao.m4a', 'Washroom ki Light jalao.mp3', 'Washroom ki Light off karo.m4a', 'Washroom ki Light off karo.mp3', 'Washroom ki Light on karo.m4a', 'Washroom ki Light on karo.mp3']\n",
      "\n",
      "['A.C ahista karo.mp3', 'A.C band karo.mp3', 'A.C chlao.mp3', 'A.C fast karo.mp3', 'A.C off karo.mp3', 'A.C on karo.mp3', 'A.C slow karo.mp3', 'A.C tez karo.mp3', 'Agla channel lagao.mp3', 'Agla Gaana lagao.mp3', 'Agla Song lagao.mp3', 'Bathroom ka Bulb band karo.mp3', 'Bathroom ka bulb jalao.mp3', 'Bathroom ka Bulb off karo.mp3', 'Bathroom ka Bulb on karo.mp3', 'Bathroom ki Light band karo.mp3', 'Bathroom ki Light jalao.mp3', 'Bathroom ki light off karo.mp3', 'Bathroom ki Light on karo.mp3', 'Bedroom ka Bulb band karo.mp3', 'Bedroom ka bulb jalao.mp3', 'Bedroom ka Bulb off karo.mp3', 'Bedroom ka Bulb on karo.mp3', 'Bedroom ki Light band karo.mp3', 'Bedroom ki Light jalao.mp3', 'Bedroom ki light off karo.mp3', 'Bedroom ki Light on karo.mp3', 'Bethak ki Light on karo.mp3', 'Bethaq ka Bulb band karo.mp3', 'Bethaq ka bulb jalao.mp3', 'Bethaq ka Bulb off karo.mp3', 'Bethaq ka Bulb on karo.mp3', 'Bethaq ki Light band karo.mp3', 'Bethaq ki Light jalao.mp3', 'Bethaq ki light off karo.mp3', 'Gaanay lagao.mp3', 'Garage ka Bulb band karo.mp3', 'Garage ka bulb jalao.mp3', 'Garage ka Bulb off karo.mp3', 'Garage ka Bulb on karo.mp3', 'Garage ki Light band karo.mp3', 'Garage ki Light jalao.mp3', 'Garage ki light off karo.mp3', 'Garage ki Light on karo.mp3', 'Kitchen ka Bulb band karo.mp3', 'kitchen ka bulb jalao.mp3', 'Kitchen ka Bulb off karo.mp3', 'Kitchen ka Bulb on karo.mp3', 'Kitchen ki Light band karo.mp3', 'kitchen ki Light jalao.mp3', 'Kitchen ki light off karo.mp3', 'Kitchen ki Light on karo.mp3', 'Lounge ka Bulb band karo.mp3', 'Lounge ka bulb jalao.mp3', 'Lounge ka Bulb off karo.mp3', 'Lounge ka Bulb on karo.mp3', 'Lounge ki Light band karo.mp3', 'Lounge ki Light jalao.mp3', 'Lounge ki light off karo.mp3', 'Lounge ki Light on karo.mp3', 'Next channel lagao.mp3', 'Next Gaana lagao.mp3', 'Next Song lagao.mp3', 'Pichla channel lagao.mp3', 'Pichla Gaana lagao.mp3', 'Pichla Song lagao.mp3', 'Previous channel lagao.mp3', 'Previous Gaana lagao.mp3', 'Previous Song lagao.mp3', 'Songs lagao.mp3', 'T.V band karo.mp3', 'T.V chlao.mp3', 'T.V ka volume ahista karo.mp3', 'T.V ka volume kam karo.mp3', 'T.V ka volume slow karo.mp3', 'T.V ka volume tez karo.mp3', 'T.V ka volume ziada karo.mp3', 'T.V ki awaz ahista karo.mp3', 'T.V ki awaz kam karo.mp3', 'T.V ki awaz slow karo.mp3', 'T.V ki awaz tez karo.mp3', 'T.V ki awaz ziada karo.mp3', 'T.V mute karo.mp3', 'T.V off karo.mp3', 'T.V on karo.mp3', 'T.V par ARY DIGITAL lagao.mp3', 'T.V par ARY news lagao.mp3', 'T.V par cartoon network lagao.mp3', 'T.V par discovery lagao.mp3', 'T.V par HBO lagao.mp3', 'T.V par HUM TV lagao.mp3', 'T.V par jeo news lagao.mp3', 'T.V par Masla TV lagao.mp3', 'T.V par Q-TV lagao.mp3', 'T.V par samaa news lagao.mp3', 'T.V unmute karo.mp3', 'Washroom ka Bulb band karo.mp3', 'Washroom ka bulb jalao.mp3', 'Washroom ka Bulb off karo.mp3', 'Washroom ka Bulb on karo.mp3', 'Washroom ki Light band karo.mp3', 'Washroom ki Light jalao.mp3', 'Washroom ki light off karo.mp3', 'Washroom ki Light on karo.mp3']\n",
      "\n",
      "['A.C ahista karo.mp3', 'A.C band karo.mp3', 'A.C chlao.mp3', 'A.C fast karo.mp3', 'A.C off karo.mp3', 'A.C on karo.mp3', 'A.C slow karo.mp3', 'A.C tez karo.mp3', 'Agla channel lagao.mp3', 'Agla Gaana lagao.mp3', 'Agla Song lagao.mp3', 'Bathroom ka Bulb band karo.mp3', 'Bathroom ka Bulb jalao.mp3', 'Bathroom ka Bulb off karo.mp3', 'Bathroom ka Bulb on karo.mp3', 'Bathroom ki Light band karo.mp3', 'Bathroom ki Light jalao.mp3', 'Bathroom ki Light off karo.mp3', 'Bathroom ki Light on karo.mp3', 'bedroom ka blub jalaoo.mp3', 'Bedroom ka Bulb band karo.mp3', 'Bedroom ka Bulb off karo.mp3', 'Bedroom ka Bulb on karo.mp3', 'Bedroom ki Light band karo.mp3', 'Bedroom ki Light jalao.mp3', 'Bedroom ki Light off karo.mp3', 'Bedroom ki Light on karo.mp3', 'Bethaq ka Bulb band karo.mp3', 'Bethaq ka Bulb jalao.mp3', 'Bethaq ka Bulb off karo.mp3', 'Bethaq ka Bulb on karo.mp3', 'Bethaq ki Light band karo.mp3', 'Bethaq ki Light jalao.mp3', 'Bethaq ki Light off karo.mp3', 'Bethaq ki Light on karo.mp3', 'Gaaney lagao.mp3', 'Garage ka Bulb band karo.mp3', 'Garage ka Bulb jalao.mp3', 'Garage ka Bulb off karo.mp3', 'Garage ka Bulb on karo.mp3', 'Garage ki Light band karo.mp3', 'Garage ki Light jalao.mp3', 'Garage ki Light off karo.mp3', 'Garage ki Light on karo.mp3', 'Kitchen ka Bulb band karo.mp3', 'Kitchen ka Bulb jalao.mp3', 'Kitchen ka Bulb off karo.mp3', 'Kitchen ka Bulb on karo.mp3', 'Kitchen ki Light band karo.mp3', 'Kitchen ki Light jalao.mp3', 'Kitchen ki Light off karo.mp3', 'Kitchen ki Light on karo.mp3', 'Lounge ka Bulb band karo.mp3', 'Lounge ka Bulb jalao.mp3', 'Lounge ka Bulb off karo.mp3', 'Lounge ka Bulb on karo.mp3', 'Lounge ki Light band karo.mp3', 'Lounge ki Light jalao.mp3', 'Lounge ki Light off karo.mp3', 'Lounge ki Light on karo.mp3', 'Next channel lagao.mp3', 'Next Gaana lagao.mp3', 'Next Song lagao.mp3', 'Pichla channel lagao.mp3', 'Pichla Gaana lagao.mp3', 'Pichla Song lagao.mp3', 'Previous channel lagao.mp3', 'Previous Gaana lagao.mp3', 'Previous Song lagao.mp3', 'Songs lagao.mp3', 'T.V band karo.mp3', 'T.V chlao.mp3', 'T.V ka volume ahista karo.mp3', 'T.V ka volume kum karo.mp3', 'T.V ka volume slow karo.mp3', 'T.V ka volume tez karo.mp3', 'T.V ka volume ziada karo.mp3', 'T.V ki awaz ahista karo.mp3', 'T.V ki awaz kum karo.mp3', 'T.V ki awaz slow karo.mp3', 'T.V ki awaz tez karo.mp3', 'T.V ki awaz ziada karo.mp3', 'T.V mute karo.mp3', 'T.V off karo.mp3', 'T.V on karo.mp3', 'T.V par ARY Digital lagao.mp3', 'T.V par ARY news lagao.mp3', 'T.V par cartoon network lagao.mp3', 'T.V par discovery lagao.mp3', 'T.V par HBO lagao.mp3', 'T.V par HUM TV lagao.mp3', 'T.V par jeo news lagao.mp3', 'T.V par Masla TV lagao.mp3', 'T.V par Q-TV lagao.mp3', 'T.V par samaa news lagao.mp3', 'T.V unmute karo.mp3', 'Washroom ka Bulb band karo.mp3', 'Washroom ka Bulb jalao.mp3', 'Washroom ka Bulb off karo.mp3', 'Washroom ka Bulb on karo.mp3', 'Washroom ki Light band karo.mp3', 'Washroom ki Light jalao.mp3', 'Washroom ki Light off karo.mp3', 'Washroom ki Light on karo.mp3']\n",
      "\n",
      "['A.C ahista karo.MP3', 'A.C band karo.MP3', 'A.C chlao.MP3', 'A.C fast karo.MP3', 'A.C Off karo.MP3', 'A.C on karo.MP3', 'A.C slow karo.MP3', 'A.C tez karo.MP3', 'Agla Channel lagao.MP3', 'Agla Gaana lagao.MP3', 'Agla Song lagao.MP3', 'Bathroom ka Bulb band karo.MP3', 'Bathroom ka Bulb jalao.MP3', 'Bathroom ka Bulb off karo.MP3', 'Bathroom ka Bulb on karo.MP3', 'Bathroom ki Light band karo.MP3', 'Bathroom ki Light jalao.MP3', 'Bathroom ki Light off karo.MP3', 'Bathroom ki Light on karo.MP3', 'Bedroom ka Bulb band karo.MP3', 'Bedroom ka Bulb jalao.MP3', 'Bedroom ka Bulb off karo.MP3', 'Bedroom ka Bulb on karo.MP3', 'Bedroom ki Light band karo.MP3', 'Bedroom ki Light jalao.MP3', 'Bedroom ki Light off karo.MP3', 'Bedroom ki Light on karo.MP3', 'Bethaq ka Bulb band karo.MP3', 'Bethaq ka Bulb jalao.MP3', 'Bethaq ka Bulb off karo.MP3', 'Bethaq ka Bulb on karo.MP3', 'Bethaq ki Light band karo.MP3', 'Bethaq ki light jalao.MP3', 'Bethaq ki Light off karo.MP3', 'Bethaq ki Light on karo.MP3', 'Gaaney lagao.MP3', 'Garage ka Bulb band karo-48.MP3', 'Garage ka Bulb jalao.MP3', 'Garage ka Bulb off karo.MP3', 'Garage ka Bulb on karo.MP3', 'Garage ki Light band karo.MP3', 'Garage ki Light jalao.MP3', 'Garage ki Light off karo.MP3', 'Garage ki Light on karo.MP3', 'Kitchen ka Bulb band karo.MP3', 'Kitchen ka Bulb jalao.MP3', 'Kitchen ka Bulb off karo.MP3', 'Kitchen ka Bulb on karo.MP3', 'Kitchen ki Light band karo.MP3', 'Kitchen ki Light jalao.MP3', 'Kitchen ki Light off karo.MP3', 'Kitchen ki Light on karo.MP3', 'Lounge ka Bulb band karo.MP3', 'Lounge ka Bulb jalao.MP3', 'Lounge ka Bulb off karo.MP3', 'Lounge ka Bulb on karo.MP3', 'Lounge ki Light band karo.MP3', 'Lounge ki Light jalao.MP3', 'Lounge ki Light off karo.MP3', 'Lounge ki Light on karo.MP3', 'Next Channel lagao.MP3', 'Next Gaana lagao.MP3', 'Next Song lagao.MP3', 'Pichla Channel lagao.MP3', 'Pichla Gaana lagao.MP3', 'Pichla Song lagao.MP3', 'Previous Channel lagao.MP3', 'Previous Gaana lagao.MP3', 'Previous Song lagao.MP3', 'Songs lagao.MP3', 'T.V band karo.MP3', 'T.V chlao.MP3', 'T.V ka volume kum karo.MP3', 'T.V ka volume slow karo.MP3', 'T.V ka volume tez karo.MP3', 'T.V ka volume ziada karo.MP3', 'T.V ki awaaz ahista karo.MP3', 'T.V ki awaaz kum karo.MP3', 'T.V ki awaaz slow karo.MP3', 'T.V ki awaaz tez karo.MP3', 'T.V ki awaaz ziada karo.MP3', 'T.V la volume ahista karo.MP3', 'T.V mute karo.MP3', 'T.V off karo.MP3', 'T.V on karo.MP3', 'T.V par ARY Digital lagao.MP3', 'T.V par ARY news lagao.MP3', 'T.V par cartoon network lagao.MP3', 'T.V par discovery lagao.MP3', 'T.V par HBO lagao.MP3', 'T.V par HUM TV lagao.MP3', 'T.V par Jeo news lagao.MP3', 'T.V par Masala TV lagao.MP3', 'T.V par Q-TV lagao.MP3', 'T.V par samaa news lagao.MP3', 'T.V unmute karo.MP3', 'Washroom ka Bulb band karo.MP3', 'Washroom ka bulb jalao.MP3', 'Washroom ka Bulb off karo.MP3', 'Washroom ka Bulb on karo.MP3', 'Washroom ki Light band karo.MP3', 'Washroom ki Light jalao.MP3', 'Washroom ki Light off karo.MP3', 'Washroom ki Light on karo.MP3']\n",
      "\n",
      "['Bathroom ka bulb jalao.m4a', 'bathroom ka bulb on kro.m4a', 'bathroom ki light jalao.m4a', 'bathroom ki light on kro.m4a', 'Bedroom ka bulb jalao.m4a', 'bedroom ka bulb on kro.m4a', 'bedroom ki light jalao.m4a', 'bedroom ki light on kro.m4a', 'bethak ka bulb jalao.m4a', 'bethak ka bulb on kro.m4a', 'bethak ki light jalao.m4a', 'garage ka bulb jalao.m4a', 'garage ka bulb on kro.m4a', 'garage ki light jalao.m4a', 'kitchen ka bulb jalao.m4a', 'kitchen ka bulb on kro.m4a', 'kitchen ki light jalao.m4a', 'kitchen ki light on kro.m4a', 'lounge ka bulb jalao.m4a', 'lounge ka bulb on kro.m4a', 'lounge ki light jalao.m4a', 'lounge ki light on kro.m4a', 'washroom ka bulb jalao.m4a', 'washroom ka bulb on kro.m4a', 'washroom ki light jalao.m4a', 'washroom ki light on kro.m4a']\n",
      "\n",
      "['A.C ahista karo.mp3', 'A.C band karo.mp3', 'A.C chalao.mp3', 'A.C fast karo.mp3', 'A.C off karo.mp3', 'A.C on karo.mp3', 'A.C slow karo.mp3', 'A.C tez karo.mp3', 'Agla channel lagao.mp3', 'Agla gaana lagao.mp3', 'Agla Song lagao.mp3', 'ARY digital lagao.mp3', 'ARY news lagao.mp3', 'Awaaz ahista karo .mp3', 'Awaaz kam karo.mp3', 'Awaaz slow karo.mp3', 'Awaaz tez karo.mp3', 'Awaaz ziada karo.mp3', 'bathroom ka bulb band karo .mp3', 'bathroom ka bulb jalao.mp3', 'bathroom ka bulb off karo.mp3', 'bathroom ka bulb on karo.mp3', 'bathroom ki light band karo.mp3', 'bathroom ki light jalao.mp3', 'bathroom ki light off karo.mp3', 'bathroom ki light on karo.mp3', 'bedroom ka bulb band karo.mp3', 'bedroom ka bulb jalao.mp3', 'bedroom ka bulb off karo.mp3', 'bedroom ka bulb on karo.mp3', 'bedroom ki light band karo .mp3', 'bedroom ki light jalao.mp3', 'bedroom ki light off karo.mp3', 'bedroom ki light on karo.mp3', 'bethak ka bulb band karo.mp3', 'bethak ka bulb jalao.mp3', 'bethak ka bulb off karo.mp3', 'bethak ka bulb on karo.mp3', 'bethak ki light band karo.mp3', 'bethak ki light jalao.mp3', 'bethak ki light off karo.mp3', 'bethak ki light on karo.mp3', 'cartoon network lagao.mp3', 'Discovery lagao.mp3', 'Gaanay lagao.mp3', 'garage ka bulb band karo.mp3', 'garage ka bulb jalao.mp3', 'garage ka bulb off karo .mp3', 'garage ka bulb on karo.mp3', 'garage ki light band karo.mp3', 'garage ki light jalao.mp3', 'garage ki light off karo.mp3', 'garage ki light on karo .mp3', 'Geo news lagao.mp3', 'HBO lagao.mp3', 'HUM TV lagao.mp3', 'kitchen ka bulb band karo.mp3', 'kitchen ka bulb jalao.mp3', 'kitchen ka bulb off karo.mp3', 'kitchen ka bulb on karo.mp3', 'kitchen ki light band karo.mp3', 'kitchen ki light jalao.mp3', 'kitchen ki light off karo.mp3', 'kitchen ki light on karo.mp3', 'lounge ka bulb band karo.mp3', 'lounge ka bulb jalao.mp3', 'lounge ka bulb off karo.mp3', 'lounge ka bulb on karo.mp3', 'lounge ki light band karo.mp3', 'lounge ki light jalao.mp3', 'lounge ki light off karo.mp3', 'lounge ki light on karo.mp3', 'Masala TV lagao.mp3', 'Next channel lagao.mp3', 'Next Gaana lagao.mp3', 'Next Song lagao.mp3', 'Pichla channel lagao.mp3', 'Pichla gaana lagao.mp3', 'Pichla Song lagao.mp3', 'Previous Channel lagao.mp3', 'Previous Gaana lagao.mp3', 'Previous Song lagao.mp3', 'Q-TV lagao.mp3', 'Samaa news lagao.mp3', 'Songs lagao.mp3', 'T.V band karo.mp3', 'T.V chalao.mp3', 'T.V mute karo.mp3', 'T.V off karo.mp3', 'T.V on karo.mp3', 'T.V unmute karo.mp3', 'Volume ahista karo.mp3', 'Volume kam karo.mp3', 'Volume slow karo.mp3', 'Volume tez karo.mp3', 'Volume ziada karo.mp3', 'washroom ka bulb band karo.mp3', 'washroom ka bulb jalao.mp3', 'washroom ka bulb off karo .mp3', 'washroom ka bulb on karo.mp3', 'washroom ki light band karo.mp3', 'washroom ki light jalao.mp3', 'washroom ki light off karo.mp3', 'washroom ki light on karo .mp3']\n",
      "\n",
      "['A.C ahista karo.ogg', 'A.C band karo.ogg', 'A.C chalao.ogg', 'A.C fast karo.ogg', 'A.C off karo.ogg', 'A.C on karo.ogg', 'A.C slow karo.ogg', 'A.C tez karo.ogg', 'Agla channel lagao.ogg', 'Agla gaana lagao.ogg', 'Agla song lagao.ogg', 'Bathroom ka bulb band karo.ogg', 'Bathroom ka bulb jalao.mp4', 'Bathroom ka bulb off karo.ogg', 'Bathroom ka bulb on karo.ogg', 'Bathroom ki light band karo.ogg', 'Bathroom ki light jalao.mp4', 'Bedroom ka bulb band karo.ogg', 'Bedroom ka bulb jalao.mp4', 'Bedroom ka bulb off karo.ogg', 'Bedroom ka bulb on karo.ogg', 'Bedroom ki light band karo.ogg', 'Bedroom ki light jalao.mp4', 'Bedroom ki light off karo.ogg', 'Bedroom ki light on karo.ogg', 'Bethak ka bulb band karo.ogg', 'Bethak ka bulb jalao.mp4', 'Bethak ka bulb off karo.ogg', 'Bethak ka bulb on karo.ogg', 'Bethak ki light band karo.ogg', 'Bethak ki light jalao.ogg', 'Bethak ki light off karo.ogg', 'Bethak ki light on karo.ogg', 'Gaane lagao.ogg', 'Garage ka bulb band karo.ogg', 'Garage ka bulb jalao.mp4', 'Garage ka bulb off karo.ogg', 'Garage ka bulb on karo.ogg', 'Garage ki light band karo.ogg', 'Garage ki light jalao.ogg', 'Garage ki light off karo.ogg', 'Garage ki light on karo.ogg', 'Kitchen ka bulb band karo.ogg', 'Kitchen ka bulb jalao.mp4', 'Kitchen ka bulb off karo.ogg', 'Kitchen ka bulb on karo.ogg', 'Kitchen ki light band karo.ogg', 'Kitchen ki light jalao.ogg', 'Kitchen ki light off karo.ogg', 'Kitchen ki light on karo.ogg', 'Lounge ka bulb band karo.ogg', 'Lounge ka bulb jalao.mp4', 'Lounge ka bulb off karo.ogg', 'Lounge ka bulb on karo.ogg', 'Lounge ki light band karo.ogg', 'Lounge ki light jalao.ogg', 'Lounge ki light off karo.ogg', 'Lounge ki light on karo.ogg', 'Next channel lagao.ogg', 'Next gaana lagao.ogg', 'Next song lagao.ogg', 'Pichla channel lagao.ogg', 'Pichla gaana lagao.ogg', 'Pichla song lagao.ogg', 'Previous channel lagao.ogg', 'Previous gaana lgao.ogg', 'Previous song lagao.ogg', 'Songs lagao.ogg', 'T.V band karo.ogg', 'T.V chalao.ogg', 'T.V ka volume ahista karo.ogg', 'T.V ka volume kam karo.ogg', 'T.V ka volume slow karo.ogg', 'T.V ka volume tez karo.ogg', 'T.V ka volume zada karo.ogg', 'T.V ki awaz ahista karo.ogg', 'T.V ki awaz kam karo.ogg', 'T.V ki awaz slow karo.ogg', 'T.V ki awaz tez karo.ogg', 'T.V ki awaz zada karo.ogg', 'T.V mute karo.ogg', 'T.V off karo.ogg', 'T.V on karo.ogg', 'T.V par ARY digital lagao.ogg', 'T.V par ARY news lagao.ogg', 'T.V par cartoon network lagao.ogg', 'T.V par discovery lagao.ogg', 'T.V par HBO lagao.ogg', 'T.V par HUM T.V lagao.ogg', 'T.V par jao news lagao.ogg', 'T.V par Masla T.V lagao.ogg', 'T.V par Q-T.V lagao.ogg', 'T.V par samaa news lagao.ogg', 'T.V unmute karo.ogg', 'Washroom ka bulb band karo.ogg', 'Washroom ka bulb jalao.mp4', 'Washroom ka bulb off karo.ogg', 'Washroom ka bulb on karo.ogg', 'Washroom ki light band karo.ogg', 'Washroom ki light jalao.mp4']\n",
      "\n",
      "['A.C ahista karo.mp3', 'A.C band karo.mp3', 'A.C chlao.mp3', 'A.C fast karo.mp3', 'A.C off karo.mp3', 'A.C on karo.mp3', 'A.C slow karo.mp3', 'A.C tez karo.mp3', 'Agla channel lagao.mp3', 'Agla Gaana lagao.mp3', 'Agla song lagao.mp3', 'Bathroom ka Bulb band karo.mp3', 'Bathroom ka Bulb jalao.mp3', 'Bathroom ka Bulb off karo.mp3', 'Bathroom ka Bulb on karo.mp3', 'Bathroom ki Light band karo.mp3', 'Bathroom ki Light jalao.mp3', 'Bathroom ki Light off karo.mp3', 'Bathroom ki Light on karo.mp3', 'Bedroom ka Bulb band karo.mp3', 'Bedroom ka Bulb jalao.mp3', 'Bedroom ka Bulb off karo.mp3', 'Bedroom ka Bulb on karo.mp3', 'Bedroom ki Light band karo.mp3', 'Bedroom ki Light jalao.mp3', 'Bedroom ki Light off karo.mp3', 'Bedroom ki Light on karo.mp3', 'Bethaq ka Bulb band karo.mp3', 'Bethaq ka bulb jalao.mp3', 'Bethaq ka Bulb off karo.mp3', 'Bethaq ka Bulb on karo.mp3', 'Bethaq ki Light band karo.mp3', 'Bethaq ki Light jalao.mp3', 'Bethaq ki Light off karo.mp3', 'Bethaq ki Light on karo.mp3', 'Gaaney lagao.mp3', 'Garage ka Bulb band karo.mp3', 'Garage ka bulb jalao.mp3', 'Garage ka Bulb off karo.mp3', 'Garage ka Bulb on karo.mp3', 'Garage ki Light Band karo.mp3', 'Garage ki light jalao.mp3', 'Garage ki Light off karo.mp3', 'Garage ki Light on karo.mp3', 'Kitchen ka Bulb band karo.mp3', 'Kitchen ka Bulb jalao.mp3', 'Kitchen ka Bulb off karo.mp3', 'Kitchen ka Bulb on karo.mp3', 'Kitchen ki Light band karo.mp3', 'Kitchen ki Light jalao.mp3', 'Kitchen ki Light off karo.mp3', 'Kitchen ki Light on karo.mp3', 'Lounge ka Bulb band Karo.mp3', 'Lounge ka Bulb jalao.mp3', 'Lounge ka Bulb off karo.mp3', 'Lounge ka Bulb on karo.mp3', 'Lounge ki Light band karo.mp3', 'Lounge ki Light jalao.mp3', 'Lounge ki Light off karo.mp3', 'Lounge ki Light on karo.mp3', 'Next channel lagao.mp3', 'Next gaana lagao.mp3', 'Next song lagao.mp3', 'Pichla channel lagao.mp3', 'Pichla Gaana lagao.mp3', 'Pichla song lagao.mp3', 'Previous channel lagao.mp3', 'Previous gaana lagao.mp3', 'Previous song lagao.mp3', 'Songs lagao.mp3', 'T.V band karo.mp3', 'T.V chlao.mp3', 'T.V ka volume ahista karo.mp3', 'T.V ka volume kum karo.mp3', 'T.V ka volume slow karo.mp3', 'T.V ka volume tez karo.mp3', 'T.V ka volume ziada karo.mp3', 'T.V ki awaz ahista karo.mp3', 'T.V ki awaz kum karo.mp3', 'T.V ki awaz slow karo.mp3', 'T.V ki awaz tez karo.mp3', 'T.V ki awaz ziada karo.mp3', 'T.V mute karo.mp3', 'T.V off karo.mp3', 'T.V on karo.mp3', 'T.V par ARY Digital lagao.mp3', 'T.V par ARY news lagao.mp3', 'T.V par cartoon network lagao.mp3', 'T.V par discovery lagao.mp3', 'T.V par HBO lagao.mp3', 'T.V par HUM TV lagao.mp3', 'T.V par jeo news lagao.mp3', 'T.V par Masla TV lagao.mp3', 'T.V par Q-TV lagao.mp3', 'T.V par samaa news lagao.mp3', 'T.V unmute karo.mp3', 'Washroom ka Bulb band karo.mp3', 'Washroom ka Bulb jalao.mp3', 'Washroom ka Bulb off karo.mp3', 'Washroom ka Bulb on karo.mp3', 'Washroom ki Light band karo.mp3', 'Washroom ki Light jalao.mp3', 'Washroom ki Light off karo.mp3', 'Washroom ki Light on karo.mp3']\n",
      "\n",
      "['A.C ahista karo.mp4', 'A.C band karo.mp4', 'A.C chlao.mp4', 'A.C fast karo.mp4', 'A.C off karo.mp4', 'A.C on karo.mp4', 'A.C slow karo.mp4', 'A.C tez karo.mp4', 'Agla channel lagao.mp4', 'Agla Gaana lagao.mp4', 'Agla Song lagao.mp4', 'Bathroom ka Bulb band karo.mp4', 'Bathroom ka Bulb jalao.mp4', 'Bathroom ka Bulb off karo.mp4', 'Bathroom ka Bulb on karo.mp4', 'Bathroom ki Light band karo.mp4', 'Bathroom ki Light jalao.mp4', 'Bathroom ki Light off karo.mp4', 'Bathroom ki Light on karo.mp4', 'Bedroom ka Bulb band karo.mp4', 'Bedroom ka Bulb jalao.mp4', 'Bedroom ka Bulb off karo.mp4', 'Bedroom ka Bulb on karo.mp4', 'Bedroom ki Light band karo.mp4', 'Bedroom ki Light jalao.mp4', 'Bedroom ki Light off karo.mp4', 'Bedroom ki Light on karo.mp4', 'Bethaq ka Bulb band karo.mp4', 'Bethaq ka Bulb jalao.mp4', 'Bethaq ka Bulb off karo.mp4', 'Bethaq ka Bulb on karo.mp4', 'Bethaq ki Light band karo.mp4', 'Bethaq ki Light jalao.mp4', 'Bethaq ki Light off karo.mp4', 'Bethaq ki Light on karo.mp4', 'Gaaney lagao.mp4', 'Garage ka Bulb band karo.mp4', 'Garage ka Bulb jalao.mp4', 'Garage ka Bulb off karo.mp4', 'Garage ka Bulb on karo.mp4', 'Garage ki Light band karo.mp4', 'Garage ki Light jalao.mp4', 'Garage ki Light off karo.mp4', 'Garage ki Light on karo.mp4', 'Kitchen ka Bulb band karo.mp4', 'Kitchen ka Bulb jalao.mp4', 'Kitchen ka Bulb off karo.mp4', 'Kitchen ka Bulb on karo.mp4', 'Kitchen ki Light band karo.mp4', 'Kitchen ki Light jalao.mp4', 'Kitchen ki Light off karo.mp4', 'Kitchen ki Light on karo.mp4', 'Lounge ka Bulb band karo.mp4', 'Lounge ka Bulb jalao.mp4', 'Lounge ka Bulb off karo.mp4', 'Lounge ka Bulb on karo.mp4', 'Lounge ki Light band karo.mp4', 'Lounge ki Light jalao.mp4', 'Lounge ki Light off karo.mp4', 'Lounge ki Light on karo.mp4', 'Next channel lagao.mp4', 'Next Gaana lagao.mp4', 'Next Song lagao.mp4', 'Pichla channel lagao.mp4', 'Pichla Gaana lagao.mp4', 'Pichla Song lagao.mp4', 'Previous channel lagao.mp4', 'Previous Gaana lagao.mp4', 'Previous Song lagao.mp4', 'Songs lagao.mp4', 'T.V band karo.mp4', 'T.V chlao.mp4', 'T.V ka volume ahista karo.mp4', 'T.V ka volume kum karo.mp4', 'T.V ka volume slow karo.mp4', 'T.V ka volume tez karo.mp4', 'T.V ka volume ziada karo.mp4', 'T.V ki awaz ahista karo.mp4', 'T.V ki awaz kum karo.mp4', 'T.V ki awaz slow karo.mp4', 'T.V ki awaz tez karo.mp4', 'T.V ki awaz ziada karo.mp4', 'T.V mute karo.mp4', 'T.V off karo.mp4', 'T.V on karo.mp4', 'T.V par ARY Digital lagao.mp4', 'T.V par ARY news lagao.mp4', 'T.V par cartoon network lagao.mp4', 'T.V par discovery lagao.mp4', 'T.V par HBO lagao.mp4', 'T.V par HUM TV lagao.mp4', 'T.V par jeo news lagao.mp4', 'T.V par Masla TV lagao.mp4', 'T.V par Q-TV lagao.mp4', 'T.V par samaa news lagao.mp4', 'T.V unmute karo.mp4', 'Washroom ka Bulb band karo.mp4', 'Washroom ka Bulb jalao.mp4', 'Washroom ka Bulb off karo.mp4', 'Washroom ka Bulb on karo.mp4', 'Washroom ki Light band karo.mp4', 'Washroom ki Light jalao.mp4', 'Washroom ki Light off karo.mp4', 'Washroom ki Light on karo.mp4']\n",
      "\n",
      "['A.C ahista karo.mp3', 'A.C band karo.mp3', 'A.C chalao.mp3', 'A.C fast karo.mp3', 'A.C off karo.mp3', 'A.C on karo.mp3', 'A.C slow karo.mp3', 'A.C tez karo.mp3', 'agla chanel lagao.mp3', 'agla gana lagao.mp3', 'agla song lagao.mp3', 'bathroom ka bulb band karo.mp3', 'bathroom ka bulb jalao.mp3', 'bathroom ka bulb off karo.mp3', 'bathroom ka bulb on karo.mp3', 'bathroom ki light band karo.mp3', 'bathroom ki light jalao.mp3', 'bathroom ki light off karo.mp3', 'bathroom ki light on karo.mp3', 'bedroom ka bulb band karo.mp3', 'bedroom ka bulb jalao.mp3', 'bedroom ka bulb off karo.mp3', 'bedroom ka bulb on karo.mp3', 'bedroom ki light band karo.mp3', 'bedroom ki light jalao.mp3', 'bedroom ki light off karo.mp3', 'bedroom ki light on karo.mp3', 'behtak ka bulb off karo.mp3', 'behtak ka bulb on karo.mp3', 'behtak ki light band karo.mp3', 'behtak ki light off karo.mp3', 'behtak ki light on karo.mp3', 'behtaq ka bulb band karo.mp3', 'behtaq ki light jalao.mp3', 'behthak ka bulb jalao.mp3', 'ganay lagao.mp3', 'garage ka bulb band karo.mp3', 'garage ka bulb jalao.mp3', 'garage ka bulb off karo.mp3', 'garage ka bulb on karo.mp3', 'garage ki light band karo.mp3', 'garage ki light jalao.mp3', 'garage ki light off karo.mp3', 'garage ki light on karo.mp3', 'kitchen ka bulb band karo.mp3', 'kitchen ka bulb jalao.mp3', 'kitchen ka bulb off karo.mp3', 'kitchen ka bulb on karo.mp3', 'kitchen ki light band karo.mp3', 'kitchen ki light jalao.mp3', 'kitchen ki light off karo.mp3', 'kitchen ki light on karo.mp3', 'lounge ka bulb band karo.mp3', 'lounge ka bulb jalao.mp3', 'lounge ka bulb off karo.mp3', 'lounge ka bulb on karo.mp3', 'lounge ki light band karo.mp3', 'lounge ki light jalao.mp3', 'lounge ki light off karo.mp3', 'lounge ki light on karo.mp3', 'next chanel lagao.mp3', 'next gana lagao.mp3', 'next song lagao.mp3', 'peechla chanel lagao.mp3', 'peechla gana lagao.mp3', 'peechla song lagao.mp3', 'previous chanel lagao.mp3', 'previous gana lagao.mp3', 'previous song lagao.mp3', 'Songs lagao.mp3', 'T.V band karo.mp3', 'T.V chalao.mp3', 'T.V ka volume ahista karo.mp3', 'T.V ka volume kam karo.mp3', 'T.V ka volume slow karo.mp3', 'T.V ka volume tez karo.mp3', 'T.V ka volume zyada karo.mp3', 'T.V ki awaaz ahista karo.mp3', 'T.V ki awaaz kam karo.mp3', 'T.V ki awaaz slow karo.mp3', 'T.V ki awaaz tez karo.mp3', 'T.V ki awaaz zyada karo.mp3', 'T.V mute karo.mp3', 'T.V off karo.mp3', 'T.V on karo.mp3', 'T.V per ARY digital lagao.mp3', 'T.V per ary news lagao.mp3', 'T.V per cartoon network lagao.mp3', 'T.V per discovery lagao.mp3', 'T.V per geo news lagao.mp3', 'T.V per HBO lagao.mp3', 'T.V per HUM tv lagao.mp3', 'T.V per masla tv lagao.mp3', 'T.V per QT.V lagao.mp3', 'T.V per samaa news lagao.mp3', 'T.V unmute karo.mp3', 'washroom ka bulb band karo.mp3', 'washroom ka bulb jalao.mp3', 'washroom ka bulb off karo.mp3', 'washroom ka bulb on karo.mp3', 'washroom ki light band karo.mp3', 'washroom ki light jalao.mp3', 'washroom ki light off karo.mp3', 'washroom ki light on karo.mp3']\n",
      "\n"
     ]
    }
   ],
   "source": [
    "for dirpath,dirnames,filenames in os.walk(path):\n",
    "    print(filenames)\n",
    "    print()"
   ]
  },
  {
   "cell_type": "code",
   "execution_count": 8,
   "id": "c882b588",
   "metadata": {},
   "outputs": [
    {
     "data": {
      "text/plain": [
       "'C:\\\\Users\\\\HP\\\\Desktop\\\\Assignment7a\\\\Assignment 7 part 1'"
      ]
     },
     "execution_count": 8,
     "metadata": {},
     "output_type": "execute_result"
    }
   ],
   "source": [
    "# os.chdir('Assignment7a\\Assignment 7 part 1')\n",
    "os.getcwd()"
   ]
  },
  {
   "cell_type": "markdown",
   "id": "da1ba736",
   "metadata": {},
   "source": [
    "# Convert to .wav"
   ]
  },
  {
   "cell_type": "code",
   "execution_count": 8,
   "id": "764138c6",
   "metadata": {},
   "outputs": [
    {
     "name": "stdout",
     "output_type": "stream",
     "text": [
      "C:\\Users\\Latitude\\IDS/Assignment7a\\19I-1696\n"
     ]
    },
    {
     "ename": "FileNotFoundError",
     "evalue": "[WinError 2] The system cannot find the file specified: '19I-1696'",
     "output_type": "error",
     "traceback": [
      "\u001b[1;31m---------------------------------------------------------------------------\u001b[0m",
      "\u001b[1;31mFileNotFoundError\u001b[0m                         Traceback (most recent call last)",
      "\u001b[1;32m~\\AppData\\Local\\Temp/ipykernel_5292/1597962135.py\u001b[0m in \u001b[0;36m<module>\u001b[1;34m\u001b[0m\n\u001b[0;32m      7\u001b[0m         \u001b[0mcp\u001b[0m\u001b[1;33m=\u001b[0m\u001b[0mdirpath\u001b[0m\u001b[1;33m\u001b[0m\u001b[1;33m\u001b[0m\u001b[0m\n\u001b[0;32m      8\u001b[0m         \u001b[0mprint\u001b[0m\u001b[1;33m(\u001b[0m\u001b[0mcp\u001b[0m\u001b[1;33m)\u001b[0m\u001b[1;33m\u001b[0m\u001b[1;33m\u001b[0m\u001b[0m\n\u001b[1;32m----> 9\u001b[1;33m         \u001b[0mos\u001b[0m\u001b[1;33m.\u001b[0m\u001b[0mchdir\u001b[0m\u001b[1;33m(\u001b[0m\u001b[0mcp\u001b[0m\u001b[1;33m[\u001b[0m\u001b[1;36m35\u001b[0m\u001b[1;33m:\u001b[0m\u001b[1;33m]\u001b[0m\u001b[1;33m)\u001b[0m\u001b[1;33m\u001b[0m\u001b[1;33m\u001b[0m\u001b[0m\n\u001b[0m\u001b[0;32m     10\u001b[0m         \u001b[0mfiles\u001b[0m\u001b[1;33m=\u001b[0m\u001b[0mfilenames\u001b[0m\u001b[1;33m\u001b[0m\u001b[1;33m\u001b[0m\u001b[0m\n\u001b[0;32m     11\u001b[0m         \u001b[1;32mfor\u001b[0m \u001b[0mf\u001b[0m \u001b[1;32min\u001b[0m \u001b[0mfiles\u001b[0m\u001b[1;33m:\u001b[0m\u001b[1;33m\u001b[0m\u001b[1;33m\u001b[0m\u001b[0m\n",
      "\u001b[1;31mFileNotFoundError\u001b[0m: [WinError 2] The system cannot find the file specified: '19I-1696'"
     ]
    }
   ],
   "source": [
    "path5 = Path('Assignment7a').absolute()\n",
    "audio_list = os.listdir(f'{path5}/')\n",
    "p=0\n",
    "array = []\n",
    "print(path5)\n",
    "for i in audio_list:  \n",
    "    fold_list = os.listdir(f'{path5}/{i}/')\n",
    "    for j in fold_list:\n",
    "#             try:\n",
    "        pydub.AudioSegment.from_file(f'{path5}/{i}/{j}').export(f'{path5}/{i}/0{j[:-4]}.wav', format='wav')\n",
    "        array.append(f'{i}/{j}')\n",
    "#             except:\n",
    "        p+=1\n",
    "        do_nothing=True\n",
    "\n",
    "#removing the originals\n",
    "for i in array:\n",
    "    os.remove(f'{path5}/{i}')"
   ]
  },
  {
   "cell_type": "markdown",
   "id": "a9a8c594",
   "metadata": {},
   "source": [
    "# Remove files which are not .wav"
   ]
  },
  {
   "cell_type": "code",
   "execution_count": 1,
   "id": "774ac9cd",
   "metadata": {},
   "outputs": [
    {
     "ename": "NameError",
     "evalue": "name 'os' is not defined",
     "output_type": "error",
     "traceback": [
      "\u001b[1;31m---------------------------------------------------------------------------\u001b[0m",
      "\u001b[1;31mNameError\u001b[0m                                 Traceback (most recent call last)",
      "\u001b[1;32m~\\AppData\\Local\\Temp/ipykernel_5292/3049477953.py\u001b[0m in \u001b[0;36m<module>\u001b[1;34m\u001b[0m\n\u001b[0;32m      2\u001b[0m \u001b[1;32mfrom\u001b[0m \u001b[0mpydub\u001b[0m \u001b[1;32mimport\u001b[0m \u001b[0mAudioSegment\u001b[0m\u001b[1;33m\u001b[0m\u001b[1;33m\u001b[0m\u001b[0m\n\u001b[0;32m      3\u001b[0m \u001b[1;33m\u001b[0m\u001b[0m\n\u001b[1;32m----> 4\u001b[1;33m \u001b[0mpath\u001b[0m\u001b[1;33m=\u001b[0m\u001b[0mos\u001b[0m\u001b[1;33m.\u001b[0m\u001b[0mgetcwd\u001b[0m\u001b[1;33m(\u001b[0m\u001b[1;33m)\u001b[0m\u001b[1;33m\u001b[0m\u001b[1;33m\u001b[0m\u001b[0m\n\u001b[0m\u001b[0;32m      5\u001b[0m \u001b[0mcount\u001b[0m\u001b[1;33m=\u001b[0m\u001b[1;36m0\u001b[0m\u001b[1;33m\u001b[0m\u001b[1;33m\u001b[0m\u001b[0m\n\u001b[0;32m      6\u001b[0m \u001b[1;32mfor\u001b[0m \u001b[0mdirpath\u001b[0m\u001b[1;33m,\u001b[0m\u001b[0mdirnames\u001b[0m\u001b[1;33m,\u001b[0m\u001b[0mfilenames\u001b[0m \u001b[1;32min\u001b[0m \u001b[0mos\u001b[0m\u001b[1;33m.\u001b[0m\u001b[0mwalk\u001b[0m\u001b[1;33m(\u001b[0m\u001b[1;34mf'{path}/Assignment7a'\u001b[0m\u001b[1;33m)\u001b[0m\u001b[1;33m:\u001b[0m\u001b[1;33m\u001b[0m\u001b[1;33m\u001b[0m\u001b[0m\n",
      "\u001b[1;31mNameError\u001b[0m: name 'os' is not defined"
     ]
    }
   ],
   "source": [
    "import pydub\n",
    "from pydub import AudioSegment\n",
    "\n",
    "\n",
    "count=0\n",
    "for dirpath,dirnames,filenames in os.walk(f'{path}/Assignment7a'):\n",
    "    if count>=1:\n",
    "        cp=dirpath\n",
    "        os.chdir(cp[-7:])\n",
    "        print(cp[-7:])\n",
    "        files=filenames\n",
    "        for f in files: \n",
    "            if f[-3:]!='wav':\n",
    "                os.remove(f)\n",
    "            \n",
    "        os.chdir('..')\n",
    "    count=count+1"
   ]
  },
  {
   "cell_type": "markdown",
   "id": "2b578fd1",
   "metadata": {},
   "source": [
    "# Making 104 files"
   ]
  },
  {
   "cell_type": "code",
   "execution_count": 34,
   "id": "6adbe94f",
   "metadata": {},
   "outputs": [
    {
     "data": {
      "text/plain": [
       "'C:\\\\Users\\\\HP\\\\Desktop\\\\Assignment7a\\\\Assignment 7 part 1'"
      ]
     },
     "execution_count": 34,
     "metadata": {},
     "output_type": "execute_result"
    }
   ],
   "source": [
    "# os.chdir('Assignment 7 part 1')\n",
    "os.getcwd()"
   ]
  },
  {
   "cell_type": "code",
   "execution_count": 32,
   "id": "ed0f0355",
   "metadata": {},
   "outputs": [],
   "source": [
    "path=os.getcwd()"
   ]
  },
  {
   "cell_type": "code",
   "execution_count": 33,
   "id": "b6d3e313",
   "metadata": {},
   "outputs": [
    {
     "name": "stdout",
     "output_type": "stream",
     "text": [
      "['19i1664', '19i1696', 'i191706', 'i191714', 'i191716', 'i191763', 'i191867', 'i191886', 'i200567', 'i200583', 'i200613', 'i200626', 'i200658', 'i200667', 'i200676', 'i200677', 'i200682', 'i200693', 'i200695', 'i200697', 'i200709', 'i200757', 'i200844', 'i200894', 'i200927', 'i201783', 'i201787', 'i201853', 'i202416', 'i202446', 'i202454', 'i202478', 'i202651', 'i202652', 'i202653', 'i202654', 'i202656', 'i202658']\n"
     ]
    }
   ],
   "source": [
    "for dirpath,dirnames,filenames in os.walk('C:\\\\Users\\\\HP\\\\Desktop\\\\Assignment7a\\\\Assignment 7 part 1'):\n",
    "    dirs=dirnames\n",
    "    break\n",
    "print(dirs)"
   ]
  },
  {
   "cell_type": "code",
   "execution_count": 6,
   "id": "7c4ff1f6",
   "metadata": {},
   "outputs": [
    {
     "data": {
      "text/plain": [
       "'C:\\\\Users\\\\HP\\\\Desktop\\\\Assignment7a\\\\Assignment 7 part 1\\\\i202478'"
      ]
     },
     "execution_count": 6,
     "metadata": {},
     "output_type": "execute_result"
    }
   ],
   "source": [
    "os.chdir('i202478')\n",
    "os.getcwd()"
   ]
  },
  {
   "cell_type": "code",
   "execution_count": 7,
   "id": "0de6e4c9",
   "metadata": {},
   "outputs": [
    {
     "name": "stdout",
     "output_type": "stream",
     "text": [
      "a.c ahista karo\n",
      "a.c band karo\n",
      "a.c chlao\n",
      "a.c fast karo\n",
      "a.c off karo\n",
      "a.c on karo\n",
      "a.c slow karo\n",
      "a.c tez karo\n",
      "agla channel lagao\n",
      "agla gaana lagao\n",
      "agla song lagao\n",
      "bathroom ka bulb band karo\n",
      "bathroom ka bulb jalao\n",
      "bathroom ka bulb off karo\n",
      "bathroom ka bulb on karo\n",
      "bathroom ki light band karo\n",
      "bathroom ki light jalao\n",
      "bathroom ki light off karo\n",
      "bathroom ki light on karo\n",
      "bedroom ka bulb band karo\n",
      "bedroom ka bulb jalao\n",
      "bedroom ka bulb off karo\n",
      "bedroom ka bulb on karo\n",
      "bedroom ki light band karo\n",
      "bedroom ki light jalao\n",
      "bedroom ki light off karo\n",
      "bedroom ki light on karo\n",
      "bethaq ka bulb band karo\n",
      "bethaq ka bulb jalao\n",
      "bethaq ka bulb off karo\n",
      "bethaq ka bulb on karo\n",
      "bethaq ki light band karo\n",
      "bethaq ki light jalao\n",
      "bethaq ki light off karo\n",
      "bethaq ki light on karo\n",
      "gaaney lagao\n",
      "garage ka bulb band karo-48\n",
      "garage ka bulb jalao\n",
      "garage ka bulb off karo\n",
      "garage ka bulb on karo\n",
      "garage ki light band karo\n",
      "garage ki light jalao\n",
      "garage ki light off karo\n",
      "garage ki light on karo\n",
      "kitchen ka bulb band karo\n",
      "kitchen ka bulb jalao\n",
      "kitchen ka bulb off karo\n",
      "kitchen ka bulb on karo\n",
      "kitchen ki light band karo\n",
      "kitchen ki light jalao\n",
      "kitchen ki light off karo\n",
      "kitchen ki light on karo\n",
      "lounge ka bulb band karo\n",
      "lounge ka bulb jalao\n",
      "lounge ka bulb off karo\n",
      "lounge ka bulb on karo\n",
      "lounge ki light band karo\n",
      "lounge ki light jalao\n",
      "lounge ki light off karo\n",
      "lounge ki light on karo\n",
      "next channel lagao\n",
      "next gaana lagao\n",
      "next song lagao\n",
      "pichla channel lagao\n",
      "pichla gaana lagao\n",
      "pichla song lagao\n",
      "previous channel lagao\n",
      "previous gaana lagao\n",
      "previous song lagao\n",
      "songs lagao\n",
      "t.v band karo\n",
      "t.v chlao\n",
      "t.v ka volume kum karo\n",
      "t.v ka volume slow karo\n",
      "t.v ka volume tez karo\n",
      "t.v ka volume ziada karo\n",
      "t.v ki awaaz ahista karo\n",
      "t.v ki awaaz kum karo\n",
      "t.v ki awaaz slow karo\n",
      "t.v ki awaaz tez karo\n",
      "t.v ki awaaz ziada karo\n",
      "t.v la volume ahista karo\n",
      "t.v mute karo\n",
      "t.v off karo\n",
      "t.v on karo\n",
      "t.v par ary digital lagao\n",
      "t.v par ary news lagao\n",
      "t.v par cartoon network lagao\n",
      "t.v par discovery lagao\n",
      "t.v par hbo lagao\n",
      "t.v par hum tv lagao\n",
      "t.v par jeo news lagao\n",
      "t.v par masala tv lagao\n",
      "t.v par q-tv lagao\n",
      "t.v par samaa news lagao\n",
      "t.v unmute karo\n",
      "washroom ka bulb band karo\n",
      "washroom ka bulb jalao\n",
      "washroom ka bulb off karo\n",
      "washroom ka bulb on karo\n",
      "washroom ki light band karo\n",
      "washroom ki light jalao\n",
      "washroom ki light off karo\n",
      "washroom ki light on karo\n"
     ]
    }
   ],
   "source": [
    "wavfiles=[]\n",
    "wavfile=os.listdir()\n",
    "for x in wavfile:\n",
    "    wavfiles.append(x.lower())\n",
    "for x in wavfiles:\n",
    "    print(x[8:-4])"
   ]
  },
  {
   "cell_type": "code",
   "execution_count": 41,
   "id": "bc1ff6f7",
   "metadata": {},
   "outputs": [
    {
     "data": {
      "text/plain": [
       "'C:\\\\Users\\\\HP\\\\Desktop\\\\Assignment7a\\\\Assignment 7 part 1'"
      ]
     },
     "execution_count": 41,
     "metadata": {},
     "output_type": "execute_result"
    }
   ],
   "source": [
    "os.chdir('..')\n",
    "os.getcwd()"
   ]
  },
  {
   "cell_type": "code",
   "execution_count": 38,
   "id": "bf4208d9",
   "metadata": {},
   "outputs": [],
   "source": [
    "for file in wavfiles:\n",
    "    os.mkdir(file[:-4])"
   ]
  },
  {
   "cell_type": "markdown",
   "id": "238fdb1e",
   "metadata": {},
   "source": [
    "# changing format to studentRollNumber_className.WAV and classifing in folders"
   ]
  },
  {
   "cell_type": "code",
   "execution_count": 46,
   "id": "1fa0071f",
   "metadata": {},
   "outputs": [
    {
     "name": "stdout",
     "output_type": "stream",
     "text": [
      "directory name: 19i1664\n",
      "directory name: 19i1696\n",
      "directory name: i191706\n",
      "directory name: i191714\n",
      "directory name: i191716\n",
      "directory name: i191763\n",
      "directory name: i191867\n",
      "directory name: i191886\n",
      "directory name: i200567\n",
      "directory name: i200583\n",
      "directory name: i200613\n",
      "directory name: i200626\n",
      "directory name: i200658\n",
      "directory name: i200667\n",
      "directory name: i200676\n",
      "directory name: i200677\n",
      "directory name: i200682\n",
      "directory name: i200693\n",
      "directory name: i200695\n",
      "directory name: i200697\n",
      "directory name: i200709\n",
      "directory name: i200757\n",
      "directory name: i200844\n",
      "directory name: i200894\n",
      "directory name: i200927\n",
      "directory name: i201783\n",
      "directory name: i201787\n",
      "directory name: i201853\n",
      "directory name: i202416\n",
      "directory name: i202446\n",
      "directory name: i202454\n",
      "directory name: i202478\n",
      "directory name: i202651\n",
      "directory name: i202652\n",
      "directory name: i202653\n",
      "directory name: i202654\n",
      "directory name: i202656\n",
      "directory name: i202658\n"
     ]
    }
   ],
   "source": [
    "import pydub\n",
    "from pydub import AudioSegment\n",
    "\n",
    "count=0\n",
    "for d in dirs:\n",
    "        os.chdir(d)\n",
    "        print('directory name:',d)\n",
    "        files=os.listdir()\n",
    "        for f in files: \n",
    "            nam=f.lower()\n",
    "            if nam in wavfiles:\n",
    "                os.rename(nam,d+'_'+nam)\n",
    "                os.chdir('..')\n",
    "                shutil.copy(d+'\\\\'+d+'_'+nam,nam[:-4])\n",
    "                os.chdir(d)\n",
    "         \n",
    "            # AudioSegment.from_file(src).export(dst, format=\"wav\")\n",
    "            \n",
    "        os.chdir('..')"
   ]
  },
  {
   "cell_type": "markdown",
   "id": "3721a365",
   "metadata": {},
   "source": [
    "# Applying MFCC"
   ]
  },
  {
   "cell_type": "code",
   "execution_count": 4,
   "id": "9f70b439",
   "metadata": {},
   "outputs": [],
   "source": [
    "import librosa\n",
    "import soundfile as sf\n",
    "import numpy as np\n",
    "import librosa.display\n",
    "import pandas as pd"
   ]
  },
  {
   "cell_type": "code",
   "execution_count": 9,
   "id": "33f07372",
   "metadata": {},
   "outputs": [
    {
     "data": {
      "text/plain": [
       "'C:\\\\Users\\\\HP\\\\Desktop\\\\Assignment7a\\\\Assignment 7 part 1'"
      ]
     },
     "execution_count": 9,
     "metadata": {},
     "output_type": "execute_result"
    }
   ],
   "source": [
    "#os.chdir('Assignment7a\\Assignment 7 part 1')\n",
    "os.chdir('..')\n",
    "os.getcwd()"
   ]
  },
  {
   "cell_type": "code",
   "execution_count": 10,
   "id": "8d5db5f7",
   "metadata": {},
   "outputs": [],
   "source": [
    "names=[]\n",
    "data=[]\n",
    "for n in range(0,250):\n",
    "    #print(wavfiles[np.random.randint(0,104)][8:-4])\n",
    "    os.chdir(wavfiles[np.random.randint(0,104)][8:-4])\n",
    "    listt=os.listdir()\n",
    "    name=listt[np.random.randint(0,len(listt))]\n",
    "    names.append(name)\n",
    "    x,sr=librosa.load(os.getcwd()+'\\\\'+name)\n",
    "    mfccs2 = librosa.feature.mfcc(x, sr=sr)\n",
    "    data.append(mfccs2)\n",
    "    os.chdir('..')\n",
    "        #print(x[8:-4])"
   ]
  },
  {
   "cell_type": "code",
   "execution_count": 11,
   "id": "fb7332a5",
   "metadata": {},
   "outputs": [
    {
     "data": {
      "text/html": [
       "<div>\n",
       "<style scoped>\n",
       "    .dataframe tbody tr th:only-of-type {\n",
       "        vertical-align: middle;\n",
       "    }\n",
       "\n",
       "    .dataframe tbody tr th {\n",
       "        vertical-align: top;\n",
       "    }\n",
       "\n",
       "    .dataframe thead th {\n",
       "        text-align: right;\n",
       "    }\n",
       "</style>\n",
       "<table border=\"1\" class=\"dataframe\">\n",
       "  <thead>\n",
       "    <tr style=\"text-align: right;\">\n",
       "      <th></th>\n",
       "      <th>Names</th>\n",
       "      <th>MFCC</th>\n",
       "    </tr>\n",
       "  </thead>\n",
       "  <tbody>\n",
       "    <tr>\n",
       "      <th>0</th>\n",
       "      <td>i202416_bethaq ki light jalao.wav</td>\n",
       "      <td>[[-700.2783, -700.2783, -700.2783, -700.2783, ...</td>\n",
       "    </tr>\n",
       "    <tr>\n",
       "      <th>1</th>\n",
       "      <td>19i1664_pichla gaana lagao.wav</td>\n",
       "      <td>[[-289.38364, -274.33685, -265.2443, -230.4615...</td>\n",
       "    </tr>\n",
       "    <tr>\n",
       "      <th>2</th>\n",
       "      <td>i200695_t.v ki awaaz slow karo.wav</td>\n",
       "      <td>[[-559.7691, -559.7691, -559.7691, -559.7691, ...</td>\n",
       "    </tr>\n",
       "    <tr>\n",
       "      <th>3</th>\n",
       "      <td>i191706_songs lagao.wav</td>\n",
       "      <td>[[-577.632, -575.3606, -549.83276, -550.17535,...</td>\n",
       "    </tr>\n",
       "    <tr>\n",
       "      <th>4</th>\n",
       "      <td>i191714_garage ki light band karo.wav</td>\n",
       "      <td>[[-557.83014, -548.56067, -502.72263, -419.524...</td>\n",
       "    </tr>\n",
       "    <tr>\n",
       "      <th>...</th>\n",
       "      <td>...</td>\n",
       "      <td>...</td>\n",
       "    </tr>\n",
       "    <tr>\n",
       "      <th>245</th>\n",
       "      <td>i191763_garage ka bulb off karo.wav</td>\n",
       "      <td>[[-602.9551, -602.9551, -602.9551, -602.9551, ...</td>\n",
       "    </tr>\n",
       "    <tr>\n",
       "      <th>246</th>\n",
       "      <td>i202454_washroom ka bulb band karo.wav</td>\n",
       "      <td>[[-545.57056, -545.57056, -544.9153, -540.7221...</td>\n",
       "    </tr>\n",
       "    <tr>\n",
       "      <th>247</th>\n",
       "      <td>i200567_bathroom ki light off karo.wav</td>\n",
       "      <td>[[-513.70135, -513.70135, -513.70135, -513.701...</td>\n",
       "    </tr>\n",
       "    <tr>\n",
       "      <th>248</th>\n",
       "      <td>i202654_a.c slow karo.wav</td>\n",
       "      <td>[[-555.963, -555.963, -553.47455, -545.3179, -...</td>\n",
       "    </tr>\n",
       "    <tr>\n",
       "      <th>249</th>\n",
       "      <td>i200677_bathroom ka bulb on karo.wav</td>\n",
       "      <td>[[-674.9821, -674.9821, -674.50885, -672.93585...</td>\n",
       "    </tr>\n",
       "  </tbody>\n",
       "</table>\n",
       "<p>250 rows × 2 columns</p>\n",
       "</div>"
      ],
      "text/plain": [
       "                                      Names  \\\n",
       "0         i202416_bethaq ki light jalao.wav   \n",
       "1            19i1664_pichla gaana lagao.wav   \n",
       "2        i200695_t.v ki awaaz slow karo.wav   \n",
       "3                   i191706_songs lagao.wav   \n",
       "4     i191714_garage ki light band karo.wav   \n",
       "..                                      ...   \n",
       "245     i191763_garage ka bulb off karo.wav   \n",
       "246  i202454_washroom ka bulb band karo.wav   \n",
       "247  i200567_bathroom ki light off karo.wav   \n",
       "248               i202654_a.c slow karo.wav   \n",
       "249    i200677_bathroom ka bulb on karo.wav   \n",
       "\n",
       "                                                  MFCC  \n",
       "0    [[-700.2783, -700.2783, -700.2783, -700.2783, ...  \n",
       "1    [[-289.38364, -274.33685, -265.2443, -230.4615...  \n",
       "2    [[-559.7691, -559.7691, -559.7691, -559.7691, ...  \n",
       "3    [[-577.632, -575.3606, -549.83276, -550.17535,...  \n",
       "4    [[-557.83014, -548.56067, -502.72263, -419.524...  \n",
       "..                                                 ...  \n",
       "245  [[-602.9551, -602.9551, -602.9551, -602.9551, ...  \n",
       "246  [[-545.57056, -545.57056, -544.9153, -540.7221...  \n",
       "247  [[-513.70135, -513.70135, -513.70135, -513.701...  \n",
       "248  [[-555.963, -555.963, -553.47455, -545.3179, -...  \n",
       "249  [[-674.9821, -674.9821, -674.50885, -672.93585...  \n",
       "\n",
       "[250 rows x 2 columns]"
      ]
     },
     "execution_count": 11,
     "metadata": {},
     "output_type": "execute_result"
    }
   ],
   "source": [
    "df=pd.DataFrame({'Names':names,'MFCC':data})\n",
    "df"
   ]
  },
  {
   "cell_type": "code",
   "execution_count": 12,
   "id": "009f76f9",
   "metadata": {},
   "outputs": [
    {
     "data": {
      "text/html": [
       "<div>\n",
       "<style scoped>\n",
       "    .dataframe tbody tr th:only-of-type {\n",
       "        vertical-align: middle;\n",
       "    }\n",
       "\n",
       "    .dataframe tbody tr th {\n",
       "        vertical-align: top;\n",
       "    }\n",
       "\n",
       "    .dataframe thead th {\n",
       "        text-align: right;\n",
       "    }\n",
       "</style>\n",
       "<table border=\"1\" class=\"dataframe\">\n",
       "  <thead>\n",
       "    <tr style=\"text-align: right;\">\n",
       "      <th></th>\n",
       "      <th>Names</th>\n",
       "      <th>MFCC</th>\n",
       "      <th>Label</th>\n",
       "    </tr>\n",
       "  </thead>\n",
       "  <tbody>\n",
       "    <tr>\n",
       "      <th>0</th>\n",
       "      <td>i202416_bethaq ki light jalao.wav</td>\n",
       "      <td>[[-700.2783, -700.2783, -700.2783, -700.2783, ...</td>\n",
       "      <td>166</td>\n",
       "    </tr>\n",
       "    <tr>\n",
       "      <th>1</th>\n",
       "      <td>19i1664_pichla gaana lagao.wav</td>\n",
       "      <td>[[-289.38364, -274.33685, -265.2443, -230.4615...</td>\n",
       "      <td>6</td>\n",
       "    </tr>\n",
       "    <tr>\n",
       "      <th>2</th>\n",
       "      <td>i200695_t.v ki awaaz slow karo.wav</td>\n",
       "      <td>[[-559.7691, -559.7691, -559.7691, -559.7691, ...</td>\n",
       "      <td>102</td>\n",
       "    </tr>\n",
       "    <tr>\n",
       "      <th>3</th>\n",
       "      <td>i191706_songs lagao.wav</td>\n",
       "      <td>[[-577.632, -575.3606, -549.83276, -550.17535,...</td>\n",
       "      <td>19</td>\n",
       "    </tr>\n",
       "    <tr>\n",
       "      <th>4</th>\n",
       "      <td>i191714_garage ki light band karo.wav</td>\n",
       "      <td>[[-557.83014, -548.56067, -502.72263, -419.524...</td>\n",
       "      <td>25</td>\n",
       "    </tr>\n",
       "    <tr>\n",
       "      <th>...</th>\n",
       "      <td>...</td>\n",
       "      <td>...</td>\n",
       "      <td>...</td>\n",
       "    </tr>\n",
       "    <tr>\n",
       "      <th>245</th>\n",
       "      <td>i191763_garage ka bulb off karo.wav</td>\n",
       "      <td>[[-602.9551, -602.9551, -602.9551, -602.9551, ...</td>\n",
       "      <td>36</td>\n",
       "    </tr>\n",
       "    <tr>\n",
       "      <th>246</th>\n",
       "      <td>i202454_washroom ka bulb band karo.wav</td>\n",
       "      <td>[[-545.57056, -545.57056, -544.9153, -540.7221...</td>\n",
       "      <td>189</td>\n",
       "    </tr>\n",
       "    <tr>\n",
       "      <th>247</th>\n",
       "      <td>i200567_bathroom ki light off karo.wav</td>\n",
       "      <td>[[-513.70135, -513.70135, -513.70135, -513.701...</td>\n",
       "      <td>49</td>\n",
       "    </tr>\n",
       "    <tr>\n",
       "      <th>248</th>\n",
       "      <td>i202654_a.c slow karo.wav</td>\n",
       "      <td>[[-555.963, -555.963, -553.47455, -545.3179, -...</td>\n",
       "      <td>219</td>\n",
       "    </tr>\n",
       "    <tr>\n",
       "      <th>249</th>\n",
       "      <td>i200677_bathroom ka bulb on karo.wav</td>\n",
       "      <td>[[-674.9821, -674.9821, -674.50885, -672.93585...</td>\n",
       "      <td>84</td>\n",
       "    </tr>\n",
       "  </tbody>\n",
       "</table>\n",
       "<p>250 rows × 3 columns</p>\n",
       "</div>"
      ],
      "text/plain": [
       "                                      Names  \\\n",
       "0         i202416_bethaq ki light jalao.wav   \n",
       "1            19i1664_pichla gaana lagao.wav   \n",
       "2        i200695_t.v ki awaaz slow karo.wav   \n",
       "3                   i191706_songs lagao.wav   \n",
       "4     i191714_garage ki light band karo.wav   \n",
       "..                                      ...   \n",
       "245     i191763_garage ka bulb off karo.wav   \n",
       "246  i202454_washroom ka bulb band karo.wav   \n",
       "247  i200567_bathroom ki light off karo.wav   \n",
       "248               i202654_a.c slow karo.wav   \n",
       "249    i200677_bathroom ka bulb on karo.wav   \n",
       "\n",
       "                                                  MFCC  Label  \n",
       "0    [[-700.2783, -700.2783, -700.2783, -700.2783, ...    166  \n",
       "1    [[-289.38364, -274.33685, -265.2443, -230.4615...      6  \n",
       "2    [[-559.7691, -559.7691, -559.7691, -559.7691, ...    102  \n",
       "3    [[-577.632, -575.3606, -549.83276, -550.17535,...     19  \n",
       "4    [[-557.83014, -548.56067, -502.72263, -419.524...     25  \n",
       "..                                                 ...    ...  \n",
       "245  [[-602.9551, -602.9551, -602.9551, -602.9551, ...     36  \n",
       "246  [[-545.57056, -545.57056, -544.9153, -540.7221...    189  \n",
       "247  [[-513.70135, -513.70135, -513.70135, -513.701...     49  \n",
       "248  [[-555.963, -555.963, -553.47455, -545.3179, -...    219  \n",
       "249  [[-674.9821, -674.9821, -674.50885, -672.93585...     84  \n",
       "\n",
       "[250 rows x 3 columns]"
      ]
     },
     "execution_count": 12,
     "metadata": {},
     "output_type": "execute_result"
    }
   ],
   "source": [
    "from sklearn.preprocessing import LabelEncoder\n",
    "le=LabelEncoder()\n",
    "df['Label']=le.fit_transform(df['Names'])\n",
    "df"
   ]
  },
  {
   "cell_type": "code",
   "execution_count": null,
   "id": "80da6293",
   "metadata": {},
   "outputs": [],
   "source": []
  }
 ],
 "metadata": {
  "kernelspec": {
   "display_name": "Python 3 (ipykernel)",
   "language": "python",
   "name": "python3"
  },
  "language_info": {
   "codemirror_mode": {
    "name": "ipython",
    "version": 3
   },
   "file_extension": ".py",
   "mimetype": "text/x-python",
   "name": "python",
   "nbconvert_exporter": "python",
   "pygments_lexer": "ipython3",
   "version": "3.8.12"
  }
 },
 "nbformat": 4,
 "nbformat_minor": 5
}
