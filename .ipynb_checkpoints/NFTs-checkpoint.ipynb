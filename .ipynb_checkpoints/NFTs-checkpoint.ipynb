{
 "cells": [
  {
   "cell_type": "code",
   "execution_count": 1,
   "id": "018b4a7e",
   "metadata": {},
   "outputs": [],
   "source": [
    "import numpy as np"
   ]
  },
  {
   "cell_type": "code",
   "execution_count": 4,
   "id": "ef6c429c",
   "metadata": {},
   "outputs": [
    {
     "ename": "SyntaxError",
     "evalue": "unexpected EOF while parsing (Temp/ipykernel_4528/2933623145.py, line 19)",
     "output_type": "error",
     "traceback": [
      "\u001b[1;36m  File \u001b[1;32m\"C:\\Users\\Latitude\\AppData\\Local\\Temp/ipykernel_4528/2933623145.py\"\u001b[1;36m, line \u001b[1;32m19\u001b[0m\n\u001b[1;33m    \u001b[0m\n\u001b[1;37m    ^\u001b[0m\n\u001b[1;31mSyntaxError\u001b[0m\u001b[1;31m:\u001b[0m unexpected EOF while parsing\n"
     ]
    }
   ],
   "source": [
    "#\n",
    "color = ['blue','red','green','white','pink','purple','red']\n",
    "shapes = ['rectangle','triangle','circle','polygon','hexagon','star']\n",
    "lines = ['curves','waves','straight','round','spiral']\n",
    "fiction = ['fiction', 'non-fiction']\n",
    "complex1 = ['simple', 'complex', 'compound','symmetrical','asymmetrical'] \n",
    "\n",
    "sentences = []\n",
    "for i in range(len(color)):\n",
    "    str1=''\n",
    "    str1+=' ' + color[i]\n",
    "    for j in range(len(shapes)):\n",
    "        str1+=' ' + shapes[j]\n",
    "        for k in range(len(lines)):\n",
    "            str1+=' ' + lines[k]\n",
    "            for l in range(len(fiction)):\n",
    "                str1+= ' ' + fiction[l]\n",
    "                for m in range(len(complex1)):\n",
    "                    str1+=' ' + complex1[m]\n",
    "    sentences.append(sent)\n",
    "    "
   ]
  }
 ],
 "metadata": {
  "kernelspec": {
   "display_name": "Python 3 (ipykernel)",
   "language": "python",
   "name": "python3"
  },
  "language_info": {
   "codemirror_mode": {
    "name": "ipython",
    "version": 3
   },
   "file_extension": ".py",
   "mimetype": "text/x-python",
   "name": "python",
   "nbconvert_exporter": "python",
   "pygments_lexer": "ipython3",
   "version": "3.8.12"
  }
 },
 "nbformat": 4,
 "nbformat_minor": 5
}
