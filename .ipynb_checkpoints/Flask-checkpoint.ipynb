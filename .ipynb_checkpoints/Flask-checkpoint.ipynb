{
 "cells": [
  {
   "cell_type": "code",
   "execution_count": 7,
   "id": "2e9449f4",
   "metadata": {},
   "outputs": [
    {
     "name": "stdout",
     "output_type": "stream",
     "text": [
      "Collecting Flask-SQLAlchemy\n",
      "  Downloading Flask_SQLAlchemy-2.5.1-py2.py3-none-any.whl (17 kB)\n",
      "Requirement already satisfied: SQLAlchemy>=0.8.0 in c:\\users\\latitude\\anaconda3\\lib\\site-packages (from Flask-SQLAlchemy) (1.4.7)\n",
      "Requirement already satisfied: Flask>=0.10 in c:\\users\\latitude\\anaconda3\\lib\\site-packages (from Flask-SQLAlchemy) (1.1.2)\n",
      "Requirement already satisfied: click>=5.1 in c:\\users\\latitude\\anaconda3\\lib\\site-packages (from Flask>=0.10->Flask-SQLAlchemy) (7.1.2)\n",
      "Requirement already satisfied: Werkzeug>=0.15 in c:\\users\\latitude\\anaconda3\\lib\\site-packages (from Flask>=0.10->Flask-SQLAlchemy) (1.0.1)\n",
      "Requirement already satisfied: Jinja2>=2.10.1 in c:\\users\\latitude\\anaconda3\\lib\\site-packages (from Flask>=0.10->Flask-SQLAlchemy) (2.11.3)\n",
      "Requirement already satisfied: itsdangerous>=0.24 in c:\\users\\latitude\\anaconda3\\lib\\site-packages (from Flask>=0.10->Flask-SQLAlchemy) (1.1.0)\n",
      "Requirement already satisfied: MarkupSafe>=0.23 in c:\\users\\latitude\\anaconda3\\lib\\site-packages (from Jinja2>=2.10.1->Flask>=0.10->Flask-SQLAlchemy) (1.1.1)\n",
      "Requirement already satisfied: greenlet!=0.4.17 in c:\\users\\latitude\\anaconda3\\lib\\site-packages (from SQLAlchemy>=0.8.0->Flask-SQLAlchemy) (1.0.0)\n",
      "Installing collected packages: Flask-SQLAlchemy\n",
      "Successfully installed Flask-SQLAlchemy-2.5.1\n"
     ]
    }
   ],
   "source": [
    "# !pip install flask\n",
    "# !pip install sqlalchemy\n",
    "# !pip install Flask-SQLAlchemy"
   ]
  },
  {
   "cell_type": "code",
   "execution_count": 6,
   "id": "632b83be",
   "metadata": {},
   "outputs": [
    {
     "ename": "ModuleNotFoundError",
     "evalue": "No module named 'flask_sqlalchemy'",
     "output_type": "error",
     "traceback": [
      "\u001b[1;31m---------------------------------------------------------------------------\u001b[0m",
      "\u001b[1;31mModuleNotFoundError\u001b[0m                       Traceback (most recent call last)",
      "\u001b[1;32m<ipython-input-6-40f160de0d73>\u001b[0m in \u001b[0;36m<module>\u001b[1;34m\u001b[0m\n\u001b[0;32m      1\u001b[0m \u001b[1;32mfrom\u001b[0m \u001b[0mflask\u001b[0m \u001b[1;32mimport\u001b[0m \u001b[0mFlask\u001b[0m\u001b[1;33m,\u001b[0m \u001b[0mrender_template\u001b[0m\u001b[1;33m\u001b[0m\u001b[1;33m\u001b[0m\u001b[0m\n\u001b[1;32m----> 2\u001b[1;33m \u001b[1;32mfrom\u001b[0m \u001b[0mflask_sqlalchemy\u001b[0m \u001b[1;32mimport\u001b[0m \u001b[0mSQLAlchemy\u001b[0m\u001b[1;33m\u001b[0m\u001b[1;33m\u001b[0m\u001b[0m\n\u001b[0m",
      "\u001b[1;31mModuleNotFoundError\u001b[0m: No module named 'flask_sqlalchemy'"
     ]
    }
   ],
   "source": [
    "from flask import Flask, render_template\n",
    "from flask_sqlalchemy import SQLAlchemy"
   ]
  },
  {
   "cell_type": "code",
   "execution_count": null,
   "id": "e67d8d37",
   "metadata": {},
   "outputs": [],
   "source": []
  }
 ],
 "metadata": {
  "kernelspec": {
   "display_name": "Python 3",
   "language": "python",
   "name": "python3"
  },
  "language_info": {
   "codemirror_mode": {
    "name": "ipython",
    "version": 3
   },
   "file_extension": ".py",
   "mimetype": "text/x-python",
   "name": "python",
   "nbconvert_exporter": "python",
   "pygments_lexer": "ipython3",
   "version": "3.8.8"
  }
 },
 "nbformat": 4,
 "nbformat_minor": 5
}
