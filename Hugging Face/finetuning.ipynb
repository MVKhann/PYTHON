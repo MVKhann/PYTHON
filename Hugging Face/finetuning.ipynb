{
 "cells": [
  {
   "cell_type": "code",
   "execution_count": null,
   "metadata": {},
   "outputs": [],
   "source": [
    "# How to prepare a large dataset from the Hub\n",
    "# How to use the high-level Trainer API to fine-tune a model\n",
    "# How to use a custom training loop\n",
    "# How to leverage the 🤗 Accelerate library to easily run that custom training loop on any distributed setup\n",
    "\n",
    "\n"
   ]
  }
 ],
 "metadata": {
  "language_info": {
   "name": "python"
  },
  "orig_nbformat": 4
 },
 "nbformat": 4,
 "nbformat_minor": 2
}
