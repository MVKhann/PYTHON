{
 "cells": [
  {
   "cell_type": "markdown",
   "id": "b1c269c5",
   "metadata": {},
   "source": [
    "# Q1"
   ]
  },
  {
   "cell_type": "code",
   "execution_count": 7,
   "id": "f2142978",
   "metadata": {},
   "outputs": [],
   "source": [
    "\n",
    "def q1(str):\n",
    "    word = 50 #to make the if statement run the first time\n",
    "    idx = 0\n",
    "    spaceIdx = 0\n",
    "    #for size of the string\n",
    "    size = 0\n",
    "    for i in str:\n",
    "        size+=1\n",
    "    #loop to get the smallest word and its size\n",
    "    while idx!=size:\n",
    "        count=-1\n",
    "        if str[idx] == ' ':\n",
    "            for i in range(spaceIdx,idx):\n",
    "                count+=1\n",
    "            if count>1 and count<=word:\n",
    "                word = count\n",
    "                smallword=str[spaceIdx:idx]\n",
    "            spaceIdx = idx\n",
    "        idx+=1\n",
    "        \n",
    "    print(smallword,word)        \n",
    "      "
   ]
  },
  {
   "cell_type": "code",
   "execution_count": 8,
   "id": "2d447137",
   "metadata": {},
   "outputs": [
    {
     "name": "stdout",
     "output_type": "stream",
     "text": [
      "Enter the string : this is a very long sentence boy\n",
      " is 2\n"
     ]
    }
   ],
   "source": [
    "str1 = input(\"Enter the string : \")\n",
    "q1(str1)"
   ]
  },
  {
   "cell_type": "markdown",
   "id": "a85dc80e",
   "metadata": {},
   "source": [
    "# Q2"
   ]
  },
  {
   "cell_type": "code",
   "execution_count": 3,
   "id": "863a4a1e",
   "metadata": {},
   "outputs": [],
   "source": [
    "def q2(str):\n",
    "    digits=0\n",
    "    alpha=0\n",
    "    sentences=0\n",
    "    spaces=0\n",
    "    others=0\n",
    "    words=1\n",
    "    idx = 0\n",
    "    #finding size of the string\n",
    "    size=0\n",
    "    for i in str:\n",
    "        size+=1\n",
    "    #while loop to calculate everything\n",
    "    while idx!=size:\n",
    "        if str[idx] == ' ':\n",
    "            spaces+=1\n",
    "        elif str[idx] == ' ' and str[idx-1] >= '0':\n",
    "            words+=1\n",
    "        elif str[idx] >= '0' and str[idx] <= '9':\n",
    "            digits+=1\n",
    "        elif str[idx] == '.':\n",
    "            sentences+=1\n",
    "            others+=1\n",
    "        elif str[idx] >='A' and str[idx] <='z':\n",
    "            alpha+=1\n",
    "        else:\n",
    "            others+=1\n",
    "        if idx == size-1 and str[idx]!='.':\n",
    "            sentences+=1\n",
    "        idx+=1\n",
    "        \n",
    "    return words,digits,alpha,sentences,spaces,others\n",
    "\n"
   ]
  },
  {
   "cell_type": "code",
   "execution_count": 4,
   "id": "94a7074a",
   "metadata": {},
   "outputs": [
    {
     "name": "stdout",
     "output_type": "stream",
     "text": [
      "Enter the String : i'm 20 years old now. i will be 21 next year. is am\n",
      "Sentences:  3\n",
      "Spaces:  12\n",
      "Words:  1\n",
      "Digits:  4\n",
      "alphabets:  32\n",
      "Others:  3\n"
     ]
    }
   ],
   "source": [
    "str1 = input(\"Enter the String : \")\n",
    "w,d,a,sent,spac,o = q2(str1)\n",
    "print (\"Sentences: \",sent)\n",
    "print (\"Spaces: \",spac)\n",
    "print (\"Words: \",w)\n",
    "print (\"Digits: \",d)\n",
    "print (\"alphabets: \",a)\n",
    "print (\"Others: \",o)"
   ]
  },
  {
   "cell_type": "markdown",
   "id": "cfad87b1",
   "metadata": {},
   "source": [
    "# Q3"
   ]
  },
  {
   "cell_type": "code",
   "execution_count": 5,
   "id": "74c871c0",
   "metadata": {},
   "outputs": [],
   "source": [
    "def CountSizeOfWords(str):\n",
    "    size = 0\n",
    "    k=0\n",
    "    cntr=0\n",
    "    space = 0\n",
    "    for i in str:\n",
    "        size+=1\n",
    "        if i == ' ':\n",
    "            space+=1\n",
    "    array = [0,0,0,0,0,0,0]\n",
    "    idx=0\n",
    "    while idx!=size:\n",
    "        cntr=-1\n",
    "        if str[idx]==' ' or idx==size-1:\n",
    "            for i in range(k,idx):\n",
    "                cntr+=1\n",
    "            if(idx == size-1):\n",
    "                cntr+=1\n",
    "            if cntr < 6:\n",
    "                array[cntr] += 1\n",
    "            else:\n",
    "                array[6] += 1\n",
    "            k=idx+1\n",
    "        idx+=1\n",
    "    return array"
   ]
  },
  {
   "cell_type": "code",
   "execution_count": 6,
   "id": "d1a16369",
   "metadata": {},
   "outputs": [
    {
     "name": "stdout",
     "output_type": "stream",
     "text": [
      "Enter string :  authenticity is the key ko success\n",
      "The string contains \n",
      "2 two-letter\n",
      "2 three-letter\n",
      "2 more-than-six-letter\n",
      "words\n"
     ]
    }
   ],
   "source": [
    "arr = input(\"Enter string :  \")\n",
    "arrayofcounts = CountSizeOfWords(arr)\n",
    "print(\"The string contains \")\n",
    "if arrayofcounts[0] > 0:\n",
    "    print(arrayofcounts[0],\"one-letter\")          \n",
    "if arrayofcounts[1] > 0:\n",
    "    print(arrayofcounts[1],\"two-letter\")\n",
    "if arrayofcounts[2] > 0:\n",
    "    print(arrayofcounts[2],\"three-letter\")\n",
    "if arrayofcounts[3] > 0:\n",
    "    print(arrayofcounts[3],\"four-letter\")\n",
    "if arrayofcounts[4] > 0:\n",
    "    print(arrayofcounts[4],\"five-letter\")\n",
    "if arrayofcounts[5] > 0:\n",
    "    print(arrayofcounts[5],\"six-letter\")\n",
    "if arrayofcounts[6] > 0:\n",
    "    print(arrayofcounts[6],\"more-than-six-letter\")\n",
    "print(\"words\")\n"
   ]
  },
  {
   "cell_type": "markdown",
   "id": "770ca9a6",
   "metadata": {},
   "source": [
    "# Q4"
   ]
  },
  {
   "cell_type": "code",
   "execution_count": null,
   "id": "4f9e7101",
   "metadata": {},
   "outputs": [],
   "source": [
    "# def q4(l1,l2,l3,l4):\n",
    "    common = [0,0,0,0,0,0,0,0,0,0,0,0,0,0,0,0,0,0,0,0,0,0,0,0]\n",
    "    elem=0\n",
    "    print(\"Common Elements : \")\n",
    "    for i in range(6):\n",
    "        for j in range(6):\n",
    "            if l1[i] == l2[j] or l1[i] == l3[j] or l1[i] == l4[j]:\n",
    "                common[elem]=l1[i]\n",
    "                for k in range(elem):\n",
    "                    if common[k] == common[elem]:\n",
    "                        common[elem]=0\n",
    "                elem+=1\n",
    "            if l2[i] == l3[j] or l2[i] == l4[j]:\n",
    "                common[elem]=l2[i]\n",
    "                for k in range(elem):\n",
    "                    if common[k] == common[elem]:\n",
    "                        common[elem]=0\n",
    "                elem+=1\n",
    "            if l3[i] == l4[j]:\n",
    "                common[elem]=l3[i]\n",
    "                for k in range(elem):\n",
    "                    if common[k] == common[elem]:\n",
    "                        common[elem]=0\n",
    "                elem+=1\n",
    "    for j in common:\n",
    "        if j !=0:\n",
    "            print(j)\n"
   ]
  },
  {
   "cell_type": "code",
   "execution_count": 8,
   "id": "62ed0749",
   "metadata": {},
   "outputs": [
    {
     "name": "stdout",
     "output_type": "stream",
     "text": [
      "Common Elements : \n",
      "9\n",
      "5\n",
      "7\n",
      "13\n",
      "17\n",
      "11\n"
     ]
    }
   ],
   "source": [
    "list1 = [1, 3, 5, 7, 9, 11]\n",
    "list2 = [5, 8, 14, 17, 18, 19]\n",
    "list3 = [9, 7, 12, 13, 15,0]\n",
    "list4 = [4, 9, 11, 13, 17,0]\n",
    "\n",
    "q4(list1,list2,list3,list4)\n"
   ]
  },
  {
   "cell_type": "markdown",
   "id": "3c1f3b75",
   "metadata": {},
   "source": [
    "# Q5"
   ]
  },
  {
   "cell_type": "code",
   "execution_count": 9,
   "id": "2f49e879",
   "metadata": {},
   "outputs": [],
   "source": [
    "def q5(d1,d2):\n",
    "    array=[0,0,0,0]\n",
    "    idx=0\n",
    "    for k in d1.keys():\n",
    "        array[idx] = k\n",
    "        idx+=1\n",
    "    for j in range(3):\n",
    "            if d1[array[j]] == d2[array[j]]:\n",
    "                print(array[j],d1[array[j]])\n",
    "    print(\"is present in both dictionaries d1 and d2\")\n"
   ]
  },
  {
   "cell_type": "code",
   "execution_count": 10,
   "id": "c6c7af84",
   "metadata": {},
   "outputs": [
    {
     "name": "stdout",
     "output_type": "stream",
     "text": [
      "k1 1\n",
      "k3 2\n",
      "is present in both dictionaries d1 and d2\n"
     ]
    }
   ],
   "source": [
    "dict1 = {'k1': 1, 'k2': 3, 'k3': 2, 'k4':3}\n",
    "dict2 = {'k1': 1, 'k2': 2, 'k3': 2}\n",
    "q5(dict1,dict2)\n"
   ]
  },
  {
   "cell_type": "code",
   "execution_count": 11,
   "id": "a55a9d90",
   "metadata": {},
   "outputs": [],
   "source": [
    "def q6(str):\n",
    "    #variables\n",
    "    space = 1\n",
    "    size=0\n",
    "    k=0\n",
    "    b=True#bool to use for a condition to run once\n",
    "    idx=0\n",
    "    cntr=0\n",
    "    #size\n",
    "    for i in str:\n",
    "        size+=1\n",
    "        if(i==' '):\n",
    "            space+=1\n",
    "    #arrays\n",
    "    count_arr = [0]*space\n",
    "    size_arr = [0]*space\n",
    "    words_arr = [\"0\"]*space\n",
    "    r=1\n",
    "    #storing words in list and their counts in another array\n",
    "    for i in range(size):\n",
    "        if str[i]==' ':\n",
    "            cntr=0\n",
    "            words_arr[idx] = str[k:i]\n",
    "            for j in range(k+1,i):\n",
    "                cntr+=1\n",
    "                if(i==0):\n",
    "                    cntr+=1\n",
    "            if(idx!=0):\n",
    "                size_arr[idx] = cntr\n",
    "            else:\n",
    "                size_arr[idx] = cntr+1\n",
    "            idx+=1\n",
    "            k=i\n",
    "        if i==size-1:\n",
    "            cntr=0\n",
    "            words_arr[idx] = str[k+1:i+1]\n",
    "            for j in range(k+1,i+1):\n",
    "                cntr+=1\n",
    "            size_arr[idx] = cntr\n",
    "            idx+=1\n",
    "            k=i\n",
    "    words_arr[0] = ' '+words_arr[0]\n",
    "    \n",
    "    #counting words if repeated\n",
    "    for i in range(space):\n",
    "        b=True\n",
    "        for j in range(space):\n",
    "            if words_arr[i] == words_arr[j]:\n",
    "                count_arr[i]+=1\n",
    "                if(b==False):\n",
    "                    words_arr[j]=\"0\"\n",
    "                    count_arr[j]=0\n",
    "                    size_arr[j]=0\n",
    "                \n",
    "    \n",
    "    #removing repeated words\n",
    "    m=0\n",
    "    for i in range(space):\n",
    "        if(count_arr[i]==1):\n",
    "            m+=1\n",
    "        if(count_arr[i]>1):\n",
    "            j+=1\n",
    "    s = int(space-(m-j))\n",
    "    n_words_arr = [\"0\"]*s\n",
    "    n_count_arr = [0]*s\n",
    "    n_size_arr = [0]*s\n",
    "    \n",
    "    \n",
    "    idx=0\n",
    "    b=True\n",
    "    for i in range(space):\n",
    "        if count_arr[i]>=1 :\n",
    "            n_words_arr[idx] = words_arr[i]\n",
    "            n_count_arr[idx] = count_arr[i]\n",
    "            n_size_arr[idx] = size_arr[i]\n",
    "            idx+=1\n",
    "\n",
    "    b=True\n",
    "    #sorting in alpha numeric form\n",
    "    for i in range(s):\n",
    "        for j in range(s-1):\n",
    "            if (n_words_arr[j] > n_words_arr[j+1] or ord(n_words_arr[j][0])>ord(n_words_arr[j+1][0])+32):\n",
    "                temp = n_words_arr[j]\n",
    "                temp2 = n_count_arr[j]\n",
    "                temp3 = n_size_arr[j]\n",
    "                n_words_arr[j] = n_words_arr[j+1]\n",
    "                n_size_arr[j] = n_size_arr[j+1]\n",
    "                n_count_arr[j] = n_count_arr[j+1]\n",
    "                n_words_arr[j+1] = temp\n",
    "                n_count_arr[j+1] = temp2\n",
    "                n_size_arr[j+1] = temp3\n",
    "\n",
    "     #printing the non repeating array\n",
    "    for i in range(s):\n",
    "        if(n_words_arr[i]!=\"0\" and n_count_arr[i]!=0):\n",
    "            if n_words_arr[i] != n_words_arr[i-1]:\n",
    "                print(n_words_arr[i],\" : \",n_count_arr[i])\n",
    "                \n"
   ]
  },
  {
   "cell_type": "code",
   "execution_count": 12,
   "id": "e5674c3b",
   "metadata": {},
   "outputs": [
    {
     "name": "stdout",
     "output_type": "stream",
     "text": [
      " 2  :  1\n",
      " I  :  2\n",
      " am  :  3\n",
      " but  :  1\n",
      " choose  :  1\n",
      " confused  :  1\n",
      " love  :  1\n",
      " or  :  1\n",
      " python  :  2\n",
      " should  :  1\n",
      " whether  :  1\n",
      "python3.  :  1\n"
     ]
    }
   ],
   "source": [
    "str1 = input(\"Enter the string : \")\n",
    "q6(str1)"
   ]
  },
  {
   "cell_type": "code",
   "execution_count": null,
   "id": "297dab7c",
   "metadata": {},
   "outputs": [],
   "source": []
  }
 ],
 "metadata": {
  "kernelspec": {
   "display_name": "Python 3",
   "language": "python",
   "name": "python3"
  },
  "language_info": {
   "codemirror_mode": {
    "name": "ipython",
    "version": 3
   },
   "file_extension": ".py",
   "mimetype": "text/x-python",
   "name": "python",
   "nbconvert_exporter": "python",
   "pygments_lexer": "ipython3",
   "version": "3.8.8"
  }
 },
 "nbformat": 4,
 "nbformat_minor": 5
}
